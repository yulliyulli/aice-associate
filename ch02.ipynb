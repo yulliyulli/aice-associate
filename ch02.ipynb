{
 "cells": [
  {
   "cell_type": "markdown",
   "metadata": {},
   "source": [
    "# CH02. 데이터 획득하기"
   ]
  },
  {
   "cell_type": "markdown",
   "metadata": {},
   "source": [
    "## SECTION 01. 파이썬 데이터 분석 라이브러리 활용하기"
   ]
  },
  {
   "cell_type": "markdown",
   "metadata": {},
   "source": [
    "넘파이(Numpy)\n",
    "- 수치 데이터를 다루는 데 활용하는 파이썬 라이브러리\n",
    "- `ndarray` 넘파이를 통해 생성되는 n차원 배열(array) 객체"
   ]
  },
  {
   "cell_type": "code",
   "execution_count": 1,
   "metadata": {},
   "outputs": [],
   "source": [
    "import numpy as np\n",
    "a = np.array([1,2,3,4,5])"
   ]
  },
  {
   "cell_type": "code",
   "execution_count": 2,
   "metadata": {},
   "outputs": [
    {
     "data": {
      "text/plain": [
       "numpy.ndarray"
      ]
     },
     "execution_count": 2,
     "metadata": {},
     "output_type": "execute_result"
    }
   ],
   "source": [
    "type(a)"
   ]
  },
  {
   "cell_type": "markdown",
   "metadata": {},
   "source": [
    "판다스(Pandas)\n",
    "- 데이터 배열이나 테이블 형태의 데이터(tublar data) 등의 자료  구조를 처리하기 위한 라이브러리\n",
    "- `Series` 1차원으로 구성된 데이터 배열\n",
    "- `DataFrame` 행(Row) 와 열(Column)으로 구성된 2차원 데이터 테이블"
   ]
  },
  {
   "cell_type": "code",
   "execution_count": 6,
   "metadata": {},
   "outputs": [],
   "source": [
    "import pandas as pd"
   ]
  },
  {
   "cell_type": "code",
   "execution_count": 7,
   "metadata": {},
   "outputs": [
    {
     "data": {
      "text/plain": [
       "0    대한\n",
       "1    민국\n",
       "dtype: object"
      ]
     },
     "execution_count": 7,
     "metadata": {},
     "output_type": "execute_result"
    }
   ],
   "source": [
    "pd.Series(['대한', '민국'])"
   ]
  },
  {
   "cell_type": "code",
   "execution_count": 8,
   "metadata": {},
   "outputs": [
    {
     "data": {
      "text/html": [
       "<div>\n",
       "<style scoped>\n",
       "    .dataframe tbody tr th:only-of-type {\n",
       "        vertical-align: middle;\n",
       "    }\n",
       "\n",
       "    .dataframe tbody tr th {\n",
       "        vertical-align: top;\n",
       "    }\n",
       "\n",
       "    .dataframe thead th {\n",
       "        text-align: right;\n",
       "    }\n",
       "</style>\n",
       "<table border=\"1\" class=\"dataframe\">\n",
       "  <thead>\n",
       "    <tr style=\"text-align: right;\">\n",
       "      <th></th>\n",
       "      <th>a</th>\n",
       "    </tr>\n",
       "  </thead>\n",
       "  <tbody>\n",
       "    <tr>\n",
       "      <th>0</th>\n",
       "      <td>1</td>\n",
       "    </tr>\n",
       "    <tr>\n",
       "      <th>1</th>\n",
       "      <td>2</td>\n",
       "    </tr>\n",
       "    <tr>\n",
       "      <th>2</th>\n",
       "      <td>3</td>\n",
       "    </tr>\n",
       "  </tbody>\n",
       "</table>\n",
       "</div>"
      ],
      "text/plain": [
       "   a\n",
       "0  1\n",
       "1  2\n",
       "2  3"
      ]
     },
     "execution_count": 8,
     "metadata": {},
     "output_type": "execute_result"
    }
   ],
   "source": [
    "pd.DataFrame({\"a\":[1,2,3]})"
   ]
  },
  {
   "cell_type": "markdown",
   "metadata": {},
   "source": [
    "Python 자료형\n",
    "- List, Tuple ,Dictionary"
   ]
  },
  {
   "cell_type": "markdown",
   "metadata": {},
   "source": [
    "## SECTION 02. 데이터 불러오기"
   ]
  },
  {
   "cell_type": "markdown",
   "metadata": {},
   "source": [
    "다양한 형태의 데이터를 불러오기 위해 read_xxx 함수를 주로 사용한다.\n",
    "- `read_csv`, `read_html`, `read_json`\n",
    "- .csv 파일에 한글이 들어 있는 경우 인코딩 오류가 발생할 수 있다. "
   ]
  },
  {
   "cell_type": "code",
   "execution_count": 9,
   "metadata": {},
   "outputs": [],
   "source": [
    "import pandas as pd\n",
    "flight = pd.read_csv('./dataset/Clean_Dataset.csv')"
   ]
  },
  {
   "cell_type": "markdown",
   "metadata": {},
   "source": [
    "## SECTION 03. 데이터 저장하기"
   ]
  },
  {
   "cell_type": "markdown",
   "metadata": {},
   "source": [
    "데이터를 저장하기 위해 to_xxx 를 사용한다. "
   ]
  },
  {
   "cell_type": "code",
   "execution_count": 11,
   "metadata": {},
   "outputs": [],
   "source": [
    "a2 = pd.DataFrame({\"a\":[1,2,3]})\n",
    "a2.to_csv('./dataset/result.csv')"
   ]
  },
  {
   "cell_type": "markdown",
   "metadata": {},
   "source": [
    "원하는 컬럼만 가지고 DataFrame 구성하기\n",
    "- `index_col` 인덱스로 설정할 칼럼\n",
    "- `usecols` 실제로 데이터프레임에 불러올 칼럼, index_col 항목을 포함해야함"
   ]
  },
  {
   "cell_type": "code",
   "execution_count": 13,
   "metadata": {},
   "outputs": [],
   "source": [
    "flight2 = pd.read_csv('./dataset/Clean_Dataset.csv', index_col='stops', usecols=['stops', 'departure_time', 'arrival_time', 'destination_city'])"
   ]
  },
  {
   "cell_type": "code",
   "execution_count": 14,
   "metadata": {},
   "outputs": [
    {
     "data": {
      "text/html": [
       "<div>\n",
       "<style scoped>\n",
       "    .dataframe tbody tr th:only-of-type {\n",
       "        vertical-align: middle;\n",
       "    }\n",
       "\n",
       "    .dataframe tbody tr th {\n",
       "        vertical-align: top;\n",
       "    }\n",
       "\n",
       "    .dataframe thead th {\n",
       "        text-align: right;\n",
       "    }\n",
       "</style>\n",
       "<table border=\"1\" class=\"dataframe\">\n",
       "  <thead>\n",
       "    <tr style=\"text-align: right;\">\n",
       "      <th></th>\n",
       "      <th>departure_time</th>\n",
       "      <th>arrival_time</th>\n",
       "      <th>destination_city</th>\n",
       "    </tr>\n",
       "    <tr>\n",
       "      <th>stops</th>\n",
       "      <th></th>\n",
       "      <th></th>\n",
       "      <th></th>\n",
       "    </tr>\n",
       "  </thead>\n",
       "  <tbody>\n",
       "    <tr>\n",
       "      <th>zero</th>\n",
       "      <td>Evening</td>\n",
       "      <td>Night</td>\n",
       "      <td>Mumbai</td>\n",
       "    </tr>\n",
       "    <tr>\n",
       "      <th>zero</th>\n",
       "      <td>Early_Morning</td>\n",
       "      <td>Morning</td>\n",
       "      <td>Mumbai</td>\n",
       "    </tr>\n",
       "    <tr>\n",
       "      <th>zero</th>\n",
       "      <td>Early_Morning</td>\n",
       "      <td>Early_Morning</td>\n",
       "      <td>Mumbai</td>\n",
       "    </tr>\n",
       "    <tr>\n",
       "      <th>zero</th>\n",
       "      <td>Morning</td>\n",
       "      <td>Afternoon</td>\n",
       "      <td>Mumbai</td>\n",
       "    </tr>\n",
       "    <tr>\n",
       "      <th>zero</th>\n",
       "      <td>Morning</td>\n",
       "      <td>Morning</td>\n",
       "      <td>Mumbai</td>\n",
       "    </tr>\n",
       "    <tr>\n",
       "      <th>...</th>\n",
       "      <td>...</td>\n",
       "      <td>...</td>\n",
       "      <td>...</td>\n",
       "    </tr>\n",
       "    <tr>\n",
       "      <th>one</th>\n",
       "      <td>Morning</td>\n",
       "      <td>Evening</td>\n",
       "      <td>Hyderabad</td>\n",
       "    </tr>\n",
       "    <tr>\n",
       "      <th>one</th>\n",
       "      <td>Afternoon</td>\n",
       "      <td>Night</td>\n",
       "      <td>Hyderabad</td>\n",
       "    </tr>\n",
       "    <tr>\n",
       "      <th>one</th>\n",
       "      <td>Early_Morning</td>\n",
       "      <td>Night</td>\n",
       "      <td>Hyderabad</td>\n",
       "    </tr>\n",
       "    <tr>\n",
       "      <th>one</th>\n",
       "      <td>Early_Morning</td>\n",
       "      <td>Evening</td>\n",
       "      <td>Hyderabad</td>\n",
       "    </tr>\n",
       "    <tr>\n",
       "      <th>one</th>\n",
       "      <td>Morning</td>\n",
       "      <td>Evening</td>\n",
       "      <td>Hyderabad</td>\n",
       "    </tr>\n",
       "  </tbody>\n",
       "</table>\n",
       "<p>300153 rows × 3 columns</p>\n",
       "</div>"
      ],
      "text/plain": [
       "      departure_time   arrival_time destination_city\n",
       "stops                                               \n",
       "zero         Evening          Night           Mumbai\n",
       "zero   Early_Morning        Morning           Mumbai\n",
       "zero   Early_Morning  Early_Morning           Mumbai\n",
       "zero         Morning      Afternoon           Mumbai\n",
       "zero         Morning        Morning           Mumbai\n",
       "...              ...            ...              ...\n",
       "one          Morning        Evening        Hyderabad\n",
       "one        Afternoon          Night        Hyderabad\n",
       "one    Early_Morning          Night        Hyderabad\n",
       "one    Early_Morning        Evening        Hyderabad\n",
       "one          Morning        Evening        Hyderabad\n",
       "\n",
       "[300153 rows x 3 columns]"
      ]
     },
     "execution_count": 14,
     "metadata": {},
     "output_type": "execute_result"
    }
   ],
   "source": [
    "flight2"
   ]
  },
  {
   "cell_type": "markdown",
   "metadata": {},
   "source": [
    "범주형 데이터 2개를 비교 분석 pd.crosstab(index=aaa, columns=bbb)\n",
    "- source_city 기준으로 arrival_time을 분석할 수 있음"
   ]
  },
  {
   "cell_type": "code",
   "execution_count": 15,
   "metadata": {},
   "outputs": [
    {
     "data": {
      "text/html": [
       "<div>\n",
       "<style scoped>\n",
       "    .dataframe tbody tr th:only-of-type {\n",
       "        vertical-align: middle;\n",
       "    }\n",
       "\n",
       "    .dataframe tbody tr th {\n",
       "        vertical-align: top;\n",
       "    }\n",
       "\n",
       "    .dataframe thead th {\n",
       "        text-align: right;\n",
       "    }\n",
       "</style>\n",
       "<table border=\"1\" class=\"dataframe\">\n",
       "  <thead>\n",
       "    <tr style=\"text-align: right;\">\n",
       "      <th>arrival_time</th>\n",
       "      <th>Afternoon</th>\n",
       "      <th>Early_Morning</th>\n",
       "      <th>Evening</th>\n",
       "      <th>Late_Night</th>\n",
       "      <th>Morning</th>\n",
       "      <th>Night</th>\n",
       "    </tr>\n",
       "    <tr>\n",
       "      <th>source_city</th>\n",
       "      <th></th>\n",
       "      <th></th>\n",
       "      <th></th>\n",
       "      <th></th>\n",
       "      <th></th>\n",
       "      <th></th>\n",
       "    </tr>\n",
       "  </thead>\n",
       "  <tbody>\n",
       "    <tr>\n",
       "      <th>Bangalore</th>\n",
       "      <td>6992</td>\n",
       "      <td>3154</td>\n",
       "      <td>14493</td>\n",
       "      <td>2673</td>\n",
       "      <td>10411</td>\n",
       "      <td>14338</td>\n",
       "    </tr>\n",
       "    <tr>\n",
       "      <th>Chennai</th>\n",
       "      <td>5152</td>\n",
       "      <td>1606</td>\n",
       "      <td>10830</td>\n",
       "      <td>1999</td>\n",
       "      <td>7106</td>\n",
       "      <td>12007</td>\n",
       "    </tr>\n",
       "    <tr>\n",
       "      <th>Delhi</th>\n",
       "      <td>8007</td>\n",
       "      <td>5262</td>\n",
       "      <td>14630</td>\n",
       "      <td>2143</td>\n",
       "      <td>13007</td>\n",
       "      <td>18294</td>\n",
       "    </tr>\n",
       "    <tr>\n",
       "      <th>Hyderabad</th>\n",
       "      <td>4816</td>\n",
       "      <td>1581</td>\n",
       "      <td>10539</td>\n",
       "      <td>2092</td>\n",
       "      <td>8854</td>\n",
       "      <td>12924</td>\n",
       "    </tr>\n",
       "    <tr>\n",
       "      <th>Kolkata</th>\n",
       "      <td>5941</td>\n",
       "      <td>2156</td>\n",
       "      <td>11304</td>\n",
       "      <td>2414</td>\n",
       "      <td>9595</td>\n",
       "      <td>14937</td>\n",
       "    </tr>\n",
       "    <tr>\n",
       "      <th>Mumbai</th>\n",
       "      <td>7231</td>\n",
       "      <td>1658</td>\n",
       "      <td>16527</td>\n",
       "      <td>2680</td>\n",
       "      <td>13762</td>\n",
       "      <td>19038</td>\n",
       "    </tr>\n",
       "  </tbody>\n",
       "</table>\n",
       "</div>"
      ],
      "text/plain": [
       "arrival_time  Afternoon  Early_Morning  Evening  Late_Night  Morning  Night\n",
       "source_city                                                                \n",
       "Bangalore          6992           3154    14493        2673    10411  14338\n",
       "Chennai            5152           1606    10830        1999     7106  12007\n",
       "Delhi              8007           5262    14630        2143    13007  18294\n",
       "Hyderabad          4816           1581    10539        2092     8854  12924\n",
       "Kolkata            5941           2156    11304        2414     9595  14937\n",
       "Mumbai             7231           1658    16527        2680    13762  19038"
      ]
     },
     "execution_count": 15,
     "metadata": {},
     "output_type": "execute_result"
    }
   ],
   "source": [
    "pd.crosstab(index=flight.source_city, columns=flight.arrival_time)"
   ]
  },
  {
   "cell_type": "code",
   "execution_count": null,
   "metadata": {},
   "outputs": [],
   "source": []
  }
 ],
 "metadata": {
  "kernelspec": {
   "display_name": "Python 3",
   "language": "python",
   "name": "python3"
  },
  "language_info": {
   "codemirror_mode": {
    "name": "ipython",
    "version": 3
   },
   "file_extension": ".py",
   "mimetype": "text/x-python",
   "name": "python",
   "nbconvert_exporter": "python",
   "pygments_lexer": "ipython3",
   "version": "3.12.3"
  }
 },
 "nbformat": 4,
 "nbformat_minor": 2
}
