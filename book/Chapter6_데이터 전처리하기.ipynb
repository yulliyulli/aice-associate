{
 "cells": [
  {
   "attachments": {},
   "cell_type": "markdown",
   "metadata": {
    "id": "2ILuTZOprr_w"
   },
   "source": [
    "# SECTION 01. 수치형 데이터 정제하기"
   ]
  },
  {
   "attachments": {},
   "cell_type": "markdown",
   "metadata": {
    "id": "HkmcjQN1M-ZI"
   },
   "source": [
    "   \n",
    "## 1. 결측치 파악하기"
   ]
  },
  {
   "cell_type": "code",
   "execution_count": 1,
   "metadata": {
    "ExecuteTime": {
     "end_time": "2023-05-08T02:30:30.238599Z",
     "start_time": "2023-05-08T02:30:29.382246Z"
    },
    "executionInfo": {
     "elapsed": 1539,
     "status": "ok",
     "timestamp": 1675408221792,
     "user": {
      "displayName": "김운호",
      "userId": "09296731886450682327"
     },
     "user_tz": -540
    },
    "id": "ifHOb4HkruCZ"
   },
   "outputs": [],
   "source": [
    "# 판다스 불러오기\n",
    "import pandas as pd\n",
    "\n",
    "# 데이터 읽어오기\n",
    "df=pd.read_csv(\"Clean_Dataset.csv\")\n",
    "\n",
    "# 지정 인덱스인 첫번째 칼럼(column) 삭제하기\n",
    "df.drop([df.columns[0]], axis=1, inplace=True)"
   ]
  },
  {
   "cell_type": "code",
   "execution_count": 2,
   "metadata": {
    "ExecuteTime": {
     "end_time": "2023-05-08T02:30:30.727887Z",
     "start_time": "2023-05-08T02:30:30.287533Z"
    },
    "id": "ac5cJNZlrxFJ"
   },
   "outputs": [],
   "source": [
    "# 랜덤하게 결측치 생성하기\n",
    "# 랜덤과 넘파이 불러오기\n",
    "import random\n",
    "import numpy as np\n",
    "\n",
    "# 같은 결과 출력을 위해 시드 고정하기\n",
    "random.seed(2023)\n",
    "np.random.seed(2023)\n",
    "\n",
    "# 랜덤한 위치에 결측치를 5000개를 포함한 데이터 df_na 생성하기(5,000개 결측치 생성)\n",
    "df_na=df.copy()\n",
    "for i in range(0,5000) :\n",
    "    df_na.iloc[random.randint(0,300152), random.randint(0,10)]=np.nan\n",
    "\n",
    "# 결측치 처리여부 확인을 위한 1번, 3번 인덱스 전체 결측치 처리하기(2개 결측치 생성)\n",
    "df_na.iloc[1]=np.nan\n",
    "df_na.iloc[3]=np.nan"
   ]
  },
  {
   "attachments": {},
   "cell_type": "markdown",
   "metadata": {
    "id": "gmx5t0Y4BEEE"
   },
   "source": [
    "### 1) 결측치 존재 여부 확인하기 "
   ]
  },
  {
   "cell_type": "code",
   "execution_count": 3,
   "metadata": {
    "ExecuteTime": {
     "end_time": "2023-05-08T02:30:31.612331Z",
     "start_time": "2023-05-08T02:30:31.220455Z"
    },
    "colab": {
     "base_uri": "https://localhost:8080/"
    },
    "executionInfo": {
     "elapsed": 6,
     "status": "ok",
     "timestamp": 1675408963690,
     "user": {
      "displayName": "김운호",
      "userId": "09296731886450682327"
     },
     "user_tz": -540
    },
    "id": "coyEz3eWr9lQ",
    "outputId": "bbdd2498-95ba-4aee-b244-d104bed808b2"
   },
   "outputs": [
    {
     "name": "stdout",
     "output_type": "stream",
     "text": [
      "<class 'pandas.core.frame.DataFrame'>\n",
      "RangeIndex: 300153 entries, 0 to 300152\n",
      "Data columns (total 11 columns):\n",
      " #   Column            Non-Null Count   Dtype  \n",
      "---  ------            --------------   -----  \n",
      " 0   airline           299685 non-null  object \n",
      " 1   flight            299689 non-null  object \n",
      " 2   source_city       299681 non-null  object \n",
      " 3   departure_time    299723 non-null  object \n",
      " 4   stops             299666 non-null  object \n",
      " 5   arrival_time      299698 non-null  object \n",
      " 6   destination_city  299670 non-null  object \n",
      " 7   class             299715 non-null  object \n",
      " 8   duration          299703 non-null  float64\n",
      " 9   days_left         299723 non-null  float64\n",
      " 10  price             299714 non-null  float64\n",
      "dtypes: float64(3), object(8)\n",
      "memory usage: 25.2+ MB\n"
     ]
    }
   ],
   "source": [
    "# 데이터 정보 확인하기\n",
    "df_na.info()"
   ]
  },
  {
   "attachments": {},
   "cell_type": "markdown",
   "metadata": {
    "id": "gUFu2256BaYG"
   },
   "source": [
    "### 2) 결측치 수 확인하기"
   ]
  },
  {
   "cell_type": "code",
   "execution_count": 4,
   "metadata": {
    "ExecuteTime": {
     "end_time": "2023-05-08T02:30:33.473547Z",
     "start_time": "2023-05-08T02:30:33.118327Z"
    },
    "colab": {
     "base_uri": "https://localhost:8080/"
    },
    "executionInfo": {
     "elapsed": 362,
     "status": "ok",
     "timestamp": 1675408969565,
     "user": {
      "displayName": "김운호",
      "userId": "09296731886450682327"
     },
     "user_tz": -540
    },
    "id": "4YCl9qufr_-Z",
    "outputId": "384a40fb-c707-4b5e-95c1-f8cf853625d1"
   },
   "outputs": [
    {
     "data": {
      "text/plain": [
       "airline             468\n",
       "flight              464\n",
       "source_city         472\n",
       "departure_time      430\n",
       "stops               487\n",
       "arrival_time        455\n",
       "destination_city    483\n",
       "class               438\n",
       "duration            450\n",
       "days_left           430\n",
       "price               439\n",
       "dtype: int64"
      ]
     },
     "execution_count": 4,
     "metadata": {},
     "output_type": "execute_result"
    }
   ],
   "source": [
    "# 결측치 수 확인하기 \n",
    "df_na.isnull().sum(axis=0)"
   ]
  },
  {
   "attachments": {},
   "cell_type": "markdown",
   "metadata": {
    "id": "6W_EKf7EsTT6"
   },
   "source": [
    "## 2. 결측치 처리하기"
   ]
  },
  {
   "cell_type": "code",
   "execution_count": null,
   "metadata": {
    "ExecuteTime": {
     "end_time": "2023-05-08T02:30:35.092424Z",
     "start_time": "2023-05-08T02:30:35.053056Z"
    },
    "executionInfo": {
     "elapsed": 266,
     "status": "ok",
     "timestamp": 1675409125338,
     "user": {
      "displayName": "김운호",
      "userId": "09296731886450682327"
     },
     "user_tz": -540
    },
    "id": "mODaWUMRsFGY"
   },
   "outputs": [],
   "source": [
    "# 데이터 변경에 대비하여 원본 데이터 복사하기\n",
    "df_na_origin=df_na.copy()"
   ]
  },
  {
   "cell_type": "markdown",
   "metadata": {
    "id": "c8ynHscoBePm"
   },
   "source": [
    "### 1) 결측치 삭제하기"
   ]
  },
  {
   "cell_type": "code",
   "execution_count": 6,
   "metadata": {
    "ExecuteTime": {
     "end_time": "2023-05-08T02:30:37.859463Z",
     "start_time": "2023-05-08T02:30:37.189510Z"
    },
    "colab": {
     "base_uri": "https://localhost:8080/"
    },
    "executionInfo": {
     "elapsed": 429,
     "status": "ok",
     "timestamp": 1675409195048,
     "user": {
      "displayName": "김운호",
      "userId": "09296731886450682327"
     },
     "user_tz": -540
    },
    "id": "2sIGlV7CsHXI",
    "outputId": "60937801-c3d9-453f-8688-4aceb93cdcc6"
   },
   "outputs": [
    {
     "name": "stdout",
     "output_type": "stream",
     "text": [
      "<class 'pandas.core.frame.DataFrame'>\n",
      "Int64Index: 295192 entries, 0 to 300152\n",
      "Data columns (total 11 columns):\n",
      " #   Column            Non-Null Count   Dtype  \n",
      "---  ------            --------------   -----  \n",
      " 0   airline           295192 non-null  object \n",
      " 1   flight            295192 non-null  object \n",
      " 2   source_city       295192 non-null  object \n",
      " 3   departure_time    295192 non-null  object \n",
      " 4   stops             295192 non-null  object \n",
      " 5   arrival_time      295192 non-null  object \n",
      " 6   destination_city  295192 non-null  object \n",
      " 7   class             295192 non-null  object \n",
      " 8   duration          295192 non-null  float64\n",
      " 9   days_left         295192 non-null  float64\n",
      " 10  price             295192 non-null  float64\n",
      "dtypes: float64(3), object(8)\n",
      "memory usage: 27.0+ MB\n"
     ]
    }
   ],
   "source": [
    "# 결측치를 하나라도 가지는 행 모두 삭제하기\n",
    "df_na=df_na.dropna()\n",
    "df_na.info()"
   ]
  },
  {
   "cell_type": "code",
   "execution_count": 7,
   "metadata": {
    "ExecuteTime": {
     "end_time": "2023-05-08T02:30:39.441692Z",
     "start_time": "2023-05-08T02:30:38.818009Z"
    },
    "colab": {
     "base_uri": "https://localhost:8080/"
    },
    "executionInfo": {
     "elapsed": 341,
     "status": "ok",
     "timestamp": 1675409262832,
     "user": {
      "displayName": "김운호",
      "userId": "09296731886450682327"
     },
     "user_tz": -540
    },
    "id": "IAlA97K4sI03",
    "outputId": "b5b93d17-3b3e-4ab7-d9f7-97afda9710ef"
   },
   "outputs": [
    {
     "name": "stdout",
     "output_type": "stream",
     "text": [
      "<class 'pandas.core.frame.DataFrame'>\n",
      "Int64Index: 300151 entries, 0 to 300152\n",
      "Data columns (total 11 columns):\n",
      " #   Column            Non-Null Count   Dtype  \n",
      "---  ------            --------------   -----  \n",
      " 0   airline           299685 non-null  object \n",
      " 1   flight            299689 non-null  object \n",
      " 2   source_city       299681 non-null  object \n",
      " 3   departure_time    299723 non-null  object \n",
      " 4   stops             299666 non-null  object \n",
      " 5   arrival_time      299698 non-null  object \n",
      " 6   destination_city  299670 non-null  object \n",
      " 7   class             299715 non-null  object \n",
      " 8   duration          299703 non-null  float64\n",
      " 9   days_left         299723 non-null  float64\n",
      " 10  price             299714 non-null  float64\n",
      "dtypes: float64(3), object(8)\n",
      "memory usage: 27.5+ MB\n"
     ]
    }
   ],
   "source": [
    "# 결측치 삭제하기전 원래 데이터 가져오기\n",
    "df_na=df_na_origin.copy()\n",
    "\n",
    "# 모든 데이터가 결측치인 행만 삭제하기\n",
    "df_na=df_na.dropna(how='all')\n",
    "df_na.info()"
   ]
  },
  {
   "cell_type": "code",
   "execution_count": 8,
   "metadata": {
    "ExecuteTime": {
     "end_time": "2023-05-08T02:30:39.670070Z",
     "start_time": "2023-05-08T02:30:39.635349Z"
    },
    "colab": {
     "base_uri": "https://localhost:8080/",
     "height": 288
    },
    "executionInfo": {
     "elapsed": 317,
     "status": "ok",
     "timestamp": 1675409487883,
     "user": {
      "displayName": "김운호",
      "userId": "09296731886450682327"
     },
     "user_tz": -540
    },
    "id": "HO9N38wSsLKB",
    "outputId": "2f1c121f-a420-4ffd-9989-c31477840f1a"
   },
   "outputs": [
    {
     "data": {
      "text/html": [
       "<div>\n",
       "<style scoped>\n",
       "    .dataframe tbody tr th:only-of-type {\n",
       "        vertical-align: middle;\n",
       "    }\n",
       "\n",
       "    .dataframe tbody tr th {\n",
       "        vertical-align: top;\n",
       "    }\n",
       "\n",
       "    .dataframe thead th {\n",
       "        text-align: right;\n",
       "    }\n",
       "</style>\n",
       "<table border=\"1\" class=\"dataframe\">\n",
       "  <thead>\n",
       "    <tr style=\"text-align: right;\">\n",
       "      <th></th>\n",
       "      <th>airline</th>\n",
       "      <th>flight</th>\n",
       "      <th>source_city</th>\n",
       "      <th>departure_time</th>\n",
       "      <th>stops</th>\n",
       "      <th>arrival_time</th>\n",
       "      <th>destination_city</th>\n",
       "      <th>class</th>\n",
       "      <th>duration</th>\n",
       "      <th>days_left</th>\n",
       "      <th>price</th>\n",
       "    </tr>\n",
       "  </thead>\n",
       "  <tbody>\n",
       "    <tr>\n",
       "      <th>0</th>\n",
       "      <td>SpiceJet</td>\n",
       "      <td>SG-8709</td>\n",
       "      <td>Delhi</td>\n",
       "      <td>Evening</td>\n",
       "      <td>zero</td>\n",
       "      <td>Night</td>\n",
       "      <td>Mumbai</td>\n",
       "      <td>Economy</td>\n",
       "      <td>2.17</td>\n",
       "      <td>1.0</td>\n",
       "      <td>5953.0</td>\n",
       "    </tr>\n",
       "    <tr>\n",
       "      <th>2</th>\n",
       "      <td>AirAsia</td>\n",
       "      <td>I5-764</td>\n",
       "      <td>Delhi</td>\n",
       "      <td>Early_Morning</td>\n",
       "      <td>zero</td>\n",
       "      <td>Early_Morning</td>\n",
       "      <td>Mumbai</td>\n",
       "      <td>Economy</td>\n",
       "      <td>2.17</td>\n",
       "      <td>1.0</td>\n",
       "      <td>5956.0</td>\n",
       "    </tr>\n",
       "    <tr>\n",
       "      <th>4</th>\n",
       "      <td>Vistara</td>\n",
       "      <td>UK-963</td>\n",
       "      <td>Delhi</td>\n",
       "      <td>Morning</td>\n",
       "      <td>zero</td>\n",
       "      <td>Morning</td>\n",
       "      <td>Mumbai</td>\n",
       "      <td>Economy</td>\n",
       "      <td>2.33</td>\n",
       "      <td>1.0</td>\n",
       "      <td>5955.0</td>\n",
       "    </tr>\n",
       "    <tr>\n",
       "      <th>5</th>\n",
       "      <td>Vistara</td>\n",
       "      <td>UK-945</td>\n",
       "      <td>Delhi</td>\n",
       "      <td>Morning</td>\n",
       "      <td>zero</td>\n",
       "      <td>Afternoon</td>\n",
       "      <td>Mumbai</td>\n",
       "      <td>Economy</td>\n",
       "      <td>2.33</td>\n",
       "      <td>1.0</td>\n",
       "      <td>5955.0</td>\n",
       "    </tr>\n",
       "    <tr>\n",
       "      <th>6</th>\n",
       "      <td>Vistara</td>\n",
       "      <td>UK-927</td>\n",
       "      <td>Delhi</td>\n",
       "      <td>Morning</td>\n",
       "      <td>zero</td>\n",
       "      <td>Morning</td>\n",
       "      <td>Mumbai</td>\n",
       "      <td>Economy</td>\n",
       "      <td>2.08</td>\n",
       "      <td>1.0</td>\n",
       "      <td>6060.0</td>\n",
       "    </tr>\n",
       "  </tbody>\n",
       "</table>\n",
       "</div>"
      ],
      "text/plain": [
       "    airline   flight source_city departure_time stops   arrival_time  \\\n",
       "0  SpiceJet  SG-8709       Delhi        Evening  zero          Night   \n",
       "2   AirAsia   I5-764       Delhi  Early_Morning  zero  Early_Morning   \n",
       "4   Vistara   UK-963       Delhi        Morning  zero        Morning   \n",
       "5   Vistara   UK-945       Delhi        Morning  zero      Afternoon   \n",
       "6   Vistara   UK-927       Delhi        Morning  zero        Morning   \n",
       "\n",
       "  destination_city    class  duration  days_left   price  \n",
       "0           Mumbai  Economy      2.17        1.0  5953.0  \n",
       "2           Mumbai  Economy      2.17        1.0  5956.0  \n",
       "4           Mumbai  Economy      2.33        1.0  5955.0  \n",
       "5           Mumbai  Economy      2.33        1.0  5955.0  \n",
       "6           Mumbai  Economy      2.08        1.0  6060.0  "
      ]
     },
     "execution_count": 8,
     "metadata": {},
     "output_type": "execute_result"
    }
   ],
   "source": [
    "# 0번 인덱스 부터 5개의 데이터를 불러와서 1번 3번 인덱스 삭제 결과 확인하기\n",
    "df_na.head()"
   ]
  },
  {
   "cell_type": "markdown",
   "metadata": {
    "id": "2umejJMBBoXE"
   },
   "source": [
    "### 2) 칼럼 제거하기"
   ]
  },
  {
   "cell_type": "code",
   "execution_count": 9,
   "metadata": {
    "ExecuteTime": {
     "end_time": "2023-05-08T02:30:50.515487Z",
     "start_time": "2023-05-08T02:30:50.245819Z"
    },
    "colab": {
     "base_uri": "https://localhost:8080/"
    },
    "executionInfo": {
     "elapsed": 283,
     "status": "ok",
     "timestamp": 1675409689400,
     "user": {
      "displayName": "김운호",
      "userId": "09296731886450682327"
     },
     "user_tz": -540
    },
    "id": "Cqbx8BD4sNWA",
    "outputId": "62523e4d-dd75-4584-b24d-23f1362029b9"
   },
   "outputs": [
    {
     "name": "stdout",
     "output_type": "stream",
     "text": [
      "<class 'pandas.core.frame.DataFrame'>\n",
      "RangeIndex: 300153 entries, 0 to 300152\n",
      "Data columns (total 9 columns):\n",
      " #   Column            Non-Null Count   Dtype  \n",
      "---  ------            --------------   -----  \n",
      " 0   airline           299685 non-null  object \n",
      " 1   source_city       299681 non-null  object \n",
      " 2   departure_time    299723 non-null  object \n",
      " 3   arrival_time      299698 non-null  object \n",
      " 4   destination_city  299670 non-null  object \n",
      " 5   class             299715 non-null  object \n",
      " 6   duration          299703 non-null  float64\n",
      " 7   days_left         299723 non-null  float64\n",
      " 8   price             299714 non-null  float64\n",
      "dtypes: float64(3), object(6)\n",
      "memory usage: 20.6+ MB\n"
     ]
    }
   ],
   "source": [
    "# 결측치 삭제하기전 원래 데이터 가져오기\n",
    "df_na=df_na_origin.copy()\n",
    "\n",
    "# stops과 flight 제거하기\n",
    "df_na=df_na.drop(['stops','flight'], axis=1)\n",
    "df_na.info()"
   ]
  },
  {
   "cell_type": "code",
   "execution_count": 10,
   "metadata": {
    "ExecuteTime": {
     "end_time": "2023-05-08T02:30:56.587816Z",
     "start_time": "2023-05-08T02:30:56.042795Z"
    },
    "colab": {
     "base_uri": "https://localhost:8080/"
    },
    "executionInfo": {
     "elapsed": 470,
     "status": "ok",
     "timestamp": 1675409741379,
     "user": {
      "displayName": "김운호",
      "userId": "09296731886450682327"
     },
     "user_tz": -540
    },
    "id": "U8mDnAgzsPjB",
    "outputId": "ffcfdb99-cdfc-4c4a-a945-5af2b6b4c5bf"
   },
   "outputs": [
    {
     "name": "stdout",
     "output_type": "stream",
     "text": [
      "<class 'pandas.core.frame.DataFrame'>\n",
      "Int64Index: 296124 entries, 0 to 300152\n",
      "Data columns (total 9 columns):\n",
      " #   Column            Non-Null Count   Dtype  \n",
      "---  ------            --------------   -----  \n",
      " 0   airline           296124 non-null  object \n",
      " 1   source_city       296124 non-null  object \n",
      " 2   departure_time    296124 non-null  object \n",
      " 3   arrival_time      296124 non-null  object \n",
      " 4   destination_city  296124 non-null  object \n",
      " 5   class             296124 non-null  object \n",
      " 6   duration          296124 non-null  float64\n",
      " 7   days_left         296124 non-null  float64\n",
      " 8   price             296124 non-null  float64\n",
      "dtypes: float64(3), object(6)\n",
      "memory usage: 22.6+ MB\n"
     ]
    }
   ],
   "source": [
    "# 결측치를 하나라도 가지는 행 모두 삭제하기\n",
    "df_na=df_na.dropna()\n",
    "df_na.info()"
   ]
  },
  {
   "cell_type": "markdown",
   "metadata": {
    "id": "yjr1sQoBBvo4"
   },
   "source": [
    "### 3) 결측치 대체하기"
   ]
  },
  {
   "cell_type": "code",
   "execution_count": 11,
   "metadata": {
    "ExecuteTime": {
     "end_time": "2023-05-08T02:31:18.991096Z",
     "start_time": "2023-05-08T02:31:17.861899Z"
    },
    "colab": {
     "base_uri": "https://localhost:8080/"
    },
    "executionInfo": {
     "elapsed": 437,
     "status": "ok",
     "timestamp": 1675409873206,
     "user": {
      "displayName": "김운호",
      "userId": "09296731886450682327"
     },
     "user_tz": -540
    },
    "id": "E7_Pexdjsel5",
    "outputId": "cae437e8-c4a4-441c-f6a4-c8cd58d34288"
   },
   "outputs": [
    {
     "name": "stdout",
     "output_type": "stream",
     "text": [
      "<class 'pandas.core.frame.DataFrame'>\n",
      "RangeIndex: 300153 entries, 0 to 300152\n",
      "Data columns (total 11 columns):\n",
      " #   Column            Non-Null Count   Dtype  \n",
      "---  ------            --------------   -----  \n",
      " 0   airline           299685 non-null  object \n",
      " 1   flight            299689 non-null  object \n",
      " 2   source_city       299681 non-null  object \n",
      " 3   departure_time    299723 non-null  object \n",
      " 4   stops             299666 non-null  object \n",
      " 5   arrival_time      299698 non-null  object \n",
      " 6   destination_city  299670 non-null  object \n",
      " 7   class             299715 non-null  object \n",
      " 8   duration          300153 non-null  float64\n",
      " 9   days_left         300153 non-null  float64\n",
      " 10  price             300153 non-null  float64\n",
      "dtypes: float64(3), object(8)\n",
      "memory usage: 25.2+ MB\n"
     ]
    }
   ],
   "source": [
    "df_na=df_na_origin.copy()\n",
    "\n",
    "# 칼럼별 평균값으로 결측치 대체하기 \n",
    "df_na=df_na.fillna(df_na.mean())\n",
    "df_na.info()"
   ]
  },
  {
   "cell_type": "code",
   "execution_count": 12,
   "metadata": {
    "ExecuteTime": {
     "end_time": "2023-05-08T02:31:38.985157Z",
     "start_time": "2023-05-08T02:31:38.953811Z"
    },
    "colab": {
     "base_uri": "https://localhost:8080/",
     "height": 206
    },
    "executionInfo": {
     "elapsed": 284,
     "status": "ok",
     "timestamp": 1672062587337,
     "user": {
      "displayName": "김운호",
      "userId": "09296731886450682327"
     },
     "user_tz": -540
    },
    "id": "T0Ivw7Eosh6Z",
    "outputId": "a6c68290-ace4-4a5d-a2af-82b1a0325684"
   },
   "outputs": [
    {
     "data": {
      "text/html": [
       "<div>\n",
       "<style scoped>\n",
       "    .dataframe tbody tr th:only-of-type {\n",
       "        vertical-align: middle;\n",
       "    }\n",
       "\n",
       "    .dataframe tbody tr th {\n",
       "        vertical-align: top;\n",
       "    }\n",
       "\n",
       "    .dataframe thead th {\n",
       "        text-align: right;\n",
       "    }\n",
       "</style>\n",
       "<table border=\"1\" class=\"dataframe\">\n",
       "  <thead>\n",
       "    <tr style=\"text-align: right;\">\n",
       "      <th></th>\n",
       "      <th>airline</th>\n",
       "      <th>flight</th>\n",
       "      <th>source_city</th>\n",
       "      <th>departure_time</th>\n",
       "      <th>stops</th>\n",
       "      <th>arrival_time</th>\n",
       "      <th>destination_city</th>\n",
       "      <th>class</th>\n",
       "      <th>duration</th>\n",
       "      <th>days_left</th>\n",
       "      <th>price</th>\n",
       "    </tr>\n",
       "  </thead>\n",
       "  <tbody>\n",
       "    <tr>\n",
       "      <th>0</th>\n",
       "      <td>SpiceJet</td>\n",
       "      <td>SG-8709</td>\n",
       "      <td>Delhi</td>\n",
       "      <td>Evening</td>\n",
       "      <td>zero</td>\n",
       "      <td>Night</td>\n",
       "      <td>Mumbai</td>\n",
       "      <td>Economy</td>\n",
       "      <td>2.170000</td>\n",
       "      <td>1.000000</td>\n",
       "      <td>5953.000000</td>\n",
       "    </tr>\n",
       "    <tr>\n",
       "      <th>1</th>\n",
       "      <td>NaN</td>\n",
       "      <td>NaN</td>\n",
       "      <td>NaN</td>\n",
       "      <td>NaN</td>\n",
       "      <td>NaN</td>\n",
       "      <td>NaN</td>\n",
       "      <td>NaN</td>\n",
       "      <td>NaN</td>\n",
       "      <td>12.220991</td>\n",
       "      <td>26.006369</td>\n",
       "      <td>20888.967105</td>\n",
       "    </tr>\n",
       "    <tr>\n",
       "      <th>2</th>\n",
       "      <td>AirAsia</td>\n",
       "      <td>I5-764</td>\n",
       "      <td>Delhi</td>\n",
       "      <td>Early_Morning</td>\n",
       "      <td>zero</td>\n",
       "      <td>Early_Morning</td>\n",
       "      <td>Mumbai</td>\n",
       "      <td>Economy</td>\n",
       "      <td>2.170000</td>\n",
       "      <td>1.000000</td>\n",
       "      <td>5956.000000</td>\n",
       "    </tr>\n",
       "    <tr>\n",
       "      <th>3</th>\n",
       "      <td>NaN</td>\n",
       "      <td>NaN</td>\n",
       "      <td>NaN</td>\n",
       "      <td>NaN</td>\n",
       "      <td>NaN</td>\n",
       "      <td>NaN</td>\n",
       "      <td>NaN</td>\n",
       "      <td>NaN</td>\n",
       "      <td>12.220991</td>\n",
       "      <td>26.006369</td>\n",
       "      <td>20888.967105</td>\n",
       "    </tr>\n",
       "    <tr>\n",
       "      <th>4</th>\n",
       "      <td>Vistara</td>\n",
       "      <td>UK-963</td>\n",
       "      <td>Delhi</td>\n",
       "      <td>Morning</td>\n",
       "      <td>zero</td>\n",
       "      <td>Morning</td>\n",
       "      <td>Mumbai</td>\n",
       "      <td>Economy</td>\n",
       "      <td>2.330000</td>\n",
       "      <td>1.000000</td>\n",
       "      <td>5955.000000</td>\n",
       "    </tr>\n",
       "  </tbody>\n",
       "</table>\n",
       "</div>"
      ],
      "text/plain": [
       "    airline   flight source_city departure_time stops   arrival_time  \\\n",
       "0  SpiceJet  SG-8709       Delhi        Evening  zero          Night   \n",
       "1       NaN      NaN         NaN            NaN   NaN            NaN   \n",
       "2   AirAsia   I5-764       Delhi  Early_Morning  zero  Early_Morning   \n",
       "3       NaN      NaN         NaN            NaN   NaN            NaN   \n",
       "4   Vistara   UK-963       Delhi        Morning  zero        Morning   \n",
       "\n",
       "  destination_city    class   duration  days_left         price  \n",
       "0           Mumbai  Economy   2.170000   1.000000   5953.000000  \n",
       "1              NaN      NaN  12.220991  26.006369  20888.967105  \n",
       "2           Mumbai  Economy   2.170000   1.000000   5956.000000  \n",
       "3              NaN      NaN  12.220991  26.006369  20888.967105  \n",
       "4           Mumbai  Economy   2.330000   1.000000   5955.000000  "
      ]
     },
     "execution_count": 12,
     "metadata": {},
     "output_type": "execute_result"
    }
   ],
   "source": [
    "# 0번 인덱스부터 5개의 데이터를 불러와서 1번과 3번 인덱스의 대체 결과 확인하기\n",
    "df_na.head()"
   ]
  },
  {
   "cell_type": "code",
   "execution_count": 13,
   "metadata": {
    "ExecuteTime": {
     "end_time": "2023-05-08T02:31:41.287206Z",
     "start_time": "2023-05-08T02:31:40.649161Z"
    },
    "colab": {
     "base_uri": "https://localhost:8080/"
    },
    "executionInfo": {
     "elapsed": 316,
     "status": "ok",
     "timestamp": 1675410396476,
     "user": {
      "displayName": "김운호",
      "userId": "09296731886450682327"
     },
     "user_tz": -540
    },
    "id": "7DzKTyb-sk3x",
    "outputId": "df337cb6-8414-4cf7-dc77-457faa8c54bf"
   },
   "outputs": [
    {
     "name": "stdout",
     "output_type": "stream",
     "text": [
      "<class 'pandas.core.frame.DataFrame'>\n",
      "RangeIndex: 300153 entries, 0 to 300152\n",
      "Data columns (total 11 columns):\n",
      " #   Column            Non-Null Count   Dtype  \n",
      "---  ------            --------------   -----  \n",
      " 0   airline           300153 non-null  object \n",
      " 1   flight            300153 non-null  object \n",
      " 2   source_city       300153 non-null  object \n",
      " 3   departure_time    300153 non-null  object \n",
      " 4   stops             300153 non-null  object \n",
      " 5   arrival_time      300153 non-null  object \n",
      " 6   destination_city  300153 non-null  object \n",
      " 7   class             300153 non-null  object \n",
      " 8   duration          300153 non-null  float64\n",
      " 9   days_left         300153 non-null  float64\n",
      " 10  price             300153 non-null  float64\n",
      "dtypes: float64(3), object(8)\n",
      "memory usage: 25.2+ MB\n"
     ]
    }
   ],
   "source": [
    "# bfill을 이용한 결측치 대체하기\n",
    "df_na=df_na.fillna(method='bfill')\n",
    "df_na.info()"
   ]
  },
  {
   "cell_type": "code",
   "execution_count": 14,
   "metadata": {
    "ExecuteTime": {
     "end_time": "2023-05-08T02:31:52.940074Z",
     "start_time": "2023-05-08T02:31:52.923437Z"
    },
    "colab": {
     "base_uri": "https://localhost:8080/",
     "height": 288
    },
    "executionInfo": {
     "elapsed": 310,
     "status": "ok",
     "timestamp": 1675410411012,
     "user": {
      "displayName": "김운호",
      "userId": "09296731886450682327"
     },
     "user_tz": -540
    },
    "id": "Ms6RvoW9sntQ",
    "outputId": "66f7ce8a-5b4c-48bd-8712-7fb5b281b317"
   },
   "outputs": [
    {
     "data": {
      "text/html": [
       "<div>\n",
       "<style scoped>\n",
       "    .dataframe tbody tr th:only-of-type {\n",
       "        vertical-align: middle;\n",
       "    }\n",
       "\n",
       "    .dataframe tbody tr th {\n",
       "        vertical-align: top;\n",
       "    }\n",
       "\n",
       "    .dataframe thead th {\n",
       "        text-align: right;\n",
       "    }\n",
       "</style>\n",
       "<table border=\"1\" class=\"dataframe\">\n",
       "  <thead>\n",
       "    <tr style=\"text-align: right;\">\n",
       "      <th></th>\n",
       "      <th>airline</th>\n",
       "      <th>flight</th>\n",
       "      <th>source_city</th>\n",
       "      <th>departure_time</th>\n",
       "      <th>stops</th>\n",
       "      <th>arrival_time</th>\n",
       "      <th>destination_city</th>\n",
       "      <th>class</th>\n",
       "      <th>duration</th>\n",
       "      <th>days_left</th>\n",
       "      <th>price</th>\n",
       "    </tr>\n",
       "  </thead>\n",
       "  <tbody>\n",
       "    <tr>\n",
       "      <th>0</th>\n",
       "      <td>SpiceJet</td>\n",
       "      <td>SG-8709</td>\n",
       "      <td>Delhi</td>\n",
       "      <td>Evening</td>\n",
       "      <td>zero</td>\n",
       "      <td>Night</td>\n",
       "      <td>Mumbai</td>\n",
       "      <td>Economy</td>\n",
       "      <td>2.170000</td>\n",
       "      <td>1.000000</td>\n",
       "      <td>5953.000000</td>\n",
       "    </tr>\n",
       "    <tr>\n",
       "      <th>1</th>\n",
       "      <td>AirAsia</td>\n",
       "      <td>I5-764</td>\n",
       "      <td>Delhi</td>\n",
       "      <td>Early_Morning</td>\n",
       "      <td>zero</td>\n",
       "      <td>Early_Morning</td>\n",
       "      <td>Mumbai</td>\n",
       "      <td>Economy</td>\n",
       "      <td>12.220991</td>\n",
       "      <td>26.006369</td>\n",
       "      <td>20888.967105</td>\n",
       "    </tr>\n",
       "    <tr>\n",
       "      <th>2</th>\n",
       "      <td>AirAsia</td>\n",
       "      <td>I5-764</td>\n",
       "      <td>Delhi</td>\n",
       "      <td>Early_Morning</td>\n",
       "      <td>zero</td>\n",
       "      <td>Early_Morning</td>\n",
       "      <td>Mumbai</td>\n",
       "      <td>Economy</td>\n",
       "      <td>2.170000</td>\n",
       "      <td>1.000000</td>\n",
       "      <td>5956.000000</td>\n",
       "    </tr>\n",
       "    <tr>\n",
       "      <th>3</th>\n",
       "      <td>Vistara</td>\n",
       "      <td>UK-963</td>\n",
       "      <td>Delhi</td>\n",
       "      <td>Morning</td>\n",
       "      <td>zero</td>\n",
       "      <td>Morning</td>\n",
       "      <td>Mumbai</td>\n",
       "      <td>Economy</td>\n",
       "      <td>12.220991</td>\n",
       "      <td>26.006369</td>\n",
       "      <td>20888.967105</td>\n",
       "    </tr>\n",
       "    <tr>\n",
       "      <th>4</th>\n",
       "      <td>Vistara</td>\n",
       "      <td>UK-963</td>\n",
       "      <td>Delhi</td>\n",
       "      <td>Morning</td>\n",
       "      <td>zero</td>\n",
       "      <td>Morning</td>\n",
       "      <td>Mumbai</td>\n",
       "      <td>Economy</td>\n",
       "      <td>2.330000</td>\n",
       "      <td>1.000000</td>\n",
       "      <td>5955.000000</td>\n",
       "    </tr>\n",
       "  </tbody>\n",
       "</table>\n",
       "</div>"
      ],
      "text/plain": [
       "    airline   flight source_city departure_time stops   arrival_time  \\\n",
       "0  SpiceJet  SG-8709       Delhi        Evening  zero          Night   \n",
       "1   AirAsia   I5-764       Delhi  Early_Morning  zero  Early_Morning   \n",
       "2   AirAsia   I5-764       Delhi  Early_Morning  zero  Early_Morning   \n",
       "3   Vistara   UK-963       Delhi        Morning  zero        Morning   \n",
       "4   Vistara   UK-963       Delhi        Morning  zero        Morning   \n",
       "\n",
       "  destination_city    class   duration  days_left         price  \n",
       "0           Mumbai  Economy   2.170000   1.000000   5953.000000  \n",
       "1           Mumbai  Economy  12.220991  26.006369  20888.967105  \n",
       "2           Mumbai  Economy   2.170000   1.000000   5956.000000  \n",
       "3           Mumbai  Economy  12.220991  26.006369  20888.967105  \n",
       "4           Mumbai  Economy   2.330000   1.000000   5955.000000  "
      ]
     },
     "execution_count": 14,
     "metadata": {},
     "output_type": "execute_result"
    }
   ],
   "source": [
    "#0번 인덱스부터 5개의 데이터를 불러와서 1번과 3번 인덱스의 대체 결과 확인하기\n",
    "df_na.head()"
   ]
  },
  {
   "attachments": {},
   "cell_type": "markdown",
   "metadata": {
    "id": "0g7UfrvwstDw"
   },
   "source": [
    "## 3. 이상치 파악하기"
   ]
  },
  {
   "cell_type": "markdown",
   "metadata": {
    "id": "qa8W3ickB3qJ"
   },
   "source": [
    "### 1) z-score로 확인하기"
   ]
  },
  {
   "cell_type": "code",
   "execution_count": 15,
   "metadata": {
    "ExecuteTime": {
     "end_time": "2023-03-10T04:19:49.047236Z",
     "start_time": "2023-03-10T04:19:48.990409Z"
    },
    "colab": {
     "base_uri": "https://localhost:8080/",
     "height": 488
    },
    "executionInfo": {
     "elapsed": 310,
     "status": "ok",
     "timestamp": 1675410671416,
     "user": {
      "displayName": "김운호",
      "userId": "09296731886450682327"
     },
     "user_tz": -540
    },
    "id": "VzG0ddH1spdQ",
    "outputId": "4fda70ec-140f-4543-c045-72acdcdb8636"
   },
   "outputs": [
    {
     "data": {
      "text/html": [
       "<div>\n",
       "<style scoped>\n",
       "    .dataframe tbody tr th:only-of-type {\n",
       "        vertical-align: middle;\n",
       "    }\n",
       "\n",
       "    .dataframe tbody tr th {\n",
       "        vertical-align: top;\n",
       "    }\n",
       "\n",
       "    .dataframe thead th {\n",
       "        text-align: right;\n",
       "    }\n",
       "</style>\n",
       "<table border=\"1\" class=\"dataframe\">\n",
       "  <thead>\n",
       "    <tr style=\"text-align: right;\">\n",
       "      <th></th>\n",
       "      <th>airline</th>\n",
       "      <th>flight</th>\n",
       "      <th>source_city</th>\n",
       "      <th>departure_time</th>\n",
       "      <th>stops</th>\n",
       "      <th>arrival_time</th>\n",
       "      <th>destination_city</th>\n",
       "      <th>class</th>\n",
       "      <th>duration</th>\n",
       "      <th>days_left</th>\n",
       "      <th>price</th>\n",
       "    </tr>\n",
       "  </thead>\n",
       "  <tbody>\n",
       "    <tr>\n",
       "      <th>206691</th>\n",
       "      <td>Vistara</td>\n",
       "      <td>UK-809</td>\n",
       "      <td>Delhi</td>\n",
       "      <td>Evening</td>\n",
       "      <td>one</td>\n",
       "      <td>Morning</td>\n",
       "      <td>Mumbai</td>\n",
       "      <td>Business</td>\n",
       "      <td>12.42</td>\n",
       "      <td>1</td>\n",
       "      <td>74640</td>\n",
       "    </tr>\n",
       "    <tr>\n",
       "      <th>206692</th>\n",
       "      <td>Vistara</td>\n",
       "      <td>UK-813</td>\n",
       "      <td>Delhi</td>\n",
       "      <td>Evening</td>\n",
       "      <td>one</td>\n",
       "      <td>Morning</td>\n",
       "      <td>Mumbai</td>\n",
       "      <td>Business</td>\n",
       "      <td>14.67</td>\n",
       "      <td>1</td>\n",
       "      <td>74640</td>\n",
       "    </tr>\n",
       "    <tr>\n",
       "      <th>206693</th>\n",
       "      <td>Vistara</td>\n",
       "      <td>UK-809</td>\n",
       "      <td>Delhi</td>\n",
       "      <td>Evening</td>\n",
       "      <td>one</td>\n",
       "      <td>Night</td>\n",
       "      <td>Mumbai</td>\n",
       "      <td>Business</td>\n",
       "      <td>24.42</td>\n",
       "      <td>1</td>\n",
       "      <td>74640</td>\n",
       "    </tr>\n",
       "    <tr>\n",
       "      <th>206694</th>\n",
       "      <td>Vistara</td>\n",
       "      <td>UK-809</td>\n",
       "      <td>Delhi</td>\n",
       "      <td>Evening</td>\n",
       "      <td>one</td>\n",
       "      <td>Night</td>\n",
       "      <td>Mumbai</td>\n",
       "      <td>Business</td>\n",
       "      <td>26.00</td>\n",
       "      <td>1</td>\n",
       "      <td>74640</td>\n",
       "    </tr>\n",
       "    <tr>\n",
       "      <th>206695</th>\n",
       "      <td>Vistara</td>\n",
       "      <td>UK-813</td>\n",
       "      <td>Delhi</td>\n",
       "      <td>Evening</td>\n",
       "      <td>one</td>\n",
       "      <td>Night</td>\n",
       "      <td>Mumbai</td>\n",
       "      <td>Business</td>\n",
       "      <td>26.67</td>\n",
       "      <td>1</td>\n",
       "      <td>74640</td>\n",
       "    </tr>\n",
       "    <tr>\n",
       "      <th>...</th>\n",
       "      <td>...</td>\n",
       "      <td>...</td>\n",
       "      <td>...</td>\n",
       "      <td>...</td>\n",
       "      <td>...</td>\n",
       "      <td>...</td>\n",
       "      <td>...</td>\n",
       "      <td>...</td>\n",
       "      <td>...</td>\n",
       "      <td>...</td>\n",
       "      <td>...</td>\n",
       "    </tr>\n",
       "    <tr>\n",
       "      <th>300148</th>\n",
       "      <td>Vistara</td>\n",
       "      <td>UK-822</td>\n",
       "      <td>Chennai</td>\n",
       "      <td>Morning</td>\n",
       "      <td>one</td>\n",
       "      <td>Evening</td>\n",
       "      <td>Hyderabad</td>\n",
       "      <td>Business</td>\n",
       "      <td>10.08</td>\n",
       "      <td>49</td>\n",
       "      <td>69265</td>\n",
       "    </tr>\n",
       "    <tr>\n",
       "      <th>300149</th>\n",
       "      <td>Vistara</td>\n",
       "      <td>UK-826</td>\n",
       "      <td>Chennai</td>\n",
       "      <td>Afternoon</td>\n",
       "      <td>one</td>\n",
       "      <td>Night</td>\n",
       "      <td>Hyderabad</td>\n",
       "      <td>Business</td>\n",
       "      <td>10.42</td>\n",
       "      <td>49</td>\n",
       "      <td>77105</td>\n",
       "    </tr>\n",
       "    <tr>\n",
       "      <th>300150</th>\n",
       "      <td>Vistara</td>\n",
       "      <td>UK-832</td>\n",
       "      <td>Chennai</td>\n",
       "      <td>Early_Morning</td>\n",
       "      <td>one</td>\n",
       "      <td>Night</td>\n",
       "      <td>Hyderabad</td>\n",
       "      <td>Business</td>\n",
       "      <td>13.83</td>\n",
       "      <td>49</td>\n",
       "      <td>79099</td>\n",
       "    </tr>\n",
       "    <tr>\n",
       "      <th>300151</th>\n",
       "      <td>Vistara</td>\n",
       "      <td>UK-828</td>\n",
       "      <td>Chennai</td>\n",
       "      <td>Early_Morning</td>\n",
       "      <td>one</td>\n",
       "      <td>Evening</td>\n",
       "      <td>Hyderabad</td>\n",
       "      <td>Business</td>\n",
       "      <td>10.00</td>\n",
       "      <td>49</td>\n",
       "      <td>81585</td>\n",
       "    </tr>\n",
       "    <tr>\n",
       "      <th>300152</th>\n",
       "      <td>Vistara</td>\n",
       "      <td>UK-822</td>\n",
       "      <td>Chennai</td>\n",
       "      <td>Morning</td>\n",
       "      <td>one</td>\n",
       "      <td>Evening</td>\n",
       "      <td>Hyderabad</td>\n",
       "      <td>Business</td>\n",
       "      <td>10.08</td>\n",
       "      <td>49</td>\n",
       "      <td>81585</td>\n",
       "    </tr>\n",
       "  </tbody>\n",
       "</table>\n",
       "<p>12493 rows × 11 columns</p>\n",
       "</div>"
      ],
      "text/plain": [
       "        airline  flight source_city departure_time stops arrival_time  \\\n",
       "206691  Vistara  UK-809       Delhi        Evening   one      Morning   \n",
       "206692  Vistara  UK-813       Delhi        Evening   one      Morning   \n",
       "206693  Vistara  UK-809       Delhi        Evening   one        Night   \n",
       "206694  Vistara  UK-809       Delhi        Evening   one        Night   \n",
       "206695  Vistara  UK-813       Delhi        Evening   one        Night   \n",
       "...         ...     ...         ...            ...   ...          ...   \n",
       "300148  Vistara  UK-822     Chennai        Morning   one      Evening   \n",
       "300149  Vistara  UK-826     Chennai      Afternoon   one        Night   \n",
       "300150  Vistara  UK-832     Chennai  Early_Morning   one        Night   \n",
       "300151  Vistara  UK-828     Chennai  Early_Morning   one      Evening   \n",
       "300152  Vistara  UK-822     Chennai        Morning   one      Evening   \n",
       "\n",
       "       destination_city     class  duration  days_left  price  \n",
       "206691           Mumbai  Business     12.42          1  74640  \n",
       "206692           Mumbai  Business     14.67          1  74640  \n",
       "206693           Mumbai  Business     24.42          1  74640  \n",
       "206694           Mumbai  Business     26.00          1  74640  \n",
       "206695           Mumbai  Business     26.67          1  74640  \n",
       "...                 ...       ...       ...        ...    ...  \n",
       "300148        Hyderabad  Business     10.08         49  69265  \n",
       "300149        Hyderabad  Business     10.42         49  77105  \n",
       "300150        Hyderabad  Business     13.83         49  79099  \n",
       "300151        Hyderabad  Business     10.00         49  81585  \n",
       "300152        Hyderabad  Business     10.08         49  81585  \n",
       "\n",
       "[12493 rows x 11 columns]"
      ]
     },
     "execution_count": 15,
     "metadata": {},
     "output_type": "execute_result"
    }
   ],
   "source": [
    "# Z-score를 기준으로 신뢰 수준이 95%인 데이터 확인하기\n",
    "df[(abs((df['price']-df['price'].mean())/df['price'].std()))>1.96]"
   ]
  },
  {
   "cell_type": "markdown",
   "metadata": {
    "id": "KPEsI_giCFWv"
   },
   "source": [
    "### 2) IQR(Inter Quartile Range)로 확인하기"
   ]
  },
  {
   "cell_type": "code",
   "execution_count": 16,
   "metadata": {
    "ExecuteTime": {
     "end_time": "2023-03-10T04:19:49.062335Z",
     "start_time": "2023-03-10T04:19:49.052354Z"
    },
    "executionInfo": {
     "elapsed": 307,
     "status": "ok",
     "timestamp": 1675410980660,
     "user": {
      "displayName": "김운호",
      "userId": "09296731886450682327"
     },
     "user_tz": -540
    },
    "id": "eis3fLo6swER"
   },
   "outputs": [],
   "source": [
    "# IQR 기준 이상치 확인하는 함수 만들기\n",
    "def findOutliers(x, column):\n",
    "\n",
    "    # 제1사분위수 q1 구하기\n",
    "    q1 = x[column].quantile(0.25)\n",
    "\n",
    "    # 제3사분위수 q3 구하기\n",
    "    q3 = x[column].quantile(0.75)\n",
    "\n",
    "    # IQR의 1.5배수 IQR 구하기\n",
    "    iqr = 1.5 * (q3 - q1)\n",
    "\n",
    "    # 제3사분위수에서 IQR의 1.5배보다 크거나 제1사분위수에서 IQR의 1.5배보다 작은값만 저장한 데이터 y 만들기\n",
    "    y=x[(x[column] > (q3 + iqr)) | (x[column] < (q1 - iqr))]\n",
    "\n",
    "    # IQR기준 이상치 y 반환하기\n",
    "    return len(y)"
   ]
  },
  {
   "cell_type": "code",
   "execution_count": 17,
   "metadata": {
    "ExecuteTime": {
     "end_time": "2023-03-10T04:19:49.138515Z",
     "start_time": "2023-03-10T04:19:49.067197Z"
    },
    "colab": {
     "base_uri": "https://localhost:8080/"
    },
    "executionInfo": {
     "elapsed": 311,
     "status": "ok",
     "timestamp": 1675411035244,
     "user": {
      "displayName": "김운호",
      "userId": "09296731886450682327"
     },
     "user_tz": -540
    },
    "id": "tWGRLGeUsyrw",
    "outputId": "477d93f8-3f38-41d5-adb6-6b20302b933f"
   },
   "outputs": [
    {
     "name": "stdout",
     "output_type": "stream",
     "text": [
      "price IQR Outliers :  123\n",
      "durationIQR Outliers :  2110\n",
      "days_left IQR Outliers :  0\n"
     ]
    }
   ],
   "source": [
    "# price, duration, days_left 에 대하여 IQR기준 이상치 개수 확인하기\n",
    "print(\"price IQR Outliers : \",findOutliers(df,'price'))\n",
    "print(\"durationIQR Outliers : \",findOutliers(df,'duration'))\n",
    "print(\"days_left IQR Outliers : \",findOutliers(df,'days_left'))"
   ]
  },
  {
   "cell_type": "code",
   "execution_count": 18,
   "metadata": {
    "ExecuteTime": {
     "end_time": "2023-03-10T04:19:50.690191Z",
     "start_time": "2023-03-10T04:19:49.141556Z"
    },
    "colab": {
     "base_uri": "https://localhost:8080/",
     "height": 266
    },
    "executionInfo": {
     "elapsed": 1538,
     "status": "ok",
     "timestamp": 1675411202050,
     "user": {
      "displayName": "김운호",
      "userId": "09296731886450682327"
     },
     "user_tz": -540
    },
    "id": "opBUeEjYsz8w",
    "outputId": "d0bd340f-545a-4eb1-dd14-18f89f901e44"
   },
   "outputs": [
    {
     "data": {
      "image/png": "[encoded data removed]",
      "text/plain": [
       "<Figure size 432x288 with 3 Axes>"
      ]
     },
     "metadata": {
      "needs_background": "light"
     },
     "output_type": "display_data"
    }
   ],
   "source": [
    "# 시각화를 위해 matplotlib.pyplot 불러오기\n",
    "import matplotlib.pyplot as plt\n",
    "\n",
    "plt.figure()\n",
    "# 첫 번째 subplot : 1행 5열로 나눈영역에서 첫번째 영역\n",
    "plt.subplot(151)\n",
    "df[['duration']].boxplot()\n",
    "plt.ylabel(\"Time\")\n",
    "\n",
    "# 두 번째 subplot : 1행 5열로 나눈영역에서 세번째 영역\n",
    "plt.subplot(153)\n",
    "df[['days_left']].boxplot()\n",
    "plt.ylabel(\"Days\")\n",
    "\n",
    "# 세 번째 subplot : 1행 5열로 나눈영역에서 다섯번째 영역\n",
    "plt.subplot(155)\n",
    "df[['price']].boxplot()\n",
    "plt.ylabel(\"Price\")\n",
    "plt.show()"
   ]
  },
  {
   "attachments": {},
   "cell_type": "markdown",
   "metadata": {
    "id": "tlP4n6ietN5w"
   },
   "source": [
    "## 4. 이상치 처리하기"
   ]
  },
  {
   "cell_type": "code",
   "execution_count": 19,
   "metadata": {
    "ExecuteTime": {
     "end_time": "2023-03-10T04:19:50.751027Z",
     "start_time": "2023-03-10T04:19:50.693321Z"
    },
    "executionInfo": {
     "elapsed": 304,
     "status": "ok",
     "timestamp": 1675411270963,
     "user": {
      "displayName": "김운호",
      "userId": "09296731886450682327"
     },
     "user_tz": -540
    },
    "id": "dUNlk1qmtMIP"
   },
   "outputs": [],
   "source": [
    "# 데이터 변형에 대비하여 데이터 원본 복사해두기\n",
    "df_origin=df.copy()"
   ]
  },
  {
   "cell_type": "markdown",
   "metadata": {
    "id": "nUB1pdL0CPVa"
   },
   "source": [
    "### 1) 이상치 데이터 삭제하기"
   ]
  },
  {
   "cell_type": "code",
   "execution_count": 20,
   "metadata": {
    "ExecuteTime": {
     "end_time": "2023-03-10T04:19:50.918635Z",
     "start_time": "2023-03-10T04:19:50.752791Z"
    },
    "colab": {
     "base_uri": "https://localhost:8080/"
    },
    "executionInfo": {
     "elapsed": 299,
     "status": "ok",
     "timestamp": 1675411443323,
     "user": {
      "displayName": "김운호",
      "userId": "09296731886450682327"
     },
     "user_tz": -540
    },
    "id": "Ycrt2bmKtQs4",
    "outputId": "cd1c50bb-9e19-4232-f20a-c3bd2eafac96"
   },
   "outputs": [
    {
     "name": "stdout",
     "output_type": "stream",
     "text": [
      "<class 'pandas.core.frame.DataFrame'>\n",
      "Int64Index: 287660 entries, 0 to 300146\n",
      "Data columns (total 11 columns):\n",
      " #   Column            Non-Null Count   Dtype  \n",
      "---  ------            --------------   -----  \n",
      " 0   airline           287660 non-null  object \n",
      " 1   flight            287660 non-null  object \n",
      " 2   source_city       287660 non-null  object \n",
      " 3   departure_time    287660 non-null  object \n",
      " 4   stops             287660 non-null  object \n",
      " 5   arrival_time      287660 non-null  object \n",
      " 6   destination_city  287660 non-null  object \n",
      " 7   class             287660 non-null  object \n",
      " 8   duration          287660 non-null  float64\n",
      " 9   days_left         287660 non-null  int64  \n",
      " 10  price             287660 non-null  int64  \n",
      "dtypes: float64(1), int64(2), object(8)\n",
      "memory usage: 26.3+ MB\n"
     ]
    }
   ],
   "source": [
    "# 신뢰도 95% 기준 이상치 Index 추출하기\n",
    "outlier=df[(abs((df['price']-df['price'].mean())/df['price'].std()))>1.96].index\n",
    "\n",
    "# 추출한 인덱스의 행 삭제해서 clean_df 데이터 만들기 \n",
    "clean_df=df.drop(outlier)\n",
    "clean_df.info()"
   ]
  },
  {
   "cell_type": "code",
   "execution_count": 21,
   "metadata": {
    "ExecuteTime": {
     "end_time": "2023-03-10T04:19:51.253102Z",
     "start_time": "2023-03-10T04:19:50.920360Z"
    },
    "colab": {
     "base_uri": "https://localhost:8080/",
     "height": 320
    },
    "executionInfo": {
     "elapsed": 777,
     "status": "ok",
     "timestamp": 1675411536609,
     "user": {
      "displayName": "김운호",
      "userId": "09296731886450682327"
     },
     "user_tz": -540
    },
    "id": "M85XUvg-tUjY",
    "outputId": "88c7a28d-234b-4912-e2fd-9dc9465747f3"
   },
   "outputs": [
    {
     "data": {
      "image/png": "[encoded data removed]",
      "text/plain": [
       "<Figure size 288x360 with 1 Axes>"
      ]
     },
     "metadata": {
      "needs_background": "light"
     },
     "output_type": "display_data"
    }
   ],
   "source": [
    "plt.figure(figsize=(4,5))\n",
    "\n",
    "# 박스 그래프 활용하여 이상치 제거 여부 확인하기\n",
    "clean_df[['price']].boxplot()\n",
    "plt.show()"
   ]
  },
  {
   "cell_type": "markdown",
   "metadata": {
    "id": "rOJcyE20CXeq"
   },
   "source": [
    "### 2) 이상치 데이터 대체하기"
   ]
  },
  {
   "cell_type": "code",
   "execution_count": 22,
   "metadata": {
    "ExecuteTime": {
     "end_time": "2023-03-10T04:19:51.403409Z",
     "start_time": "2023-03-10T04:19:51.255760Z"
    },
    "colab": {
     "base_uri": "https://localhost:8080/"
    },
    "executionInfo": {
     "elapsed": 4,
     "status": "ok",
     "timestamp": 1675411758014,
     "user": {
      "displayName": "김운호",
      "userId": "09296731886450682327"
     },
     "user_tz": -540
    },
    "id": "KtqgFtY_tW9w",
    "outputId": "d65b03e2-e9d6-410c-a01e-87f6c9b4e648"
   },
   "outputs": [
    {
     "name": "stdout",
     "output_type": "stream",
     "text": [
      "<class 'pandas.core.frame.DataFrame'>\n",
      "RangeIndex: 300153 entries, 0 to 300152\n",
      "Data columns (total 11 columns):\n",
      " #   Column            Non-Null Count   Dtype  \n",
      "---  ------            --------------   -----  \n",
      " 0   airline           300153 non-null  object \n",
      " 1   flight            300153 non-null  object \n",
      " 2   source_city       300153 non-null  object \n",
      " 3   departure_time    300153 non-null  object \n",
      " 4   stops             300153 non-null  object \n",
      " 5   arrival_time      300153 non-null  object \n",
      " 6   destination_city  300153 non-null  object \n",
      " 7   class             300153 non-null  object \n",
      " 8   duration          300153 non-null  float64\n",
      " 9   days_left         300153 non-null  int64  \n",
      " 10  price             300153 non-null  float64\n",
      "dtypes: float64(2), int64(1), object(8)\n",
      "memory usage: 25.2+ MB\n"
     ]
    }
   ],
   "source": [
    "# IQR 기준 이상치를 대체하는 함수 만들기\n",
    "def changeOutliers(x, column):\n",
    "\n",
    "    # 제1사분위수 q1 구하기\n",
    "    q1 = x[column].quantile(0.25)\n",
    "\n",
    "    # 제3사분위수 q3 구하기\n",
    "    q3 = x[column].quantile(0.75)\n",
    "\n",
    "    # IQR의 1.5배수 IQR 구하기  \n",
    "    iqr = 1.5 * (q3 - q1)\n",
    "\n",
    "    # 이상치를 대체할 Min, Max값 설정하기\n",
    "    Min=(q1 - iqr) \n",
    "    Max = q3 + iqr\n",
    "\n",
    "    # Max보다 크값은 Max로, Min보다 작은값은 Min으로 대체하기\n",
    "    x.loc[(x[column] > Max), column]= Max\n",
    "    x.loc[(x[column] < Min), column]= Min\n",
    "    \n",
    "    # x리턴하기\n",
    "    return(x)\n",
    "\n",
    "# price에 대하여 이상치 대체하기\n",
    "clean_df=changeOutliers(df, 'price')\n",
    "clean_df.info()"
   ]
  },
  {
   "cell_type": "code",
   "execution_count": 23,
   "metadata": {
    "ExecuteTime": {
     "end_time": "2023-03-10T04:19:51.433673Z",
     "start_time": "2023-03-10T04:19:51.408412Z"
    },
    "colab": {
     "base_uri": "https://localhost:8080/"
    },
    "executionInfo": {
     "elapsed": 280,
     "status": "ok",
     "timestamp": 1675411816286,
     "user": {
      "displayName": "김운호",
      "userId": "09296731886450682327"
     },
     "user_tz": -540
    },
    "id": "NE5kMMk2tZQZ",
    "outputId": "0eb9a479-15d9-4857-fe33-5b23b2075e3e"
   },
   "outputs": [
    {
     "name": "stdout",
     "output_type": "stream",
     "text": [
      "price IQR Outliers :  0\n"
     ]
    }
   ],
   "source": [
    "# price에 대하여 IQR기준 이상치 개수 확인하기\n",
    "print(\"price IQR Outliers : \",findOutliers(clean_df,'price'))"
   ]
  },
  {
   "cell_type": "code",
   "execution_count": 24,
   "metadata": {
    "ExecuteTime": {
     "end_time": "2023-03-10T04:19:51.798621Z",
     "start_time": "2023-03-10T04:19:51.436682Z"
    },
    "colab": {
     "base_uri": "https://localhost:8080/",
     "height": 320
    },
    "executionInfo": {
     "elapsed": 753,
     "status": "ok",
     "timestamp": 1675411833916,
     "user": {
      "displayName": "김운호",
      "userId": "09296731886450682327"
     },
     "user_tz": -540
    },
    "id": "z2fDE7NDtfrB",
    "outputId": "8c0fbae8-9139-42a6-b563-82345471bd13"
   },
   "outputs": [
    {
     "data": {
      "image/png": "[encoded data removed]",
      "text/plain": [
       "<Figure size 288x360 with 1 Axes>"
      ]
     },
     "metadata": {
      "needs_background": "light"
     },
     "output_type": "display_data"
    }
   ],
   "source": [
    "plt.figure(figsize=(4,5))\n",
    "\n",
    "# 박스그래프 활용하여 이상치 대체 여부 확인하기\n",
    "clean_df[['price']].boxplot()\n",
    "plt.show()"
   ]
  },
  {
   "attachments": {},
   "cell_type": "markdown",
   "metadata": {
    "id": "fKOAKisEts0B"
   },
   "source": [
    "## 5. 구간화(binning)하기"
   ]
  },
  {
   "cell_type": "markdown",
   "metadata": {
    "id": "Vnnf4pcfCh2j"
   },
   "source": [
    "### 1) 동일 길이로 구간화하기"
   ]
  },
  {
   "cell_type": "code",
   "execution_count": 25,
   "metadata": {
    "ExecuteTime": {
     "end_time": "2023-03-10T04:19:51.828541Z",
     "start_time": "2023-03-10T04:19:51.800411Z"
    },
    "colab": {
     "base_uri": "https://localhost:8080/",
     "height": 305
    },
    "executionInfo": {
     "elapsed": 329,
     "status": "ok",
     "timestamp": 1675412214464,
     "user": {
      "displayName": "김운호",
      "userId": "09296731886450682327"
     },
     "user_tz": -540
    },
    "id": "9M7Hd0iatjBx",
    "outputId": "1aad6a68-e608-46e0-ddbf-acf18c840300"
   },
   "outputs": [
    {
     "data": {
      "text/html": [
       "<div>\n",
       "<style scoped>\n",
       "    .dataframe tbody tr th:only-of-type {\n",
       "        vertical-align: middle;\n",
       "    }\n",
       "\n",
       "    .dataframe tbody tr th {\n",
       "        vertical-align: top;\n",
       "    }\n",
       "\n",
       "    .dataframe thead th {\n",
       "        text-align: right;\n",
       "    }\n",
       "</style>\n",
       "<table border=\"1\" class=\"dataframe\">\n",
       "  <thead>\n",
       "    <tr style=\"text-align: right;\">\n",
       "      <th></th>\n",
       "      <th>airline</th>\n",
       "      <th>flight</th>\n",
       "      <th>source_city</th>\n",
       "      <th>departure_time</th>\n",
       "      <th>stops</th>\n",
       "      <th>arrival_time</th>\n",
       "      <th>destination_city</th>\n",
       "      <th>class</th>\n",
       "      <th>duration</th>\n",
       "      <th>days_left</th>\n",
       "      <th>price</th>\n",
       "      <th>distance</th>\n",
       "    </tr>\n",
       "  </thead>\n",
       "  <tbody>\n",
       "    <tr>\n",
       "      <th>0</th>\n",
       "      <td>SpiceJet</td>\n",
       "      <td>SG-8709</td>\n",
       "      <td>Delhi</td>\n",
       "      <td>Evening</td>\n",
       "      <td>zero</td>\n",
       "      <td>Night</td>\n",
       "      <td>Mumbai</td>\n",
       "      <td>Economy</td>\n",
       "      <td>2.17</td>\n",
       "      <td>1</td>\n",
       "      <td>5953.0</td>\n",
       "      <td>short</td>\n",
       "    </tr>\n",
       "    <tr>\n",
       "      <th>1</th>\n",
       "      <td>SpiceJet</td>\n",
       "      <td>SG-8157</td>\n",
       "      <td>Delhi</td>\n",
       "      <td>Early_Morning</td>\n",
       "      <td>zero</td>\n",
       "      <td>Morning</td>\n",
       "      <td>Mumbai</td>\n",
       "      <td>Economy</td>\n",
       "      <td>2.33</td>\n",
       "      <td>1</td>\n",
       "      <td>5953.0</td>\n",
       "      <td>short</td>\n",
       "    </tr>\n",
       "    <tr>\n",
       "      <th>2</th>\n",
       "      <td>AirAsia</td>\n",
       "      <td>I5-764</td>\n",
       "      <td>Delhi</td>\n",
       "      <td>Early_Morning</td>\n",
       "      <td>zero</td>\n",
       "      <td>Early_Morning</td>\n",
       "      <td>Mumbai</td>\n",
       "      <td>Economy</td>\n",
       "      <td>2.17</td>\n",
       "      <td>1</td>\n",
       "      <td>5956.0</td>\n",
       "      <td>short</td>\n",
       "    </tr>\n",
       "    <tr>\n",
       "      <th>3</th>\n",
       "      <td>Vistara</td>\n",
       "      <td>UK-995</td>\n",
       "      <td>Delhi</td>\n",
       "      <td>Morning</td>\n",
       "      <td>zero</td>\n",
       "      <td>Afternoon</td>\n",
       "      <td>Mumbai</td>\n",
       "      <td>Economy</td>\n",
       "      <td>2.25</td>\n",
       "      <td>1</td>\n",
       "      <td>5955.0</td>\n",
       "      <td>short</td>\n",
       "    </tr>\n",
       "    <tr>\n",
       "      <th>4</th>\n",
       "      <td>Vistara</td>\n",
       "      <td>UK-963</td>\n",
       "      <td>Delhi</td>\n",
       "      <td>Morning</td>\n",
       "      <td>zero</td>\n",
       "      <td>Morning</td>\n",
       "      <td>Mumbai</td>\n",
       "      <td>Economy</td>\n",
       "      <td>2.33</td>\n",
       "      <td>1</td>\n",
       "      <td>5955.0</td>\n",
       "      <td>short</td>\n",
       "    </tr>\n",
       "  </tbody>\n",
       "</table>\n",
       "</div>"
      ],
      "text/plain": [
       "    airline   flight source_city departure_time stops   arrival_time  \\\n",
       "0  SpiceJet  SG-8709       Delhi        Evening  zero          Night   \n",
       "1  SpiceJet  SG-8157       Delhi  Early_Morning  zero        Morning   \n",
       "2   AirAsia   I5-764       Delhi  Early_Morning  zero  Early_Morning   \n",
       "3   Vistara   UK-995       Delhi        Morning  zero      Afternoon   \n",
       "4   Vistara   UK-963       Delhi        Morning  zero        Morning   \n",
       "\n",
       "  destination_city    class  duration  days_left   price distance  \n",
       "0           Mumbai  Economy      2.17          1  5953.0    short  \n",
       "1           Mumbai  Economy      2.33          1  5953.0    short  \n",
       "2           Mumbai  Economy      2.17          1  5956.0    short  \n",
       "3           Mumbai  Economy      2.25          1  5955.0    short  \n",
       "4           Mumbai  Economy      2.33          1  5955.0    short  "
      ]
     },
     "execution_count": 25,
     "metadata": {},
     "output_type": "execute_result"
    }
   ],
   "source": [
    "# 비행시간을 0~5, 5~10, 10 이상의 3개의 구간으로 나누어 거리(distance)) 칼럼 생성하기\n",
    "df['distance']=pd.cut(df['duration'], bins=[0,5,10,df['duration'].max()], labels=['short','medium' ,'long'])\n",
    "df.head()"
   ]
  },
  {
   "cell_type": "code",
   "execution_count": 26,
   "metadata": {
    "ExecuteTime": {
     "end_time": "2023-03-10T04:19:51.843737Z",
     "start_time": "2023-03-10T04:19:51.830714Z"
    },
    "colab": {
     "base_uri": "https://localhost:8080/"
    },
    "executionInfo": {
     "elapsed": 363,
     "status": "ok",
     "timestamp": 1675412220215,
     "user": {
      "displayName": "김운호",
      "userId": "09296731886450682327"
     },
     "user_tz": -540
    },
    "id": "woInElyStlEQ",
    "outputId": "bc5dad71-00d4-4a06-99ce-84a676dd9326"
   },
   "outputs": [
    {
     "data": {
      "text/plain": [
       "long      169879\n",
       "medium     84761\n",
       "short      45513\n",
       "Name: distance, dtype: int64"
      ]
     },
     "execution_count": 26,
     "metadata": {},
     "output_type": "execute_result"
    }
   ],
   "source": [
    "# 거리 칼럼의 빈도분포 확인하기\n",
    "df['distance'].value_counts()"
   ]
  },
  {
   "cell_type": "markdown",
   "metadata": {
    "id": "UOtKxzT9Cljf"
   },
   "source": [
    "### 2) 동일 개수로 구간화하기"
   ]
  },
  {
   "cell_type": "code",
   "execution_count": 27,
   "metadata": {
    "ExecuteTime": {
     "end_time": "2023-03-10T04:19:51.888276Z",
     "start_time": "2023-03-10T04:19:51.846298Z"
    },
    "colab": {
     "base_uri": "https://localhost:8080/",
     "height": 305
    },
    "executionInfo": {
     "elapsed": 355,
     "status": "ok",
     "timestamp": 1675412285954,
     "user": {
      "displayName": "김운호",
      "userId": "09296731886450682327"
     },
     "user_tz": -540
    },
    "id": "sGPKHZ5Rtmto",
    "outputId": "e9adbf39-4116-4cb5-b66d-f8bdbef60d48"
   },
   "outputs": [
    {
     "data": {
      "text/html": [
       "<div>\n",
       "<style scoped>\n",
       "    .dataframe tbody tr th:only-of-type {\n",
       "        vertical-align: middle;\n",
       "    }\n",
       "\n",
       "    .dataframe tbody tr th {\n",
       "        vertical-align: top;\n",
       "    }\n",
       "\n",
       "    .dataframe thead th {\n",
       "        text-align: right;\n",
       "    }\n",
       "</style>\n",
       "<table border=\"1\" class=\"dataframe\">\n",
       "  <thead>\n",
       "    <tr style=\"text-align: right;\">\n",
       "      <th></th>\n",
       "      <th>airline</th>\n",
       "      <th>flight</th>\n",
       "      <th>source_city</th>\n",
       "      <th>departure_time</th>\n",
       "      <th>stops</th>\n",
       "      <th>arrival_time</th>\n",
       "      <th>destination_city</th>\n",
       "      <th>class</th>\n",
       "      <th>duration</th>\n",
       "      <th>days_left</th>\n",
       "      <th>price</th>\n",
       "      <th>distance</th>\n",
       "      <th>price_rate</th>\n",
       "    </tr>\n",
       "  </thead>\n",
       "  <tbody>\n",
       "    <tr>\n",
       "      <th>0</th>\n",
       "      <td>SpiceJet</td>\n",
       "      <td>SG-8709</td>\n",
       "      <td>Delhi</td>\n",
       "      <td>Evening</td>\n",
       "      <td>zero</td>\n",
       "      <td>Night</td>\n",
       "      <td>Mumbai</td>\n",
       "      <td>Economy</td>\n",
       "      <td>2.17</td>\n",
       "      <td>1</td>\n",
       "      <td>5953.0</td>\n",
       "      <td>short</td>\n",
       "      <td>nomal</td>\n",
       "    </tr>\n",
       "    <tr>\n",
       "      <th>1</th>\n",
       "      <td>SpiceJet</td>\n",
       "      <td>SG-8157</td>\n",
       "      <td>Delhi</td>\n",
       "      <td>Early_Morning</td>\n",
       "      <td>zero</td>\n",
       "      <td>Morning</td>\n",
       "      <td>Mumbai</td>\n",
       "      <td>Economy</td>\n",
       "      <td>2.33</td>\n",
       "      <td>1</td>\n",
       "      <td>5953.0</td>\n",
       "      <td>short</td>\n",
       "      <td>nomal</td>\n",
       "    </tr>\n",
       "    <tr>\n",
       "      <th>2</th>\n",
       "      <td>AirAsia</td>\n",
       "      <td>I5-764</td>\n",
       "      <td>Delhi</td>\n",
       "      <td>Early_Morning</td>\n",
       "      <td>zero</td>\n",
       "      <td>Early_Morning</td>\n",
       "      <td>Mumbai</td>\n",
       "      <td>Economy</td>\n",
       "      <td>2.17</td>\n",
       "      <td>1</td>\n",
       "      <td>5956.0</td>\n",
       "      <td>short</td>\n",
       "      <td>nomal</td>\n",
       "    </tr>\n",
       "    <tr>\n",
       "      <th>3</th>\n",
       "      <td>Vistara</td>\n",
       "      <td>UK-995</td>\n",
       "      <td>Delhi</td>\n",
       "      <td>Morning</td>\n",
       "      <td>zero</td>\n",
       "      <td>Afternoon</td>\n",
       "      <td>Mumbai</td>\n",
       "      <td>Economy</td>\n",
       "      <td>2.25</td>\n",
       "      <td>1</td>\n",
       "      <td>5955.0</td>\n",
       "      <td>short</td>\n",
       "      <td>nomal</td>\n",
       "    </tr>\n",
       "    <tr>\n",
       "      <th>4</th>\n",
       "      <td>Vistara</td>\n",
       "      <td>UK-963</td>\n",
       "      <td>Delhi</td>\n",
       "      <td>Morning</td>\n",
       "      <td>zero</td>\n",
       "      <td>Morning</td>\n",
       "      <td>Mumbai</td>\n",
       "      <td>Economy</td>\n",
       "      <td>2.33</td>\n",
       "      <td>1</td>\n",
       "      <td>5955.0</td>\n",
       "      <td>short</td>\n",
       "      <td>nomal</td>\n",
       "    </tr>\n",
       "  </tbody>\n",
       "</table>\n",
       "</div>"
      ],
      "text/plain": [
       "    airline   flight source_city departure_time stops   arrival_time  \\\n",
       "0  SpiceJet  SG-8709       Delhi        Evening  zero          Night   \n",
       "1  SpiceJet  SG-8157       Delhi  Early_Morning  zero        Morning   \n",
       "2   AirAsia   I5-764       Delhi  Early_Morning  zero  Early_Morning   \n",
       "3   Vistara   UK-995       Delhi        Morning  zero      Afternoon   \n",
       "4   Vistara   UK-963       Delhi        Morning  zero        Morning   \n",
       "\n",
       "  destination_city    class  duration  days_left   price distance price_rate  \n",
       "0           Mumbai  Economy      2.17          1  5953.0    short      nomal  \n",
       "1           Mumbai  Economy      2.33          1  5953.0    short      nomal  \n",
       "2           Mumbai  Economy      2.17          1  5956.0    short      nomal  \n",
       "3           Mumbai  Economy      2.25          1  5955.0    short      nomal  \n",
       "4           Mumbai  Economy      2.33          1  5955.0    short      nomal  "
      ]
     },
     "execution_count": 27,
     "metadata": {},
     "output_type": "execute_result"
    }
   ],
   "source": [
    "# 항공권 가격(price)를 4개 구간으로 동일하게 나누어 항공권 가격 비율 칼럼 생성하기\n",
    "df['price_rate']=pd.qcut(df['price'], 4, labels=['cheap','nomal' ,'expensive', 'too expensive'])\n",
    "df.head()"
   ]
  },
  {
   "cell_type": "code",
   "execution_count": 28,
   "metadata": {
    "ExecuteTime": {
     "end_time": "2023-03-10T04:19:51.903270Z",
     "start_time": "2023-03-10T04:19:51.890389Z"
    },
    "colab": {
     "base_uri": "https://localhost:8080/"
    },
    "executionInfo": {
     "elapsed": 309,
     "status": "ok",
     "timestamp": 1675412735081,
     "user": {
      "displayName": "김운호",
      "userId": "09296731886450682327"
     },
     "user_tz": -540
    },
    "id": "H0mObMQsto15",
    "outputId": "458c5728-8aa8-4826-a4a8-bb26dd5ce721"
   },
   "outputs": [
    {
     "data": {
      "text/plain": [
       "expensive        75584\n",
       "nomal            75117\n",
       "cheap            75073\n",
       "too expensive    74379\n",
       "Name: price_rate, dtype: int64"
      ]
     },
     "execution_count": 28,
     "metadata": {},
     "output_type": "execute_result"
    }
   ],
   "source": [
    "# 항공권 가격 비율 칼럼의 빈도 분포 확인하기\n",
    "df['price_rate'].value_counts()"
   ]
  },
  {
   "attachments": {},
   "cell_type": "markdown",
   "metadata": {
    "id": "aXw-f_Kwt0ub"
   },
   "source": [
    "# SECTION 02. 범주형 데이터 정제하기"
   ]
  },
  {
   "attachments": {},
   "cell_type": "markdown",
   "metadata": {
    "id": "Hf-Y_luWNR9q"
   },
   "source": [
    "## 1. 레이블 인코딩 하기"
   ]
  },
  {
   "cell_type": "markdown",
   "metadata": {
    "id": "FfB2YiYmCqE0"
   },
   "source": [
    "### 1) 판다스에서 레이블 인코딩하기"
   ]
  },
  {
   "cell_type": "code",
   "execution_count": 29,
   "metadata": {
    "ExecuteTime": {
     "end_time": "2023-03-10T04:19:51.964633Z",
     "start_time": "2023-03-10T04:19:51.906959Z"
    },
    "colab": {
     "base_uri": "https://localhost:8080/",
     "height": 305
    },
    "executionInfo": {
     "elapsed": 314,
     "status": "ok",
     "timestamp": 1675412887353,
     "user": {
      "displayName": "김운호",
      "userId": "09296731886450682327"
     },
     "user_tz": -540
    },
    "id": "iEg1Mi4AtyJh",
    "outputId": "72f9c505-a54b-47e4-deb8-75cc7ca18457"
   },
   "outputs": [
    {
     "data": {
      "text/html": [
       "<div>\n",
       "<style scoped>\n",
       "    .dataframe tbody tr th:only-of-type {\n",
       "        vertical-align: middle;\n",
       "    }\n",
       "\n",
       "    .dataframe tbody tr th {\n",
       "        vertical-align: top;\n",
       "    }\n",
       "\n",
       "    .dataframe thead th {\n",
       "        text-align: right;\n",
       "    }\n",
       "</style>\n",
       "<table border=\"1\" class=\"dataframe\">\n",
       "  <thead>\n",
       "    <tr style=\"text-align: right;\">\n",
       "      <th></th>\n",
       "      <th>airline</th>\n",
       "      <th>flight</th>\n",
       "      <th>source_city</th>\n",
       "      <th>departure_time</th>\n",
       "      <th>stops</th>\n",
       "      <th>arrival_time</th>\n",
       "      <th>destination_city</th>\n",
       "      <th>class</th>\n",
       "      <th>duration</th>\n",
       "      <th>days_left</th>\n",
       "      <th>price</th>\n",
       "      <th>label_encoding</th>\n",
       "    </tr>\n",
       "  </thead>\n",
       "  <tbody>\n",
       "    <tr>\n",
       "      <th>0</th>\n",
       "      <td>SpiceJet</td>\n",
       "      <td>SG-8709</td>\n",
       "      <td>Delhi</td>\n",
       "      <td>Evening</td>\n",
       "      <td>zero</td>\n",
       "      <td>Night</td>\n",
       "      <td>Mumbai</td>\n",
       "      <td>Economy</td>\n",
       "      <td>2.17</td>\n",
       "      <td>1</td>\n",
       "      <td>5953</td>\n",
       "      <td>0</td>\n",
       "    </tr>\n",
       "    <tr>\n",
       "      <th>1</th>\n",
       "      <td>SpiceJet</td>\n",
       "      <td>SG-8157</td>\n",
       "      <td>Delhi</td>\n",
       "      <td>Early_Morning</td>\n",
       "      <td>zero</td>\n",
       "      <td>Morning</td>\n",
       "      <td>Mumbai</td>\n",
       "      <td>Economy</td>\n",
       "      <td>2.33</td>\n",
       "      <td>1</td>\n",
       "      <td>5953</td>\n",
       "      <td>0</td>\n",
       "    </tr>\n",
       "    <tr>\n",
       "      <th>2</th>\n",
       "      <td>AirAsia</td>\n",
       "      <td>I5-764</td>\n",
       "      <td>Delhi</td>\n",
       "      <td>Early_Morning</td>\n",
       "      <td>zero</td>\n",
       "      <td>Early_Morning</td>\n",
       "      <td>Mumbai</td>\n",
       "      <td>Economy</td>\n",
       "      <td>2.17</td>\n",
       "      <td>1</td>\n",
       "      <td>5956</td>\n",
       "      <td>1</td>\n",
       "    </tr>\n",
       "    <tr>\n",
       "      <th>3</th>\n",
       "      <td>Vistara</td>\n",
       "      <td>UK-995</td>\n",
       "      <td>Delhi</td>\n",
       "      <td>Morning</td>\n",
       "      <td>zero</td>\n",
       "      <td>Afternoon</td>\n",
       "      <td>Mumbai</td>\n",
       "      <td>Economy</td>\n",
       "      <td>2.25</td>\n",
       "      <td>1</td>\n",
       "      <td>5955</td>\n",
       "      <td>2</td>\n",
       "    </tr>\n",
       "    <tr>\n",
       "      <th>4</th>\n",
       "      <td>Vistara</td>\n",
       "      <td>UK-963</td>\n",
       "      <td>Delhi</td>\n",
       "      <td>Morning</td>\n",
       "      <td>zero</td>\n",
       "      <td>Morning</td>\n",
       "      <td>Mumbai</td>\n",
       "      <td>Economy</td>\n",
       "      <td>2.33</td>\n",
       "      <td>1</td>\n",
       "      <td>5955</td>\n",
       "      <td>2</td>\n",
       "    </tr>\n",
       "  </tbody>\n",
       "</table>\n",
       "</div>"
      ],
      "text/plain": [
       "    airline   flight source_city departure_time stops   arrival_time  \\\n",
       "0  SpiceJet  SG-8709       Delhi        Evening  zero          Night   \n",
       "1  SpiceJet  SG-8157       Delhi  Early_Morning  zero        Morning   \n",
       "2   AirAsia   I5-764       Delhi  Early_Morning  zero  Early_Morning   \n",
       "3   Vistara   UK-995       Delhi        Morning  zero      Afternoon   \n",
       "4   Vistara   UK-963       Delhi        Morning  zero        Morning   \n",
       "\n",
       "  destination_city    class  duration  days_left  price  label_encoding  \n",
       "0           Mumbai  Economy      2.17          1   5953               0  \n",
       "1           Mumbai  Economy      2.33          1   5953               0  \n",
       "2           Mumbai  Economy      2.17          1   5956               1  \n",
       "3           Mumbai  Economy      2.25          1   5955               2  \n",
       "4           Mumbai  Economy      2.33          1   5955               2  "
      ]
     },
     "execution_count": 29,
     "metadata": {},
     "output_type": "execute_result"
    }
   ],
   "source": [
    "# 데이터 구간화 전 원본 불러오기\n",
    "df=df_origin.copy()\n",
    "\n",
    "# factorize로 airline 칼럼 레이블 인코딩하기\n",
    "df[\"label_encoding\"] = pd.factorize(df[\"airline\"])[0].reshape(-1,1)\n",
    "df.head()"
   ]
  },
  {
   "cell_type": "code",
   "execution_count": 30,
   "metadata": {
    "ExecuteTime": {
     "end_time": "2023-03-10T04:19:52.025523Z",
     "start_time": "2023-03-10T04:19:51.966189Z"
    },
    "colab": {
     "base_uri": "https://localhost:8080/"
    },
    "executionInfo": {
     "elapsed": 308,
     "status": "ok",
     "timestamp": 1675413174581,
     "user": {
      "displayName": "김운호",
      "userId": "09296731886450682327"
     },
     "user_tz": -540
    },
    "id": "4lKAYSCqt48I",
    "outputId": "4ef25b1e-4453-408d-dc90-60d96e128fb7"
   },
   "outputs": [
    {
     "name": "stdout",
     "output_type": "stream",
     "text": [
      "Vistara      127859\n",
      "Air_India     80892\n",
      "Indigo        43120\n",
      "GO_FIRST      23173\n",
      "AirAsia       16098\n",
      "SpiceJet       9011\n",
      "Name: airline, dtype: int64\n",
      "2    127859\n",
      "5     80892\n",
      "4     43120\n",
      "3     23173\n",
      "1     16098\n",
      "0      9011\n",
      "Name: label_encoding, dtype: int64\n"
     ]
    }
   ],
   "source": [
    "# airline 칼럼과 새롭게 만들어진 label_encoding 칼럼의 빈도표 확인하기\n",
    "print(df['airline'].value_counts())\n",
    "print(df['label_encoding'].value_counts())"
   ]
  },
  {
   "cell_type": "markdown",
   "metadata": {
    "id": "jgjjh_hFC0-M"
   },
   "source": [
    "### 2) 사이킷런으로 레이블 인코딩하기"
   ]
  },
  {
   "cell_type": "code",
   "execution_count": 31,
   "metadata": {
    "ExecuteTime": {
     "end_time": "2023-03-10T04:19:53.186092Z",
     "start_time": "2023-03-10T04:19:52.028940Z"
    },
    "colab": {
     "base_uri": "https://localhost:8080/",
     "height": 305
    },
    "executionInfo": {
     "elapsed": 1406,
     "status": "ok",
     "timestamp": 1675413180403,
     "user": {
      "displayName": "김운호",
      "userId": "09296731886450682327"
     },
     "user_tz": -540
    },
    "id": "6V9n3dWMt78f",
    "outputId": "9d773fdb-77b1-49bd-d2a0-78bd31e2528e"
   },
   "outputs": [
    {
     "data": {
      "text/html": [
       "<div>\n",
       "<style scoped>\n",
       "    .dataframe tbody tr th:only-of-type {\n",
       "        vertical-align: middle;\n",
       "    }\n",
       "\n",
       "    .dataframe tbody tr th {\n",
       "        vertical-align: top;\n",
       "    }\n",
       "\n",
       "    .dataframe thead th {\n",
       "        text-align: right;\n",
       "    }\n",
       "</style>\n",
       "<table border=\"1\" class=\"dataframe\">\n",
       "  <thead>\n",
       "    <tr style=\"text-align: right;\">\n",
       "      <th></th>\n",
       "      <th>airline</th>\n",
       "      <th>flight</th>\n",
       "      <th>source_city</th>\n",
       "      <th>departure_time</th>\n",
       "      <th>stops</th>\n",
       "      <th>arrival_time</th>\n",
       "      <th>destination_city</th>\n",
       "      <th>class</th>\n",
       "      <th>duration</th>\n",
       "      <th>days_left</th>\n",
       "      <th>price</th>\n",
       "      <th>label_encoding</th>\n",
       "      <th>airline_Label_Encoder</th>\n",
       "    </tr>\n",
       "  </thead>\n",
       "  <tbody>\n",
       "    <tr>\n",
       "      <th>0</th>\n",
       "      <td>SpiceJet</td>\n",
       "      <td>SG-8709</td>\n",
       "      <td>Delhi</td>\n",
       "      <td>Evening</td>\n",
       "      <td>zero</td>\n",
       "      <td>Night</td>\n",
       "      <td>Mumbai</td>\n",
       "      <td>Economy</td>\n",
       "      <td>2.17</td>\n",
       "      <td>1</td>\n",
       "      <td>5953</td>\n",
       "      <td>0</td>\n",
       "      <td>4</td>\n",
       "    </tr>\n",
       "    <tr>\n",
       "      <th>1</th>\n",
       "      <td>SpiceJet</td>\n",
       "      <td>SG-8157</td>\n",
       "      <td>Delhi</td>\n",
       "      <td>Early_Morning</td>\n",
       "      <td>zero</td>\n",
       "      <td>Morning</td>\n",
       "      <td>Mumbai</td>\n",
       "      <td>Economy</td>\n",
       "      <td>2.33</td>\n",
       "      <td>1</td>\n",
       "      <td>5953</td>\n",
       "      <td>0</td>\n",
       "      <td>4</td>\n",
       "    </tr>\n",
       "    <tr>\n",
       "      <th>2</th>\n",
       "      <td>AirAsia</td>\n",
       "      <td>I5-764</td>\n",
       "      <td>Delhi</td>\n",
       "      <td>Early_Morning</td>\n",
       "      <td>zero</td>\n",
       "      <td>Early_Morning</td>\n",
       "      <td>Mumbai</td>\n",
       "      <td>Economy</td>\n",
       "      <td>2.17</td>\n",
       "      <td>1</td>\n",
       "      <td>5956</td>\n",
       "      <td>1</td>\n",
       "      <td>0</td>\n",
       "    </tr>\n",
       "    <tr>\n",
       "      <th>3</th>\n",
       "      <td>Vistara</td>\n",
       "      <td>UK-995</td>\n",
       "      <td>Delhi</td>\n",
       "      <td>Morning</td>\n",
       "      <td>zero</td>\n",
       "      <td>Afternoon</td>\n",
       "      <td>Mumbai</td>\n",
       "      <td>Economy</td>\n",
       "      <td>2.25</td>\n",
       "      <td>1</td>\n",
       "      <td>5955</td>\n",
       "      <td>2</td>\n",
       "      <td>5</td>\n",
       "    </tr>\n",
       "    <tr>\n",
       "      <th>4</th>\n",
       "      <td>Vistara</td>\n",
       "      <td>UK-963</td>\n",
       "      <td>Delhi</td>\n",
       "      <td>Morning</td>\n",
       "      <td>zero</td>\n",
       "      <td>Morning</td>\n",
       "      <td>Mumbai</td>\n",
       "      <td>Economy</td>\n",
       "      <td>2.33</td>\n",
       "      <td>1</td>\n",
       "      <td>5955</td>\n",
       "      <td>2</td>\n",
       "      <td>5</td>\n",
       "    </tr>\n",
       "  </tbody>\n",
       "</table>\n",
       "</div>"
      ],
      "text/plain": [
       "    airline   flight source_city departure_time stops   arrival_time  \\\n",
       "0  SpiceJet  SG-8709       Delhi        Evening  zero          Night   \n",
       "1  SpiceJet  SG-8157       Delhi  Early_Morning  zero        Morning   \n",
       "2   AirAsia   I5-764       Delhi  Early_Morning  zero  Early_Morning   \n",
       "3   Vistara   UK-995       Delhi        Morning  zero      Afternoon   \n",
       "4   Vistara   UK-963       Delhi        Morning  zero        Morning   \n",
       "\n",
       "  destination_city    class  duration  days_left  price  label_encoding  \\\n",
       "0           Mumbai  Economy      2.17          1   5953               0   \n",
       "1           Mumbai  Economy      2.33          1   5953               0   \n",
       "2           Mumbai  Economy      2.17          1   5956               1   \n",
       "3           Mumbai  Economy      2.25          1   5955               2   \n",
       "4           Mumbai  Economy      2.33          1   5955               2   \n",
       "\n",
       "   airline_Label_Encoder  \n",
       "0                      4  \n",
       "1                      4  \n",
       "2                      0  \n",
       "3                      5  \n",
       "4                      5  "
      ]
     },
     "execution_count": 31,
     "metadata": {},
     "output_type": "execute_result"
    }
   ],
   "source": [
    "# 사이킷런 패키지의 LabelEncoder 불러오기\n",
    "from sklearn.preprocessing import LabelEncoder\n",
    "\n",
    "# LabelEncoder로 airline 칼럼 레이블 인코딩하기\n",
    "le = LabelEncoder()\n",
    "df[\"airline_Label_Encoder\"] = le.fit_transform(df['airline'])\n",
    "df.head()"
   ]
  },
  {
   "cell_type": "code",
   "execution_count": 32,
   "metadata": {
    "ExecuteTime": {
     "end_time": "2023-03-10T04:19:53.232602Z",
     "start_time": "2023-03-10T04:19:53.188591Z"
    },
    "colab": {
     "base_uri": "https://localhost:8080/"
    },
    "executionInfo": {
     "elapsed": 292,
     "status": "ok",
     "timestamp": 1675413243257,
     "user": {
      "displayName": "김운호",
      "userId": "09296731886450682327"
     },
     "user_tz": -540
    },
    "id": "TARTmF12t-v4",
    "outputId": "e8459d84-e06b-458d-a04b-b39b8d49f002"
   },
   "outputs": [
    {
     "name": "stdout",
     "output_type": "stream",
     "text": [
      "Vistara      127859\n",
      "Air_India     80892\n",
      "Indigo        43120\n",
      "GO_FIRST      23173\n",
      "AirAsia       16098\n",
      "SpiceJet       9011\n",
      "Name: airline, dtype: int64\n",
      "5    127859\n",
      "1     80892\n",
      "3     43120\n",
      "2     23173\n",
      "0     16098\n",
      "4      9011\n",
      "Name: airline_Label_Encoder, dtype: int64\n"
     ]
    }
   ],
   "source": [
    "# airline 칼럼과 새롭게 만들어진 airline_Label_Encoder 칼럼의 빈도표 확인하기\n",
    "print(df['airline'].value_counts())\n",
    "print(df['airline_Label_Encoder'].value_counts())"
   ]
  },
  {
   "cell_type": "code",
   "execution_count": 33,
   "metadata": {
    "ExecuteTime": {
     "end_time": "2023-03-10T04:19:53.262906Z",
     "start_time": "2023-03-10T04:19:53.235652Z"
    },
    "colab": {
     "base_uri": "https://localhost:8080/"
    },
    "executionInfo": {
     "elapsed": 311,
     "status": "ok",
     "timestamp": 1675413289679,
     "user": {
      "displayName": "김운호",
      "userId": "09296731886450682327"
     },
     "user_tz": -540
    },
    "id": "_BwW5sdvuBCx",
    "outputId": "3715f303-3668-4410-ee1c-880e37d5fffe"
   },
   "outputs": [
    {
     "data": {
      "text/plain": [
       "array([['SpiceJet'],\n",
       "       ['SpiceJet'],\n",
       "       ['AirAsia'],\n",
       "       ...,\n",
       "       ['Vistara'],\n",
       "       ['Vistara'],\n",
       "       ['Vistara']], dtype=object)"
      ]
     },
     "execution_count": 33,
     "metadata": {},
     "output_type": "execute_result"
    }
   ],
   "source": [
    "# 레이블 인코딩 역변환(디코딩)하기\n",
    "le.inverse_transform(df[\"airline_Label_Encoder\"]).reshape(-1,1)"
   ]
  },
  {
   "attachments": {},
   "cell_type": "markdown",
   "metadata": {
    "id": "JKacuEdZuGHJ"
   },
   "source": [
    "## 2. 원핫 인코딩 하기"
   ]
  },
  {
   "cell_type": "markdown",
   "metadata": {
    "id": "DGq-8NK7C9lV"
   },
   "source": [
    "### 1) 판다스에서 원핫 인코딩하기"
   ]
  },
  {
   "cell_type": "code",
   "execution_count": 34,
   "metadata": {
    "ExecuteTime": {
     "end_time": "2023-03-10T04:19:53.324572Z",
     "start_time": "2023-03-10T04:19:53.266893Z"
    },
    "colab": {
     "base_uri": "https://localhost:8080/",
     "height": 424
    },
    "executionInfo": {
     "elapsed": 438,
     "status": "ok",
     "timestamp": 1675413588205,
     "user": {
      "displayName": "김운호",
      "userId": "09296731886450682327"
     },
     "user_tz": -540
    },
    "id": "oBP1W_cRuC6J",
    "outputId": "7a9440ea-458e-476c-f785-ee7c0d98a36b"
   },
   "outputs": [
    {
     "data": {
      "text/html": [
       "<div>\n",
       "<style scoped>\n",
       "    .dataframe tbody tr th:only-of-type {\n",
       "        vertical-align: middle;\n",
       "    }\n",
       "\n",
       "    .dataframe tbody tr th {\n",
       "        vertical-align: top;\n",
       "    }\n",
       "\n",
       "    .dataframe thead th {\n",
       "        text-align: right;\n",
       "    }\n",
       "</style>\n",
       "<table border=\"1\" class=\"dataframe\">\n",
       "  <thead>\n",
       "    <tr style=\"text-align: right;\">\n",
       "      <th></th>\n",
       "      <th>Business</th>\n",
       "      <th>Economy</th>\n",
       "    </tr>\n",
       "  </thead>\n",
       "  <tbody>\n",
       "    <tr>\n",
       "      <th>0</th>\n",
       "      <td>0</td>\n",
       "      <td>1</td>\n",
       "    </tr>\n",
       "    <tr>\n",
       "      <th>1</th>\n",
       "      <td>0</td>\n",
       "      <td>1</td>\n",
       "    </tr>\n",
       "    <tr>\n",
       "      <th>2</th>\n",
       "      <td>0</td>\n",
       "      <td>1</td>\n",
       "    </tr>\n",
       "    <tr>\n",
       "      <th>3</th>\n",
       "      <td>0</td>\n",
       "      <td>1</td>\n",
       "    </tr>\n",
       "    <tr>\n",
       "      <th>4</th>\n",
       "      <td>0</td>\n",
       "      <td>1</td>\n",
       "    </tr>\n",
       "    <tr>\n",
       "      <th>...</th>\n",
       "      <td>...</td>\n",
       "      <td>...</td>\n",
       "    </tr>\n",
       "    <tr>\n",
       "      <th>300148</th>\n",
       "      <td>1</td>\n",
       "      <td>0</td>\n",
       "    </tr>\n",
       "    <tr>\n",
       "      <th>300149</th>\n",
       "      <td>1</td>\n",
       "      <td>0</td>\n",
       "    </tr>\n",
       "    <tr>\n",
       "      <th>300150</th>\n",
       "      <td>1</td>\n",
       "      <td>0</td>\n",
       "    </tr>\n",
       "    <tr>\n",
       "      <th>300151</th>\n",
       "      <td>1</td>\n",
       "      <td>0</td>\n",
       "    </tr>\n",
       "    <tr>\n",
       "      <th>300152</th>\n",
       "      <td>1</td>\n",
       "      <td>0</td>\n",
       "    </tr>\n",
       "  </tbody>\n",
       "</table>\n",
       "<p>300153 rows × 2 columns</p>\n",
       "</div>"
      ],
      "text/plain": [
       "        Business  Economy\n",
       "0              0        1\n",
       "1              0        1\n",
       "2              0        1\n",
       "3              0        1\n",
       "4              0        1\n",
       "...          ...      ...\n",
       "300148         1        0\n",
       "300149         1        0\n",
       "300150         1        0\n",
       "300151         1        0\n",
       "300152         1        0\n",
       "\n",
       "[300153 rows x 2 columns]"
      ]
     },
     "execution_count": 34,
     "metadata": {},
     "output_type": "execute_result"
    }
   ],
   "source": [
    "#레이블 인코딩 전 원본데이터 불러오기\n",
    "df=df_origin.copy()\n",
    "\n",
    "#class 칼럼을 원핫인코딩 하기 \n",
    "pd.get_dummies(df['class'])"
   ]
  },
  {
   "cell_type": "code",
   "execution_count": 35,
   "metadata": {
    "ExecuteTime": {
     "end_time": "2023-03-10T04:19:53.430190Z",
     "start_time": "2023-03-10T04:19:53.330238Z"
    },
    "colab": {
     "base_uri": "https://localhost:8080/",
     "height": 305
    },
    "executionInfo": {
     "elapsed": 304,
     "status": "ok",
     "timestamp": 1675413614901,
     "user": {
      "displayName": "김운호",
      "userId": "09296731886450682327"
     },
     "user_tz": -540
    },
    "id": "J6cVwZCruHxn",
    "outputId": "ab9e4de7-0d66-4491-d01f-cd4928fee650"
   },
   "outputs": [
    {
     "data": {
      "text/html": [
       "<div>\n",
       "<style scoped>\n",
       "    .dataframe tbody tr th:only-of-type {\n",
       "        vertical-align: middle;\n",
       "    }\n",
       "\n",
       "    .dataframe tbody tr th {\n",
       "        vertical-align: top;\n",
       "    }\n",
       "\n",
       "    .dataframe thead th {\n",
       "        text-align: right;\n",
       "    }\n",
       "</style>\n",
       "<table border=\"1\" class=\"dataframe\">\n",
       "  <thead>\n",
       "    <tr style=\"text-align: right;\">\n",
       "      <th></th>\n",
       "      <th>airline</th>\n",
       "      <th>flight</th>\n",
       "      <th>source_city</th>\n",
       "      <th>departure_time</th>\n",
       "      <th>stops</th>\n",
       "      <th>arrival_time</th>\n",
       "      <th>destination_city</th>\n",
       "      <th>duration</th>\n",
       "      <th>days_left</th>\n",
       "      <th>price</th>\n",
       "      <th>class_Business</th>\n",
       "      <th>class_Economy</th>\n",
       "    </tr>\n",
       "  </thead>\n",
       "  <tbody>\n",
       "    <tr>\n",
       "      <th>0</th>\n",
       "      <td>SpiceJet</td>\n",
       "      <td>SG-8709</td>\n",
       "      <td>Delhi</td>\n",
       "      <td>Evening</td>\n",
       "      <td>zero</td>\n",
       "      <td>Night</td>\n",
       "      <td>Mumbai</td>\n",
       "      <td>2.17</td>\n",
       "      <td>1</td>\n",
       "      <td>5953</td>\n",
       "      <td>0</td>\n",
       "      <td>1</td>\n",
       "    </tr>\n",
       "    <tr>\n",
       "      <th>1</th>\n",
       "      <td>SpiceJet</td>\n",
       "      <td>SG-8157</td>\n",
       "      <td>Delhi</td>\n",
       "      <td>Early_Morning</td>\n",
       "      <td>zero</td>\n",
       "      <td>Morning</td>\n",
       "      <td>Mumbai</td>\n",
       "      <td>2.33</td>\n",
       "      <td>1</td>\n",
       "      <td>5953</td>\n",
       "      <td>0</td>\n",
       "      <td>1</td>\n",
       "    </tr>\n",
       "    <tr>\n",
       "      <th>2</th>\n",
       "      <td>AirAsia</td>\n",
       "      <td>I5-764</td>\n",
       "      <td>Delhi</td>\n",
       "      <td>Early_Morning</td>\n",
       "      <td>zero</td>\n",
       "      <td>Early_Morning</td>\n",
       "      <td>Mumbai</td>\n",
       "      <td>2.17</td>\n",
       "      <td>1</td>\n",
       "      <td>5956</td>\n",
       "      <td>0</td>\n",
       "      <td>1</td>\n",
       "    </tr>\n",
       "    <tr>\n",
       "      <th>3</th>\n",
       "      <td>Vistara</td>\n",
       "      <td>UK-995</td>\n",
       "      <td>Delhi</td>\n",
       "      <td>Morning</td>\n",
       "      <td>zero</td>\n",
       "      <td>Afternoon</td>\n",
       "      <td>Mumbai</td>\n",
       "      <td>2.25</td>\n",
       "      <td>1</td>\n",
       "      <td>5955</td>\n",
       "      <td>0</td>\n",
       "      <td>1</td>\n",
       "    </tr>\n",
       "    <tr>\n",
       "      <th>4</th>\n",
       "      <td>Vistara</td>\n",
       "      <td>UK-963</td>\n",
       "      <td>Delhi</td>\n",
       "      <td>Morning</td>\n",
       "      <td>zero</td>\n",
       "      <td>Morning</td>\n",
       "      <td>Mumbai</td>\n",
       "      <td>2.33</td>\n",
       "      <td>1</td>\n",
       "      <td>5955</td>\n",
       "      <td>0</td>\n",
       "      <td>1</td>\n",
       "    </tr>\n",
       "  </tbody>\n",
       "</table>\n",
       "</div>"
      ],
      "text/plain": [
       "    airline   flight source_city departure_time stops   arrival_time  \\\n",
       "0  SpiceJet  SG-8709       Delhi        Evening  zero          Night   \n",
       "1  SpiceJet  SG-8157       Delhi  Early_Morning  zero        Morning   \n",
       "2   AirAsia   I5-764       Delhi  Early_Morning  zero  Early_Morning   \n",
       "3   Vistara   UK-995       Delhi        Morning  zero      Afternoon   \n",
       "4   Vistara   UK-963       Delhi        Morning  zero        Morning   \n",
       "\n",
       "  destination_city  duration  days_left  price  class_Business  class_Economy  \n",
       "0           Mumbai      2.17          1   5953               0              1  \n",
       "1           Mumbai      2.33          1   5953               0              1  \n",
       "2           Mumbai      2.17          1   5956               0              1  \n",
       "3           Mumbai      2.25          1   5955               0              1  \n",
       "4           Mumbai      2.33          1   5955               0              1  "
      ]
     },
     "execution_count": 35,
     "metadata": {},
     "output_type": "execute_result"
    }
   ],
   "source": [
    "# 원핫 인코딩 결과를 데이터에 반영하기\n",
    "df=pd.get_dummies(df, columns=['class'])\n",
    "df.head()"
   ]
  },
  {
   "cell_type": "markdown",
   "metadata": {
    "id": "SNG8s3kVDGVW"
   },
   "source": [
    "### 2) 사이킷런으로 원핫 인코딩하기"
   ]
  },
  {
   "cell_type": "code",
   "execution_count": 36,
   "metadata": {
    "ExecuteTime": {
     "end_time": "2023-03-10T04:19:53.552463Z",
     "start_time": "2023-03-10T04:19:53.433179Z"
    },
    "colab": {
     "base_uri": "https://localhost:8080/",
     "height": 305
    },
    "executionInfo": {
     "elapsed": 379,
     "status": "ok",
     "timestamp": 1675413879402,
     "user": {
      "displayName": "김운호",
      "userId": "09296731886450682327"
     },
     "user_tz": -540
    },
    "id": "UvvJBw22uJ95",
    "outputId": "67d12e93-d98b-4ab9-a071-9121dc08df97"
   },
   "outputs": [
    {
     "data": {
      "text/html": [
       "<div>\n",
       "<style scoped>\n",
       "    .dataframe tbody tr th:only-of-type {\n",
       "        vertical-align: middle;\n",
       "    }\n",
       "\n",
       "    .dataframe tbody tr th {\n",
       "        vertical-align: top;\n",
       "    }\n",
       "\n",
       "    .dataframe thead th {\n",
       "        text-align: right;\n",
       "    }\n",
       "</style>\n",
       "<table border=\"1\" class=\"dataframe\">\n",
       "  <thead>\n",
       "    <tr style=\"text-align: right;\">\n",
       "      <th></th>\n",
       "      <th>airline</th>\n",
       "      <th>flight</th>\n",
       "      <th>source_city</th>\n",
       "      <th>departure_time</th>\n",
       "      <th>stops</th>\n",
       "      <th>arrival_time</th>\n",
       "      <th>destination_city</th>\n",
       "      <th>class</th>\n",
       "      <th>duration</th>\n",
       "      <th>days_left</th>\n",
       "      <th>price</th>\n",
       "      <th>class_Business</th>\n",
       "      <th>class_Economy</th>\n",
       "    </tr>\n",
       "  </thead>\n",
       "  <tbody>\n",
       "    <tr>\n",
       "      <th>0</th>\n",
       "      <td>SpiceJet</td>\n",
       "      <td>SG-8709</td>\n",
       "      <td>Delhi</td>\n",
       "      <td>Evening</td>\n",
       "      <td>zero</td>\n",
       "      <td>Night</td>\n",
       "      <td>Mumbai</td>\n",
       "      <td>Economy</td>\n",
       "      <td>2.17</td>\n",
       "      <td>1</td>\n",
       "      <td>5953</td>\n",
       "      <td>0.0</td>\n",
       "      <td>1.0</td>\n",
       "    </tr>\n",
       "    <tr>\n",
       "      <th>1</th>\n",
       "      <td>SpiceJet</td>\n",
       "      <td>SG-8157</td>\n",
       "      <td>Delhi</td>\n",
       "      <td>Early_Morning</td>\n",
       "      <td>zero</td>\n",
       "      <td>Morning</td>\n",
       "      <td>Mumbai</td>\n",
       "      <td>Economy</td>\n",
       "      <td>2.33</td>\n",
       "      <td>1</td>\n",
       "      <td>5953</td>\n",
       "      <td>0.0</td>\n",
       "      <td>1.0</td>\n",
       "    </tr>\n",
       "    <tr>\n",
       "      <th>2</th>\n",
       "      <td>AirAsia</td>\n",
       "      <td>I5-764</td>\n",
       "      <td>Delhi</td>\n",
       "      <td>Early_Morning</td>\n",
       "      <td>zero</td>\n",
       "      <td>Early_Morning</td>\n",
       "      <td>Mumbai</td>\n",
       "      <td>Economy</td>\n",
       "      <td>2.17</td>\n",
       "      <td>1</td>\n",
       "      <td>5956</td>\n",
       "      <td>0.0</td>\n",
       "      <td>1.0</td>\n",
       "    </tr>\n",
       "    <tr>\n",
       "      <th>3</th>\n",
       "      <td>Vistara</td>\n",
       "      <td>UK-995</td>\n",
       "      <td>Delhi</td>\n",
       "      <td>Morning</td>\n",
       "      <td>zero</td>\n",
       "      <td>Afternoon</td>\n",
       "      <td>Mumbai</td>\n",
       "      <td>Economy</td>\n",
       "      <td>2.25</td>\n",
       "      <td>1</td>\n",
       "      <td>5955</td>\n",
       "      <td>0.0</td>\n",
       "      <td>1.0</td>\n",
       "    </tr>\n",
       "    <tr>\n",
       "      <th>4</th>\n",
       "      <td>Vistara</td>\n",
       "      <td>UK-963</td>\n",
       "      <td>Delhi</td>\n",
       "      <td>Morning</td>\n",
       "      <td>zero</td>\n",
       "      <td>Morning</td>\n",
       "      <td>Mumbai</td>\n",
       "      <td>Economy</td>\n",
       "      <td>2.33</td>\n",
       "      <td>1</td>\n",
       "      <td>5955</td>\n",
       "      <td>0.0</td>\n",
       "      <td>1.0</td>\n",
       "    </tr>\n",
       "  </tbody>\n",
       "</table>\n",
       "</div>"
      ],
      "text/plain": [
       "    airline   flight source_city departure_time stops   arrival_time  \\\n",
       "0  SpiceJet  SG-8709       Delhi        Evening  zero          Night   \n",
       "1  SpiceJet  SG-8157       Delhi  Early_Morning  zero        Morning   \n",
       "2   AirAsia   I5-764       Delhi  Early_Morning  zero  Early_Morning   \n",
       "3   Vistara   UK-995       Delhi        Morning  zero      Afternoon   \n",
       "4   Vistara   UK-963       Delhi        Morning  zero        Morning   \n",
       "\n",
       "  destination_city    class  duration  days_left  price  class_Business  \\\n",
       "0           Mumbai  Economy      2.17          1   5953             0.0   \n",
       "1           Mumbai  Economy      2.33          1   5953             0.0   \n",
       "2           Mumbai  Economy      2.17          1   5956             0.0   \n",
       "3           Mumbai  Economy      2.25          1   5955             0.0   \n",
       "4           Mumbai  Economy      2.33          1   5955             0.0   \n",
       "\n",
       "   class_Economy  \n",
       "0            1.0  \n",
       "1            1.0  \n",
       "2            1.0  \n",
       "3            1.0  \n",
       "4            1.0  "
      ]
     },
     "execution_count": 36,
     "metadata": {},
     "output_type": "execute_result"
    }
   ],
   "source": [
    "#판다스 원핫인코딩 전 원본데이터 불러오기\n",
    "df=df_origin.copy()\n",
    "\n",
    "#사이킷런 패키지에서 OneHotEncoder 불러오기\n",
    "from sklearn.preprocessing import OneHotEncoder\n",
    "\n",
    "#OneHotEncoder로 원핫 인코딩 하기\n",
    "oh = OneHotEncoder()\n",
    "encoder = oh.fit_transform(df['class'].values.reshape(-1,1)).toarray()\n",
    "\n",
    "#원핫인코딩 결과를 데이터프레임으로 만들기\n",
    "df_OneHot = pd.DataFrame(encoder, columns=[\"class_\" + str(oh.categories_[0][i]) for i in range (len(oh.categories_[0]))])\n",
    "\n",
    "#원핫 인코딩 결과를 원본 데이터에 붙여넣기\n",
    "df1 = pd.concat([df, df_OneHot], axis=1)\n",
    "df1.head()"
   ]
  },
  {
   "attachments": {},
   "cell_type": "markdown",
   "metadata": {
    "id": "do0lpSEnuVpL"
   },
   "source": [
    "# SECTION 03. 스케일링 하기"
   ]
  },
  {
   "attachments": {},
   "cell_type": "markdown",
   "metadata": {
    "id": "7NrVIndqDIe1"
   },
   "source": [
    "## 1. 정규화하기"
   ]
  },
  {
   "cell_type": "code",
   "execution_count": 37,
   "metadata": {
    "ExecuteTime": {
     "end_time": "2023-03-10T04:19:53.612081Z",
     "start_time": "2023-03-10T04:19:53.555005Z"
    },
    "colab": {
     "base_uri": "https://localhost:8080/",
     "height": 206
    },
    "executionInfo": {
     "elapsed": 298,
     "status": "ok",
     "timestamp": 1675413984707,
     "user": {
      "displayName": "김운호",
      "userId": "09296731886450682327"
     },
     "user_tz": -540
    },
    "id": "rlaTGu_euMUo",
    "outputId": "ea8e0180-738d-4cff-c571-1bf600c82fda"
   },
   "outputs": [
    {
     "data": {
      "text/html": [
       "<div>\n",
       "<style scoped>\n",
       "    .dataframe tbody tr th:only-of-type {\n",
       "        vertical-align: middle;\n",
       "    }\n",
       "\n",
       "    .dataframe tbody tr th {\n",
       "        vertical-align: top;\n",
       "    }\n",
       "\n",
       "    .dataframe thead th {\n",
       "        text-align: right;\n",
       "    }\n",
       "</style>\n",
       "<table border=\"1\" class=\"dataframe\">\n",
       "  <thead>\n",
       "    <tr style=\"text-align: right;\">\n",
       "      <th></th>\n",
       "      <th>duration</th>\n",
       "      <th>days_left</th>\n",
       "      <th>price</th>\n",
       "    </tr>\n",
       "  </thead>\n",
       "  <tbody>\n",
       "    <tr>\n",
       "      <th>0</th>\n",
       "      <td>0.027347</td>\n",
       "      <td>0.0</td>\n",
       "      <td>0.039749</td>\n",
       "    </tr>\n",
       "    <tr>\n",
       "      <th>1</th>\n",
       "      <td>0.030612</td>\n",
       "      <td>0.0</td>\n",
       "      <td>0.039749</td>\n",
       "    </tr>\n",
       "    <tr>\n",
       "      <th>2</th>\n",
       "      <td>0.027347</td>\n",
       "      <td>0.0</td>\n",
       "      <td>0.039773</td>\n",
       "    </tr>\n",
       "    <tr>\n",
       "      <th>3</th>\n",
       "      <td>0.028980</td>\n",
       "      <td>0.0</td>\n",
       "      <td>0.039765</td>\n",
       "    </tr>\n",
       "    <tr>\n",
       "      <th>4</th>\n",
       "      <td>0.030612</td>\n",
       "      <td>0.0</td>\n",
       "      <td>0.039765</td>\n",
       "    </tr>\n",
       "  </tbody>\n",
       "</table>\n",
       "</div>"
      ],
      "text/plain": [
       "   duration  days_left     price\n",
       "0  0.027347        0.0  0.039749\n",
       "1  0.030612        0.0  0.039749\n",
       "2  0.027347        0.0  0.039773\n",
       "3  0.028980        0.0  0.039765\n",
       "4  0.030612        0.0  0.039765"
      ]
     },
     "execution_count": 37,
     "metadata": {},
     "output_type": "execute_result"
    }
   ],
   "source": [
    "# 원핫 인코딩 전 원본데이터 불러오기\n",
    "df=df_origin.copy()\n",
    "\n",
    "# 수치형 데이터만 분리하여 데이터프레임 만들기\n",
    "df_num = df[['duration', 'days_left', 'price']]\n",
    "\n",
    "# 정규화 수식적용하기\n",
    "df_num = (df_num - df_num.min())/(df_num.max()-df_num.min())\n",
    "df_num.head()"
   ]
  },
  {
   "cell_type": "code",
   "execution_count": 38,
   "metadata": {
    "ExecuteTime": {
     "end_time": "2023-03-10T04:19:53.657964Z",
     "start_time": "2023-03-10T04:19:53.614930Z"
    },
    "colab": {
     "base_uri": "https://localhost:8080/",
     "height": 300
    },
    "executionInfo": {
     "elapsed": 564,
     "status": "ok",
     "timestamp": 1675414019653,
     "user": {
      "displayName": "김운호",
      "userId": "09296731886450682327"
     },
     "user_tz": -540
    },
    "id": "QezBqZtQuZfw",
    "outputId": "2bce95ef-f07d-4de0-d141-ccfb0f5193d5"
   },
   "outputs": [
    {
     "data": {
      "text/html": [
       "<div>\n",
       "<style scoped>\n",
       "    .dataframe tbody tr th:only-of-type {\n",
       "        vertical-align: middle;\n",
       "    }\n",
       "\n",
       "    .dataframe tbody tr th {\n",
       "        vertical-align: top;\n",
       "    }\n",
       "\n",
       "    .dataframe thead th {\n",
       "        text-align: right;\n",
       "    }\n",
       "</style>\n",
       "<table border=\"1\" class=\"dataframe\">\n",
       "  <thead>\n",
       "    <tr style=\"text-align: right;\">\n",
       "      <th></th>\n",
       "      <th>duration</th>\n",
       "      <th>days_left</th>\n",
       "      <th>price</th>\n",
       "    </tr>\n",
       "  </thead>\n",
       "  <tbody>\n",
       "    <tr>\n",
       "      <th>count</th>\n",
       "      <td>300153.000000</td>\n",
       "      <td>300153.000000</td>\n",
       "      <td>300153.000000</td>\n",
       "    </tr>\n",
       "    <tr>\n",
       "      <th>mean</th>\n",
       "      <td>0.232470</td>\n",
       "      <td>0.520932</td>\n",
       "      <td>0.162215</td>\n",
       "    </tr>\n",
       "    <tr>\n",
       "      <th>std</th>\n",
       "      <td>0.146775</td>\n",
       "      <td>0.282521</td>\n",
       "      <td>0.186099</td>\n",
       "    </tr>\n",
       "    <tr>\n",
       "      <th>min</th>\n",
       "      <td>0.000000</td>\n",
       "      <td>0.000000</td>\n",
       "      <td>0.000000</td>\n",
       "    </tr>\n",
       "    <tr>\n",
       "      <th>25%</th>\n",
       "      <td>0.122449</td>\n",
       "      <td>0.291667</td>\n",
       "      <td>0.030156</td>\n",
       "    </tr>\n",
       "    <tr>\n",
       "      <th>50%</th>\n",
       "      <td>0.212653</td>\n",
       "      <td>0.520833</td>\n",
       "      <td>0.051818</td>\n",
       "    </tr>\n",
       "    <tr>\n",
       "      <th>75%</th>\n",
       "      <td>0.313061</td>\n",
       "      <td>0.770833</td>\n",
       "      <td>0.339570</td>\n",
       "    </tr>\n",
       "    <tr>\n",
       "      <th>max</th>\n",
       "      <td>1.000000</td>\n",
       "      <td>1.000000</td>\n",
       "      <td>1.000000</td>\n",
       "    </tr>\n",
       "  </tbody>\n",
       "</table>\n",
       "</div>"
      ],
      "text/plain": [
       "            duration      days_left          price\n",
       "count  300153.000000  300153.000000  300153.000000\n",
       "mean        0.232470       0.520932       0.162215\n",
       "std         0.146775       0.282521       0.186099\n",
       "min         0.000000       0.000000       0.000000\n",
       "25%         0.122449       0.291667       0.030156\n",
       "50%         0.212653       0.520833       0.051818\n",
       "75%         0.313061       0.770833       0.339570\n",
       "max         1.000000       1.000000       1.000000"
      ]
     },
     "execution_count": 38,
     "metadata": {},
     "output_type": "execute_result"
    }
   ],
   "source": [
    "# 요약 데이터 확인해서 정규화 적용 확인하기\n",
    "df_num.describe()"
   ]
  },
  {
   "attachments": {},
   "cell_type": "markdown",
   "metadata": {
    "id": "gfjNgOZVueVJ"
   },
   "source": [
    "## 2. 표준화하기"
   ]
  },
  {
   "cell_type": "code",
   "execution_count": 39,
   "metadata": {
    "ExecuteTime": {
     "end_time": "2023-03-10T04:19:53.704338Z",
     "start_time": "2023-03-10T04:19:53.659463Z"
    },
    "colab": {
     "base_uri": "https://localhost:8080/",
     "height": 206
    },
    "executionInfo": {
     "elapsed": 285,
     "status": "ok",
     "timestamp": 1675414105849,
     "user": {
      "displayName": "김운호",
      "userId": "09296731886450682327"
     },
     "user_tz": -540
    },
    "id": "899f-hKVubOh",
    "outputId": "3fcbfd41-e0f6-481f-ce88-27cf2fd6e74d"
   },
   "outputs": [
    {
     "data": {
      "text/html": [
       "<div>\n",
       "<style scoped>\n",
       "    .dataframe tbody tr th:only-of-type {\n",
       "        vertical-align: middle;\n",
       "    }\n",
       "\n",
       "    .dataframe tbody tr th {\n",
       "        vertical-align: top;\n",
       "    }\n",
       "\n",
       "    .dataframe thead th {\n",
       "        text-align: right;\n",
       "    }\n",
       "</style>\n",
       "<table border=\"1\" class=\"dataframe\">\n",
       "  <thead>\n",
       "    <tr style=\"text-align: right;\">\n",
       "      <th></th>\n",
       "      <th>duration</th>\n",
       "      <th>days_left</th>\n",
       "      <th>price</th>\n",
       "    </tr>\n",
       "  </thead>\n",
       "  <tbody>\n",
       "    <tr>\n",
       "      <th>0</th>\n",
       "      <td>-1.397528</td>\n",
       "      <td>-1.843872</td>\n",
       "      <td>-0.658067</td>\n",
       "    </tr>\n",
       "    <tr>\n",
       "      <th>1</th>\n",
       "      <td>-1.375282</td>\n",
       "      <td>-1.843872</td>\n",
       "      <td>-0.658067</td>\n",
       "    </tr>\n",
       "    <tr>\n",
       "      <th>2</th>\n",
       "      <td>-1.397528</td>\n",
       "      <td>-1.843872</td>\n",
       "      <td>-0.657935</td>\n",
       "    </tr>\n",
       "    <tr>\n",
       "      <th>3</th>\n",
       "      <td>-1.386405</td>\n",
       "      <td>-1.843872</td>\n",
       "      <td>-0.657979</td>\n",
       "    </tr>\n",
       "    <tr>\n",
       "      <th>4</th>\n",
       "      <td>-1.375282</td>\n",
       "      <td>-1.843872</td>\n",
       "      <td>-0.657979</td>\n",
       "    </tr>\n",
       "  </tbody>\n",
       "</table>\n",
       "</div>"
      ],
      "text/plain": [
       "   duration  days_left     price\n",
       "0 -1.397528  -1.843872 -0.658067\n",
       "1 -1.375282  -1.843872 -0.658067\n",
       "2 -1.397528  -1.843872 -0.657935\n",
       "3 -1.386405  -1.843872 -0.657979\n",
       "4 -1.375282  -1.843872 -0.657979"
      ]
     },
     "execution_count": 39,
     "metadata": {},
     "output_type": "execute_result"
    }
   ],
   "source": [
    "# 수치형 데이터만 분리하여 데이터프레임 만들기\n",
    "df_num = df[['duration', 'days_left', 'price']]\n",
    "\n",
    "# 표준화 수식 적용하기\n",
    "df_num =(df_num  - df_num .mean())/df_num .std()\n",
    "df_num.head()"
   ]
  },
  {
   "cell_type": "code",
   "execution_count": 40,
   "metadata": {
    "ExecuteTime": {
     "end_time": "2023-03-10T04:19:53.765549Z",
     "start_time": "2023-03-10T04:19:53.707215Z"
    },
    "colab": {
     "base_uri": "https://localhost:8080/",
     "height": 300
    },
    "executionInfo": {
     "elapsed": 4,
     "status": "ok",
     "timestamp": 1675414113094,
     "user": {
      "displayName": "김운호",
      "userId": "09296731886450682327"
     },
     "user_tz": -540
    },
    "id": "_enLWYv4ugEw",
    "outputId": "ead18642-37f7-4e85-a846-3c8bba232828"
   },
   "outputs": [
    {
     "data": {
      "text/html": [
       "<div>\n",
       "<style scoped>\n",
       "    .dataframe tbody tr th:only-of-type {\n",
       "        vertical-align: middle;\n",
       "    }\n",
       "\n",
       "    .dataframe tbody tr th {\n",
       "        vertical-align: top;\n",
       "    }\n",
       "\n",
       "    .dataframe thead th {\n",
       "        text-align: right;\n",
       "    }\n",
       "</style>\n",
       "<table border=\"1\" class=\"dataframe\">\n",
       "  <thead>\n",
       "    <tr style=\"text-align: right;\">\n",
       "      <th></th>\n",
       "      <th>duration</th>\n",
       "      <th>days_left</th>\n",
       "      <th>price</th>\n",
       "    </tr>\n",
       "  </thead>\n",
       "  <tbody>\n",
       "    <tr>\n",
       "      <th>count</th>\n",
       "      <td>3.001530e+05</td>\n",
       "      <td>3.001530e+05</td>\n",
       "      <td>3.001530e+05</td>\n",
       "    </tr>\n",
       "    <tr>\n",
       "      <th>mean</th>\n",
       "      <td>7.726764e-17</td>\n",
       "      <td>9.393321e-17</td>\n",
       "      <td>-6.060207e-17</td>\n",
       "    </tr>\n",
       "    <tr>\n",
       "      <th>std</th>\n",
       "      <td>1.000000e+00</td>\n",
       "      <td>1.000000e+00</td>\n",
       "      <td>1.000000e+00</td>\n",
       "    </tr>\n",
       "    <tr>\n",
       "      <th>min</th>\n",
       "      <td>-1.583847e+00</td>\n",
       "      <td>-1.843872e+00</td>\n",
       "      <td>-8.716567e-01</td>\n",
       "    </tr>\n",
       "    <tr>\n",
       "      <th>25%</th>\n",
       "      <td>-7.495861e-01</td>\n",
       "      <td>-8.114997e-01</td>\n",
       "      <td>-7.096143e-01</td>\n",
       "    </tr>\n",
       "    <tr>\n",
       "      <th>50%</th>\n",
       "      <td>-1.350141e-01</td>\n",
       "      <td>-3.503362e-04</td>\n",
       "      <td>-5.932152e-01</td>\n",
       "    </tr>\n",
       "    <tr>\n",
       "      <th>75%</th>\n",
       "      <td>5.490796e-01</td>\n",
       "      <td>8.845399e-01</td>\n",
       "      <td>9.530162e-01</td>\n",
       "    </tr>\n",
       "    <tr>\n",
       "      <th>max</th>\n",
       "      <td>5.229282e+00</td>\n",
       "      <td>1.695689e+00</td>\n",
       "      <td>4.501823e+00</td>\n",
       "    </tr>\n",
       "  </tbody>\n",
       "</table>\n",
       "</div>"
      ],
      "text/plain": [
       "           duration     days_left         price\n",
       "count  3.001530e+05  3.001530e+05  3.001530e+05\n",
       "mean   7.726764e-17  9.393321e-17 -6.060207e-17\n",
       "std    1.000000e+00  1.000000e+00  1.000000e+00\n",
       "min   -1.583847e+00 -1.843872e+00 -8.716567e-01\n",
       "25%   -7.495861e-01 -8.114997e-01 -7.096143e-01\n",
       "50%   -1.350141e-01 -3.503362e-04 -5.932152e-01\n",
       "75%    5.490796e-01  8.845399e-01  9.530162e-01\n",
       "max    5.229282e+00  1.695689e+00  4.501823e+00"
      ]
     },
     "execution_count": 40,
     "metadata": {},
     "output_type": "execute_result"
    }
   ],
   "source": [
    "# 요약 데이터 확인해서 표준화 적용 확인하기\n",
    "df_num.describe()"
   ]
  },
  {
   "cell_type": "code",
   "execution_count": 41,
   "metadata": {
    "ExecuteTime": {
     "end_time": "2023-03-10T04:19:53.841818Z",
     "start_time": "2023-03-10T04:19:53.768579Z"
    },
    "colab": {
     "base_uri": "https://localhost:8080/",
     "height": 206
    },
    "executionInfo": {
     "elapsed": 362,
     "status": "ok",
     "timestamp": 1672063105717,
     "user": {
      "displayName": "김운호",
      "userId": "09296731886450682327"
     },
     "user_tz": -540
    },
    "id": "u6seZEqruhcn",
    "outputId": "fefc72ef-b6d6-48e0-db79-aa189e73bd86"
   },
   "outputs": [
    {
     "data": {
      "text/html": [
       "<div>\n",
       "<style scoped>\n",
       "    .dataframe tbody tr th:only-of-type {\n",
       "        vertical-align: middle;\n",
       "    }\n",
       "\n",
       "    .dataframe tbody tr th {\n",
       "        vertical-align: top;\n",
       "    }\n",
       "\n",
       "    .dataframe thead th {\n",
       "        text-align: right;\n",
       "    }\n",
       "</style>\n",
       "<table border=\"1\" class=\"dataframe\">\n",
       "  <thead>\n",
       "    <tr style=\"text-align: right;\">\n",
       "      <th></th>\n",
       "      <th>airline</th>\n",
       "      <th>flight</th>\n",
       "      <th>source_city</th>\n",
       "      <th>departure_time</th>\n",
       "      <th>stops</th>\n",
       "      <th>arrival_time</th>\n",
       "      <th>destination_city</th>\n",
       "      <th>class</th>\n",
       "      <th>duration</th>\n",
       "      <th>days_left</th>\n",
       "      <th>price</th>\n",
       "    </tr>\n",
       "  </thead>\n",
       "  <tbody>\n",
       "    <tr>\n",
       "      <th>0</th>\n",
       "      <td>SpiceJet</td>\n",
       "      <td>SG-8709</td>\n",
       "      <td>Delhi</td>\n",
       "      <td>Evening</td>\n",
       "      <td>zero</td>\n",
       "      <td>Night</td>\n",
       "      <td>Mumbai</td>\n",
       "      <td>Economy</td>\n",
       "      <td>-1.397528</td>\n",
       "      <td>-1.843872</td>\n",
       "      <td>-0.658067</td>\n",
       "    </tr>\n",
       "    <tr>\n",
       "      <th>1</th>\n",
       "      <td>SpiceJet</td>\n",
       "      <td>SG-8157</td>\n",
       "      <td>Delhi</td>\n",
       "      <td>Early_Morning</td>\n",
       "      <td>zero</td>\n",
       "      <td>Morning</td>\n",
       "      <td>Mumbai</td>\n",
       "      <td>Economy</td>\n",
       "      <td>-1.375282</td>\n",
       "      <td>-1.843872</td>\n",
       "      <td>-0.658067</td>\n",
       "    </tr>\n",
       "    <tr>\n",
       "      <th>2</th>\n",
       "      <td>AirAsia</td>\n",
       "      <td>I5-764</td>\n",
       "      <td>Delhi</td>\n",
       "      <td>Early_Morning</td>\n",
       "      <td>zero</td>\n",
       "      <td>Early_Morning</td>\n",
       "      <td>Mumbai</td>\n",
       "      <td>Economy</td>\n",
       "      <td>-1.397528</td>\n",
       "      <td>-1.843872</td>\n",
       "      <td>-0.657935</td>\n",
       "    </tr>\n",
       "    <tr>\n",
       "      <th>3</th>\n",
       "      <td>Vistara</td>\n",
       "      <td>UK-995</td>\n",
       "      <td>Delhi</td>\n",
       "      <td>Morning</td>\n",
       "      <td>zero</td>\n",
       "      <td>Afternoon</td>\n",
       "      <td>Mumbai</td>\n",
       "      <td>Economy</td>\n",
       "      <td>-1.386405</td>\n",
       "      <td>-1.843872</td>\n",
       "      <td>-0.657979</td>\n",
       "    </tr>\n",
       "    <tr>\n",
       "      <th>4</th>\n",
       "      <td>Vistara</td>\n",
       "      <td>UK-963</td>\n",
       "      <td>Delhi</td>\n",
       "      <td>Morning</td>\n",
       "      <td>zero</td>\n",
       "      <td>Morning</td>\n",
       "      <td>Mumbai</td>\n",
       "      <td>Economy</td>\n",
       "      <td>-1.375282</td>\n",
       "      <td>-1.843872</td>\n",
       "      <td>-0.657979</td>\n",
       "    </tr>\n",
       "  </tbody>\n",
       "</table>\n",
       "</div>"
      ],
      "text/plain": [
       "    airline   flight source_city departure_time stops   arrival_time  \\\n",
       "0  SpiceJet  SG-8709       Delhi        Evening  zero          Night   \n",
       "1  SpiceJet  SG-8157       Delhi  Early_Morning  zero        Morning   \n",
       "2   AirAsia   I5-764       Delhi  Early_Morning  zero  Early_Morning   \n",
       "3   Vistara   UK-995       Delhi        Morning  zero      Afternoon   \n",
       "4   Vistara   UK-963       Delhi        Morning  zero        Morning   \n",
       "\n",
       "  destination_city    class  duration  days_left     price  \n",
       "0           Mumbai  Economy -1.397528  -1.843872 -0.658067  \n",
       "1           Mumbai  Economy -1.375282  -1.843872 -0.658067  \n",
       "2           Mumbai  Economy -1.397528  -1.843872 -0.657935  \n",
       "3           Mumbai  Economy -1.386405  -1.843872 -0.657979  \n",
       "4           Mumbai  Economy -1.375282  -1.843872 -0.657979  "
      ]
     },
     "execution_count": 41,
     "metadata": {},
     "output_type": "execute_result"
    }
   ],
   "source": [
    "# 기존의 duration, days_left, price 칼럼 삭제하기\n",
    "df=df.drop(['duration', 'days_left', 'price'], axis=1)\n",
    "\n",
    "# 표준화된 duration, days_left, price 칼럼 붙이기\n",
    "df = pd.concat([df, df_num], axis=1)\n",
    "df.head()"
   ]
  },
  {
   "attachments": {},
   "cell_type": "markdown",
   "metadata": {
    "id": "0Z19finkun1R"
   },
   "source": [
    "# SECTION 04. 변수 선택하기\n"
   ]
  },
  {
   "attachments": {},
   "cell_type": "markdown",
   "metadata": {
    "id": "sVflrHrJDbAL"
   },
   "source": [
    "## 1. 신규 변수 생성하기"
   ]
  },
  {
   "cell_type": "markdown",
   "metadata": {
    "id": "lu11bsxqDl4-"
   },
   "source": [
    "### 1) 하나의 데이터로 여러 개의 새로운 칼럼 만들기"
   ]
  },
  {
   "cell_type": "code",
   "execution_count": 42,
   "metadata": {
    "ExecuteTime": {
     "end_time": "2023-03-10T04:19:54.530341Z",
     "start_time": "2023-03-10T04:19:53.844305Z"
    },
    "colab": {
     "base_uri": "https://localhost:8080/",
     "height": 305
    },
    "executionInfo": {
     "elapsed": 741,
     "status": "ok",
     "timestamp": 1675415066135,
     "user": {
      "displayName": "김운호",
      "userId": "09296731886450682327"
     },
     "user_tz": -540
    },
    "id": "QlkuajnVujcG",
    "outputId": "7fca859c-94da-4bfd-c4b4-eef9e0ce107a"
   },
   "outputs": [
    {
     "data": {
      "text/html": [
       "<div>\n",
       "<style scoped>\n",
       "    .dataframe tbody tr th:only-of-type {\n",
       "        vertical-align: middle;\n",
       "    }\n",
       "\n",
       "    .dataframe tbody tr th {\n",
       "        vertical-align: top;\n",
       "    }\n",
       "\n",
       "    .dataframe thead th {\n",
       "        text-align: right;\n",
       "    }\n",
       "</style>\n",
       "<table border=\"1\" class=\"dataframe\">\n",
       "  <thead>\n",
       "    <tr style=\"text-align: right;\">\n",
       "      <th></th>\n",
       "      <th>airline</th>\n",
       "      <th>flight</th>\n",
       "      <th>source_city</th>\n",
       "      <th>departure_time</th>\n",
       "      <th>stops</th>\n",
       "      <th>arrival_time</th>\n",
       "      <th>destination_city</th>\n",
       "      <th>class</th>\n",
       "      <th>duration</th>\n",
       "      <th>days_left</th>\n",
       "      <th>price</th>\n",
       "      <th>manufacture</th>\n",
       "      <th>model_num</th>\n",
       "    </tr>\n",
       "  </thead>\n",
       "  <tbody>\n",
       "    <tr>\n",
       "      <th>0</th>\n",
       "      <td>SpiceJet</td>\n",
       "      <td>SG-8709</td>\n",
       "      <td>Delhi</td>\n",
       "      <td>Evening</td>\n",
       "      <td>zero</td>\n",
       "      <td>Night</td>\n",
       "      <td>Mumbai</td>\n",
       "      <td>Economy</td>\n",
       "      <td>-1.397528</td>\n",
       "      <td>-1.843872</td>\n",
       "      <td>-0.658067</td>\n",
       "      <td>SG</td>\n",
       "      <td>8709</td>\n",
       "    </tr>\n",
       "    <tr>\n",
       "      <th>1</th>\n",
       "      <td>SpiceJet</td>\n",
       "      <td>SG-8157</td>\n",
       "      <td>Delhi</td>\n",
       "      <td>Early_Morning</td>\n",
       "      <td>zero</td>\n",
       "      <td>Morning</td>\n",
       "      <td>Mumbai</td>\n",
       "      <td>Economy</td>\n",
       "      <td>-1.375282</td>\n",
       "      <td>-1.843872</td>\n",
       "      <td>-0.658067</td>\n",
       "      <td>SG</td>\n",
       "      <td>8157</td>\n",
       "    </tr>\n",
       "    <tr>\n",
       "      <th>2</th>\n",
       "      <td>AirAsia</td>\n",
       "      <td>I5-764</td>\n",
       "      <td>Delhi</td>\n",
       "      <td>Early_Morning</td>\n",
       "      <td>zero</td>\n",
       "      <td>Early_Morning</td>\n",
       "      <td>Mumbai</td>\n",
       "      <td>Economy</td>\n",
       "      <td>-1.397528</td>\n",
       "      <td>-1.843872</td>\n",
       "      <td>-0.657935</td>\n",
       "      <td>I5</td>\n",
       "      <td>764</td>\n",
       "    </tr>\n",
       "    <tr>\n",
       "      <th>3</th>\n",
       "      <td>Vistara</td>\n",
       "      <td>UK-995</td>\n",
       "      <td>Delhi</td>\n",
       "      <td>Morning</td>\n",
       "      <td>zero</td>\n",
       "      <td>Afternoon</td>\n",
       "      <td>Mumbai</td>\n",
       "      <td>Economy</td>\n",
       "      <td>-1.386405</td>\n",
       "      <td>-1.843872</td>\n",
       "      <td>-0.657979</td>\n",
       "      <td>UK</td>\n",
       "      <td>995</td>\n",
       "    </tr>\n",
       "    <tr>\n",
       "      <th>4</th>\n",
       "      <td>Vistara</td>\n",
       "      <td>UK-963</td>\n",
       "      <td>Delhi</td>\n",
       "      <td>Morning</td>\n",
       "      <td>zero</td>\n",
       "      <td>Morning</td>\n",
       "      <td>Mumbai</td>\n",
       "      <td>Economy</td>\n",
       "      <td>-1.375282</td>\n",
       "      <td>-1.843872</td>\n",
       "      <td>-0.657979</td>\n",
       "      <td>UK</td>\n",
       "      <td>963</td>\n",
       "    </tr>\n",
       "  </tbody>\n",
       "</table>\n",
       "</div>"
      ],
      "text/plain": [
       "    airline   flight source_city departure_time stops   arrival_time  \\\n",
       "0  SpiceJet  SG-8709       Delhi        Evening  zero          Night   \n",
       "1  SpiceJet  SG-8157       Delhi  Early_Morning  zero        Morning   \n",
       "2   AirAsia   I5-764       Delhi  Early_Morning  zero  Early_Morning   \n",
       "3   Vistara   UK-995       Delhi        Morning  zero      Afternoon   \n",
       "4   Vistara   UK-963       Delhi        Morning  zero        Morning   \n",
       "\n",
       "  destination_city    class  duration  days_left     price manufacture  \\\n",
       "0           Mumbai  Economy -1.397528  -1.843872 -0.658067          SG   \n",
       "1           Mumbai  Economy -1.375282  -1.843872 -0.658067          SG   \n",
       "2           Mumbai  Economy -1.397528  -1.843872 -0.657935          I5   \n",
       "3           Mumbai  Economy -1.386405  -1.843872 -0.657979          UK   \n",
       "4           Mumbai  Economy -1.375282  -1.843872 -0.657979          UK   \n",
       "\n",
       "  model_num  \n",
       "0      8709  \n",
       "1      8157  \n",
       "2       764  \n",
       "3       995  \n",
       "4       963  "
      ]
     },
     "execution_count": 42,
     "metadata": {},
     "output_type": "execute_result"
    }
   ],
   "source": [
    "# 항공기 기종을 제조사 코드와 모델명으로 분리하는 split_flight 함수 만들기\n",
    "def split_flight(flight) :\n",
    "    # \"-\" 문자를 기준으로 앞쪽을 제조사 코드로 저장\n",
    "    manufacture = flight.split(\"-\")[0]\n",
    "    # \"-\" 문자를 기준으로 뒤쪽을 모델명으로 저장\n",
    "    model = flight.split(\"-\")[1]\n",
    "    # 제조사코드와 모델명을 리턴\n",
    "    return manufacture, model\n",
    "\n",
    "# df['flight']를 split_flight함수의 파라미터로 넣어 실행하는 lambda, apply를 적용하여 제조사코드와 모델명 반환하기\n",
    "# zip 함수를 사용하여 튜플로 묶어 df['manufacture'], df['model_num']에 저장하기\n",
    "df['manufacture'], df['model_num']=zip(*df['flight'].apply(lambda x : split_flight(x)))\n",
    "df.head()"
   ]
  },
  {
   "cell_type": "markdown",
   "metadata": {
    "id": "Y3vZwBARDqWG"
   },
   "source": [
    "### 2) 여러 개의 데이터로 하나의 새로운 칼럼 만들기"
   ]
  },
  {
   "cell_type": "code",
   "execution_count": 43,
   "metadata": {
    "ExecuteTime": {
     "end_time": "2023-03-10T04:19:58.322703Z",
     "start_time": "2023-03-10T04:19:54.533934Z"
    },
    "colab": {
     "base_uri": "https://localhost:8080/",
     "height": 357
    },
    "executionInfo": {
     "elapsed": 5201,
     "status": "ok",
     "timestamp": 1675415199032,
     "user": {
      "displayName": "김운호",
      "userId": "09296731886450682327"
     },
     "user_tz": -540
    },
    "id": "GS40FD_gusPp",
    "outputId": "cc7773d0-1985-4247-ff06-8d593978fff6"
   },
   "outputs": [
    {
     "data": {
      "text/html": [
       "<div>\n",
       "<style scoped>\n",
       "    .dataframe tbody tr th:only-of-type {\n",
       "        vertical-align: middle;\n",
       "    }\n",
       "\n",
       "    .dataframe tbody tr th {\n",
       "        vertical-align: top;\n",
       "    }\n",
       "\n",
       "    .dataframe thead th {\n",
       "        text-align: right;\n",
       "    }\n",
       "</style>\n",
       "<table border=\"1\" class=\"dataframe\">\n",
       "  <thead>\n",
       "    <tr style=\"text-align: right;\">\n",
       "      <th></th>\n",
       "      <th>airline</th>\n",
       "      <th>flight</th>\n",
       "      <th>source_city</th>\n",
       "      <th>departure_time</th>\n",
       "      <th>stops</th>\n",
       "      <th>arrival_time</th>\n",
       "      <th>destination_city</th>\n",
       "      <th>class</th>\n",
       "      <th>duration</th>\n",
       "      <th>days_left</th>\n",
       "      <th>price</th>\n",
       "      <th>manufacture</th>\n",
       "      <th>model_num</th>\n",
       "      <th>route</th>\n",
       "    </tr>\n",
       "  </thead>\n",
       "  <tbody>\n",
       "    <tr>\n",
       "      <th>0</th>\n",
       "      <td>SpiceJet</td>\n",
       "      <td>SG-8709</td>\n",
       "      <td>Delhi</td>\n",
       "      <td>Evening</td>\n",
       "      <td>zero</td>\n",
       "      <td>Night</td>\n",
       "      <td>Mumbai</td>\n",
       "      <td>Economy</td>\n",
       "      <td>-1.397528</td>\n",
       "      <td>-1.843872</td>\n",
       "      <td>-0.658067</td>\n",
       "      <td>SG</td>\n",
       "      <td>8709</td>\n",
       "      <td>(Delhi, Mumbai)</td>\n",
       "    </tr>\n",
       "    <tr>\n",
       "      <th>1</th>\n",
       "      <td>SpiceJet</td>\n",
       "      <td>SG-8157</td>\n",
       "      <td>Delhi</td>\n",
       "      <td>Early_Morning</td>\n",
       "      <td>zero</td>\n",
       "      <td>Morning</td>\n",
       "      <td>Mumbai</td>\n",
       "      <td>Economy</td>\n",
       "      <td>-1.375282</td>\n",
       "      <td>-1.843872</td>\n",
       "      <td>-0.658067</td>\n",
       "      <td>SG</td>\n",
       "      <td>8157</td>\n",
       "      <td>(Delhi, Mumbai)</td>\n",
       "    </tr>\n",
       "    <tr>\n",
       "      <th>2</th>\n",
       "      <td>AirAsia</td>\n",
       "      <td>I5-764</td>\n",
       "      <td>Delhi</td>\n",
       "      <td>Early_Morning</td>\n",
       "      <td>zero</td>\n",
       "      <td>Early_Morning</td>\n",
       "      <td>Mumbai</td>\n",
       "      <td>Economy</td>\n",
       "      <td>-1.397528</td>\n",
       "      <td>-1.843872</td>\n",
       "      <td>-0.657935</td>\n",
       "      <td>I5</td>\n",
       "      <td>764</td>\n",
       "      <td>(Delhi, Mumbai)</td>\n",
       "    </tr>\n",
       "    <tr>\n",
       "      <th>3</th>\n",
       "      <td>Vistara</td>\n",
       "      <td>UK-995</td>\n",
       "      <td>Delhi</td>\n",
       "      <td>Morning</td>\n",
       "      <td>zero</td>\n",
       "      <td>Afternoon</td>\n",
       "      <td>Mumbai</td>\n",
       "      <td>Economy</td>\n",
       "      <td>-1.386405</td>\n",
       "      <td>-1.843872</td>\n",
       "      <td>-0.657979</td>\n",
       "      <td>UK</td>\n",
       "      <td>995</td>\n",
       "      <td>(Delhi, Mumbai)</td>\n",
       "    </tr>\n",
       "    <tr>\n",
       "      <th>4</th>\n",
       "      <td>Vistara</td>\n",
       "      <td>UK-963</td>\n",
       "      <td>Delhi</td>\n",
       "      <td>Morning</td>\n",
       "      <td>zero</td>\n",
       "      <td>Morning</td>\n",
       "      <td>Mumbai</td>\n",
       "      <td>Economy</td>\n",
       "      <td>-1.375282</td>\n",
       "      <td>-1.843872</td>\n",
       "      <td>-0.657979</td>\n",
       "      <td>UK</td>\n",
       "      <td>963</td>\n",
       "      <td>(Delhi, Mumbai)</td>\n",
       "    </tr>\n",
       "  </tbody>\n",
       "</table>\n",
       "</div>"
      ],
      "text/plain": [
       "    airline   flight source_city departure_time stops   arrival_time  \\\n",
       "0  SpiceJet  SG-8709       Delhi        Evening  zero          Night   \n",
       "1  SpiceJet  SG-8157       Delhi  Early_Morning  zero        Morning   \n",
       "2   AirAsia   I5-764       Delhi  Early_Morning  zero  Early_Morning   \n",
       "3   Vistara   UK-995       Delhi        Morning  zero      Afternoon   \n",
       "4   Vistara   UK-963       Delhi        Morning  zero        Morning   \n",
       "\n",
       "  destination_city    class  duration  days_left     price manufacture  \\\n",
       "0           Mumbai  Economy -1.397528  -1.843872 -0.658067          SG   \n",
       "1           Mumbai  Economy -1.375282  -1.843872 -0.658067          SG   \n",
       "2           Mumbai  Economy -1.397528  -1.843872 -0.657935          I5   \n",
       "3           Mumbai  Economy -1.386405  -1.843872 -0.657979          UK   \n",
       "4           Mumbai  Economy -1.375282  -1.843872 -0.657979          UK   \n",
       "\n",
       "  model_num            route  \n",
       "0      8709  (Delhi, Mumbai)  \n",
       "1      8157  (Delhi, Mumbai)  \n",
       "2       764  (Delhi, Mumbai)  \n",
       "3       995  (Delhi, Mumbai)  \n",
       "4       963  (Delhi, Mumbai)  "
      ]
     },
     "execution_count": 43,
     "metadata": {},
     "output_type": "execute_result"
    }
   ],
   "source": [
    "#source_city, destination_city를 튜블로 묶어 route 칼럼 생성하기\n",
    "df['route']=df.apply(lambda x :(x['source_city'],x['destination_city']), axis=1)\n",
    "df.head()"
   ]
  },
  {
   "cell_type": "code",
   "execution_count": 44,
   "metadata": {},
   "outputs": [
    {
     "data": {
      "text/html": [
       "<div>\n",
       "<style scoped>\n",
       "    .dataframe tbody tr th:only-of-type {\n",
       "        vertical-align: middle;\n",
       "    }\n",
       "\n",
       "    .dataframe tbody tr th {\n",
       "        vertical-align: top;\n",
       "    }\n",
       "\n",
       "    .dataframe thead th {\n",
       "        text-align: right;\n",
       "    }\n",
       "</style>\n",
       "<table border=\"1\" class=\"dataframe\">\n",
       "  <thead>\n",
       "    <tr style=\"text-align: right;\">\n",
       "      <th></th>\n",
       "      <th>airline</th>\n",
       "      <th>flight</th>\n",
       "      <th>source_city</th>\n",
       "      <th>departure_time</th>\n",
       "      <th>stops</th>\n",
       "      <th>arrival_time</th>\n",
       "      <th>destination_city</th>\n",
       "      <th>class</th>\n",
       "      <th>duration</th>\n",
       "      <th>days_left</th>\n",
       "      <th>price</th>\n",
       "      <th>route</th>\n",
       "    </tr>\n",
       "  </thead>\n",
       "  <tbody>\n",
       "    <tr>\n",
       "      <th>0</th>\n",
       "      <td>SpiceJet</td>\n",
       "      <td>SG-8709</td>\n",
       "      <td>Delhi</td>\n",
       "      <td>Evening</td>\n",
       "      <td>zero</td>\n",
       "      <td>Night</td>\n",
       "      <td>Mumbai</td>\n",
       "      <td>Economy</td>\n",
       "      <td>-1.397528</td>\n",
       "      <td>-1.843872</td>\n",
       "      <td>-0.658067</td>\n",
       "      <td>(Delhi, Mumbai)</td>\n",
       "    </tr>\n",
       "    <tr>\n",
       "      <th>1</th>\n",
       "      <td>SpiceJet</td>\n",
       "      <td>SG-8157</td>\n",
       "      <td>Delhi</td>\n",
       "      <td>Early_Morning</td>\n",
       "      <td>zero</td>\n",
       "      <td>Morning</td>\n",
       "      <td>Mumbai</td>\n",
       "      <td>Economy</td>\n",
       "      <td>-1.375282</td>\n",
       "      <td>-1.843872</td>\n",
       "      <td>-0.658067</td>\n",
       "      <td>(Delhi, Mumbai)</td>\n",
       "    </tr>\n",
       "    <tr>\n",
       "      <th>2</th>\n",
       "      <td>AirAsia</td>\n",
       "      <td>I5-764</td>\n",
       "      <td>Delhi</td>\n",
       "      <td>Early_Morning</td>\n",
       "      <td>zero</td>\n",
       "      <td>Early_Morning</td>\n",
       "      <td>Mumbai</td>\n",
       "      <td>Economy</td>\n",
       "      <td>-1.397528</td>\n",
       "      <td>-1.843872</td>\n",
       "      <td>-0.657935</td>\n",
       "      <td>(Delhi, Mumbai)</td>\n",
       "    </tr>\n",
       "    <tr>\n",
       "      <th>3</th>\n",
       "      <td>Vistara</td>\n",
       "      <td>UK-995</td>\n",
       "      <td>Delhi</td>\n",
       "      <td>Morning</td>\n",
       "      <td>zero</td>\n",
       "      <td>Afternoon</td>\n",
       "      <td>Mumbai</td>\n",
       "      <td>Economy</td>\n",
       "      <td>-1.386405</td>\n",
       "      <td>-1.843872</td>\n",
       "      <td>-0.657979</td>\n",
       "      <td>(Delhi, Mumbai)</td>\n",
       "    </tr>\n",
       "    <tr>\n",
       "      <th>4</th>\n",
       "      <td>Vistara</td>\n",
       "      <td>UK-963</td>\n",
       "      <td>Delhi</td>\n",
       "      <td>Morning</td>\n",
       "      <td>zero</td>\n",
       "      <td>Morning</td>\n",
       "      <td>Mumbai</td>\n",
       "      <td>Economy</td>\n",
       "      <td>-1.375282</td>\n",
       "      <td>-1.843872</td>\n",
       "      <td>-0.657979</td>\n",
       "      <td>(Delhi, Mumbai)</td>\n",
       "    </tr>\n",
       "  </tbody>\n",
       "</table>\n",
       "</div>"
      ],
      "text/plain": [
       "    airline   flight source_city departure_time stops   arrival_time  \\\n",
       "0  SpiceJet  SG-8709       Delhi        Evening  zero          Night   \n",
       "1  SpiceJet  SG-8157       Delhi  Early_Morning  zero        Morning   \n",
       "2   AirAsia   I5-764       Delhi  Early_Morning  zero  Early_Morning   \n",
       "3   Vistara   UK-995       Delhi        Morning  zero      Afternoon   \n",
       "4   Vistara   UK-963       Delhi        Morning  zero        Morning   \n",
       "\n",
       "  destination_city    class  duration  days_left     price            route  \n",
       "0           Mumbai  Economy -1.397528  -1.843872 -0.658067  (Delhi, Mumbai)  \n",
       "1           Mumbai  Economy -1.375282  -1.843872 -0.658067  (Delhi, Mumbai)  \n",
       "2           Mumbai  Economy -1.397528  -1.843872 -0.657935  (Delhi, Mumbai)  \n",
       "3           Mumbai  Economy -1.386405  -1.843872 -0.657979  (Delhi, Mumbai)  \n",
       "4           Mumbai  Economy -1.375282  -1.843872 -0.657979  (Delhi, Mumbai)  "
      ]
     },
     "execution_count": 44,
     "metadata": {},
     "output_type": "execute_result"
    }
   ],
   "source": [
    "df.drop(['manufacture', 'model_num'], axis=1).head()"
   ]
  },
  {
   "attachments": {},
   "cell_type": "markdown",
   "metadata": {
    "id": "kRVFe0l3uxOs"
   },
   "source": [
    "## 2. 변수 선택하기"
   ]
  },
  {
   "cell_type": "markdown",
   "metadata": {
    "heading_collapsed": true,
    "id": "6YgjNuBVDvJI"
   },
   "source": [
    "### 1) RFE(Recursive Feature Elimination)"
   ]
  },
  {
   "cell_type": "markdown",
   "metadata": {
    "id": "gwbula3kDvQ8"
   },
   "source": [
    "### 2) RFE-CV(Recursive Feature Elimination with Cross Validation)"
   ]
  },
  {
   "cell_type": "markdown",
   "metadata": {
    "id": "myH81Z30DvmZ"
   },
   "source": [
    "### 3) UFS (Univariate Feature Selection)"
   ]
  },
  {
   "cell_type": "code",
   "execution_count": null,
   "metadata": {},
   "outputs": [],
   "source": []
  }
 ],
 "metadata": {
  "colab": {
   "authorship_tag": "ABX9TyMH9jz9AoWHm0qFOf/DKtYq",
   "mount_file_id": "10Wex0MUpnOVtFF0RQSsfWpxOOEJQISPZ",
   "provenance": [
    {
     "file_id": "1iepKS4MSl57FLQqXeI_LCM7IhtXOoVGE",
     "timestamp": 1672063210446
    }
   ]
  },
  "hide_input": false,
  "kernelspec": {
   "display_name": "Python 3",
   "language": "python",
   "name": "python3"
  },
  "language_info": {
   "codemirror_mode": {
    "name": "ipython",
    "version": 3
   },
   "file_extension": ".py",
   "mimetype": "text/x-python",
   "name": "python",
   "nbconvert_exporter": "python",
   "pygments_lexer": "ipython3",
   "version": "3.6.9"
  },
  "toc": {
   "base_numbering": 1,
   "nav_menu": {},
   "number_sections": true,
   "sideBar": true,
   "skip_h1_title": false,
   "title_cell": "Table of Contents",
   "title_sidebar": "Contents",
   "toc_cell": false,
   "toc_position": {},
   "toc_section_display": true,
   "toc_window_display": false
  },
  "varInspector": {
   "cols": {
    "lenName": 16,
    "lenType": 16,
    "lenVar": 40
   },
   "kernels_config": {
    "python": {
     "delete_cmd_postfix": "",
     "delete_cmd_prefix": "del ",
     "library": "var_list.py",
     "varRefreshCmd": "print(var_dic_list())"
    },
    "r": {
     "delete_cmd_postfix": ") ",
     "delete_cmd_prefix": "rm(",
     "library": "var_list.r",
     "varRefreshCmd": "cat(var_dic_list()) "
    }
   },
   "types_to_exclude": [
    "module",
    "function",
    "builtin_function_or_method",
    "instance",
    "_Feature"
   ],
   "window_display": false
  }
 },
 "nbformat": 4,
 "nbformat_minor": 4
}
