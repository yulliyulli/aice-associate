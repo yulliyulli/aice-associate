{
 "cells": [
  {
   "attachments": {},
   "cell_type": "markdown",
   "metadata": {},
   "source": [
    "# SECTION 01. 머신러닝으로 AI 모델링하기"
   ]
  },
  {
   "attachments": {},
   "cell_type": "markdown",
   "metadata": {},
   "source": [
    "## 2. 선형회귀(Linear Regression) "
   ]
  },
  {
   "cell_type": "markdown",
   "metadata": {},
   "source": [
    "### 2)  선형회귀 실습하기"
   ]
  },
  {
   "cell_type": "markdown",
   "metadata": {},
   "source": [
    "#### (1) 데이터 구성하기"
   ]
  },
  {
   "cell_type": "code",
   "execution_count": 1,
   "metadata": {
    "ExecuteTime": {
     "end_time": "2023-05-04T07:44:17.329131Z",
     "start_time": "2023-05-04T07:44:16.878497Z"
    }
   },
   "outputs": [],
   "source": [
    "# 라이브러리 불러오기 (numpy, matplotlib)\n",
    "import numpy as np\n",
    "import matplotlib.pyplot as plt\n",
    "\n",
    "# 렌덤 시드 고정\n",
    "np.random.seed(2023)"
   ]
  },
  {
   "cell_type": "code",
   "execution_count": 2,
   "metadata": {
    "ExecuteTime": {
     "end_time": "2023-05-04T07:44:18.060789Z",
     "start_time": "2023-05-04T07:44:18.048800Z"
    }
   },
   "outputs": [],
   "source": [
    "# x는 1~10, y = 4*x+7인 학습 데이터 생성하기\n",
    "x = []\n",
    "y = []\n",
    "for i in range(1,11): \n",
    "    x.append(i)\n",
    "    y.append(4*i+7)"
   ]
  },
  {
   "cell_type": "code",
   "execution_count": 3,
   "metadata": {
    "ExecuteTime": {
     "end_time": "2023-05-04T07:44:18.581181Z",
     "start_time": "2023-05-04T07:44:18.565919Z"
    }
   },
   "outputs": [
    {
     "name": "stdout",
     "output_type": "stream",
     "text": [
      "x :  [1, 2, 3, 4, 5, 6, 7, 8, 9, 10]\n",
      "y :  [11, 15, 19, 23, 27, 31, 35, 39, 43, 47]\n"
     ]
    }
   ],
   "source": [
    "# 데이터 확인하기\n",
    "print('x : ', x) \n",
    "print('y : ', y) "
   ]
  },
  {
   "cell_type": "markdown",
   "metadata": {},
   "source": [
    "#### (2) 선형회귀 학습 하기"
   ]
  },
  {
   "cell_type": "code",
   "execution_count": 4,
   "metadata": {
    "ExecuteTime": {
     "end_time": "2023-05-04T07:44:21.257340Z",
     "start_time": "2023-05-04T07:44:19.714621Z"
    }
   },
   "outputs": [],
   "source": [
    "# 선형회귀 라이브러리 불러오기\n",
    "from sklearn.linear_model import LinearRegression\n",
    "# 선형회귀 생성하기\n",
    "reg = LinearRegression()"
   ]
  },
  {
   "cell_type": "code",
   "execution_count": 5,
   "metadata": {
    "ExecuteTime": {
     "end_time": "2023-05-04T07:44:23.314984Z",
     "start_time": "2023-05-04T07:44:23.298595Z"
    }
   },
   "outputs": [
    {
     "name": "stdout",
     "output_type": "stream",
     "text": [
      "학습 데이터 확인\n",
      "x : [[ 1]\n",
      " [ 2]\n",
      " [ 3]\n",
      " [ 4]\n",
      " [ 5]\n",
      " [ 6]\n",
      " [ 7]\n",
      " [ 8]\n",
      " [ 9]\n",
      " [10]]\n",
      "x.shape :  (10, 1)\n"
     ]
    }
   ],
   "source": [
    "# 학습을 위해 1행10열 구성 데이터를 10행 1열로 변경하기\n",
    "x = np.array(x).reshape(-1, 1)\n",
    "# 데이터 확인하기\n",
    "print(\"학습 데이터 확인\")\n",
    "print('x :' ,x)\n",
    "print('x.shape : ', x.shape)"
   ]
  },
  {
   "cell_type": "code",
   "execution_count": 6,
   "metadata": {
    "ExecuteTime": {
     "end_time": "2023-05-04T07:44:24.122195Z",
     "start_time": "2023-05-04T07:44:24.088474Z"
    }
   },
   "outputs": [
    {
     "data": {
      "text/plain": [
       "LinearRegression()"
      ]
     },
     "execution_count": 6,
     "metadata": {},
     "output_type": "execute_result"
    }
   ],
   "source": [
    "# 학습하기\n",
    "reg.fit(x,y)"
   ]
  },
  {
   "cell_type": "code",
   "execution_count": 7,
   "metadata": {
    "ExecuteTime": {
     "end_time": "2023-05-04T07:44:24.929180Z",
     "start_time": "2023-05-04T07:44:24.907959Z"
    }
   },
   "outputs": [
    {
     "name": "stdout",
     "output_type": "stream",
     "text": [
      "기울기 및 절편 확인 coef = [4.], intercept = 7.000000000000011 \n"
     ]
    }
   ],
   "source": [
    "# 산식 추정을 위한 기울기(coef) 및 절편(intercept) 확인하기\n",
    "print(f'''기울기 및 절편 확인 coef = {reg.coef_}, intercept = {reg.intercept_} ''')"
   ]
  },
  {
   "cell_type": "code",
   "execution_count": 8,
   "metadata": {
    "ExecuteTime": {
     "end_time": "2023-05-04T07:44:25.690626Z",
     "start_time": "2023-05-04T07:44:25.667002Z"
    }
   },
   "outputs": [
    {
     "name": "stdout",
     "output_type": "stream",
     "text": [
      "계산 결과\n",
      "[[11.]\n",
      " [15.]\n",
      " [19.]\n",
      " [23.]\n",
      " [27.]\n",
      " [31.]\n",
      " [35.]\n",
      " [39.]\n",
      " [43.]\n",
      " [47.]]\n"
     ]
    }
   ],
   "source": [
    "# 절편과 기울기로 결과를 수동 계산하여 비교값 생성하기\n",
    "coef_intercept = x * reg.coef_[0] + reg.intercept_\n",
    "print(\"계산 결과\")\n",
    "print(coef_intercept)"
   ]
  },
  {
   "cell_type": "markdown",
   "metadata": {},
   "source": [
    "#### (3) 결과 비교를 위해 그래프 그리기"
   ]
  },
  {
   "cell_type": "code",
   "execution_count": 9,
   "metadata": {
    "ExecuteTime": {
     "end_time": "2023-05-04T07:44:27.786977Z",
     "start_time": "2023-05-04T07:44:27.365974Z"
    }
   },
   "outputs": [
    {
     "data": {
      "image/png": "[encoded data removed]",
      "text/plain": [
       "<Figure size 640x480 with 1 Axes>"
      ]
     },
     "metadata": {},
     "output_type": "display_data"
    }
   ],
   "source": [
    "# scatter plot 그래프그리기\n",
    "plt.scatter(x, y, color = 'r', s = 20)\n",
    "# 선 그래프 그리기\n",
    "plt.plot(x, coef_intercept, color = 'orange')\n",
    "# coef 값 그래프 내에 텍스트 삽입하기\n",
    "plt.text(7, 20, 'coef = %.0f'%reg.coef_[0], size = 12)\n",
    "# intercept 값 그래프 내에 텍스트 삽입하기\n",
    "plt.text(7, 18, 'intercept_ = %.0f'%reg.intercept_, size = 12)\n",
    "# x축(가로) label 설정하기\n",
    "plt.xlabel('x')\n",
    "# y축(세로) label 설정하기\n",
    "plt.ylabel('y')\n",
    "plt.show()"
   ]
  },
  {
   "cell_type": "markdown",
   "metadata": {},
   "source": [
    "### 3) 사례기반 선형회귀 모델링"
   ]
  },
  {
   "cell_type": "markdown",
   "metadata": {},
   "source": [
    "#### (1) 데이터 전처리하기"
   ]
  },
  {
   "cell_type": "code",
   "execution_count": 10,
   "metadata": {
    "ExecuteTime": {
     "end_time": "2023-05-04T07:44:30.305809Z",
     "start_time": "2023-05-04T07:44:29.307134Z"
    }
   },
   "outputs": [],
   "source": [
    "# 판다스 라이브러리 불러오기\n",
    "import pandas as pd "
   ]
  },
  {
   "cell_type": "code",
   "execution_count": 11,
   "metadata": {
    "ExecuteTime": {
     "end_time": "2023-05-04T07:44:35.789023Z",
     "start_time": "2023-05-04T07:44:30.994841Z"
    }
   },
   "outputs": [],
   "source": [
    "# 데이터 불러오기\n",
    "df = pd.read_csv(\"국민건강보험공단_건강검진정보_20211229.CSV\", encoding='cp949')"
   ]
  },
  {
   "cell_type": "code",
   "execution_count": 12,
   "metadata": {
    "ExecuteTime": {
     "end_time": "2023-05-04T07:44:37.432183Z",
     "start_time": "2023-05-04T07:44:37.423562Z"
    }
   },
   "outputs": [],
   "source": [
    "# pandas display 옵션 조정을 통해 View 범위 확장하기\n",
    "pd.set_option('display.max_columns', None) # display 옵션을 통한 전체 열 확장"
   ]
  },
  {
   "cell_type": "code",
   "execution_count": 13,
   "metadata": {
    "ExecuteTime": {
     "end_time": "2023-05-04T07:44:38.027852Z",
     "start_time": "2023-05-04T07:44:37.942406Z"
    }
   },
   "outputs": [
    {
     "data": {
      "text/html": [
       "<div>\n",
       "<style scoped>\n",
       "    .dataframe tbody tr th:only-of-type {\n",
       "        vertical-align: middle;\n",
       "    }\n",
       "\n",
       "    .dataframe tbody tr th {\n",
       "        vertical-align: top;\n",
       "    }\n",
       "\n",
       "    .dataframe thead th {\n",
       "        text-align: right;\n",
       "    }\n",
       "</style>\n",
       "<table border=\"1\" class=\"dataframe\">\n",
       "  <thead>\n",
       "    <tr style=\"text-align: right;\">\n",
       "      <th></th>\n",
       "      <th>기준년도</th>\n",
       "      <th>가입자 일련번호</th>\n",
       "      <th>시도코드</th>\n",
       "      <th>성별코드</th>\n",
       "      <th>연령대 코드(5세단위)</th>\n",
       "      <th>신장(5Cm단위)</th>\n",
       "      <th>체중(5Kg 단위)</th>\n",
       "      <th>허리둘레</th>\n",
       "      <th>시력(좌)</th>\n",
       "      <th>시력(우)</th>\n",
       "      <th>청력(좌)</th>\n",
       "      <th>청력(우)</th>\n",
       "      <th>수축기 혈압</th>\n",
       "      <th>이완기 혈압</th>\n",
       "      <th>식전혈당(공복혈당)</th>\n",
       "      <th>총 콜레스테롤</th>\n",
       "      <th>트리글리세라이드</th>\n",
       "      <th>HDL 콜레스테롤</th>\n",
       "      <th>LDL 콜레스테롤</th>\n",
       "      <th>혈색소</th>\n",
       "      <th>요단백</th>\n",
       "      <th>혈청크레아티닌</th>\n",
       "      <th>(혈청지오티)AST</th>\n",
       "      <th>(혈청지오티)ALT</th>\n",
       "      <th>감마 지티피</th>\n",
       "      <th>흡연상태</th>\n",
       "      <th>음주여부</th>\n",
       "      <th>구강검진 수검여부</th>\n",
       "      <th>치아우식증유무</th>\n",
       "      <th>치석</th>\n",
       "      <th>데이터 공개일자</th>\n",
       "    </tr>\n",
       "  </thead>\n",
       "  <tbody>\n",
       "    <tr>\n",
       "      <th>0</th>\n",
       "      <td>2020</td>\n",
       "      <td>1</td>\n",
       "      <td>36</td>\n",
       "      <td>1</td>\n",
       "      <td>9</td>\n",
       "      <td>165</td>\n",
       "      <td>60</td>\n",
       "      <td>72.1</td>\n",
       "      <td>1.2</td>\n",
       "      <td>1.5</td>\n",
       "      <td>1.0</td>\n",
       "      <td>1.0</td>\n",
       "      <td>127.0</td>\n",
       "      <td>79.0</td>\n",
       "      <td>90.0</td>\n",
       "      <td>188.0</td>\n",
       "      <td>58.0</td>\n",
       "      <td>58.0</td>\n",
       "      <td>118.0</td>\n",
       "      <td>15.0</td>\n",
       "      <td>1.0</td>\n",
       "      <td>1.1</td>\n",
       "      <td>21.0</td>\n",
       "      <td>27.0</td>\n",
       "      <td>21.0</td>\n",
       "      <td>1.0</td>\n",
       "      <td>0.0</td>\n",
       "      <td>0</td>\n",
       "      <td>NaN</td>\n",
       "      <td>NaN</td>\n",
       "      <td>2021-12-29</td>\n",
       "    </tr>\n",
       "    <tr>\n",
       "      <th>1</th>\n",
       "      <td>2020</td>\n",
       "      <td>2</td>\n",
       "      <td>27</td>\n",
       "      <td>2</td>\n",
       "      <td>13</td>\n",
       "      <td>150</td>\n",
       "      <td>65</td>\n",
       "      <td>81.0</td>\n",
       "      <td>0.8</td>\n",
       "      <td>0.8</td>\n",
       "      <td>1.0</td>\n",
       "      <td>1.0</td>\n",
       "      <td>110.0</td>\n",
       "      <td>73.0</td>\n",
       "      <td>87.0</td>\n",
       "      <td>NaN</td>\n",
       "      <td>NaN</td>\n",
       "      <td>NaN</td>\n",
       "      <td>NaN</td>\n",
       "      <td>12.7</td>\n",
       "      <td>1.0</td>\n",
       "      <td>0.5</td>\n",
       "      <td>18.0</td>\n",
       "      <td>15.0</td>\n",
       "      <td>15.0</td>\n",
       "      <td>1.0</td>\n",
       "      <td>0.0</td>\n",
       "      <td>0</td>\n",
       "      <td>NaN</td>\n",
       "      <td>NaN</td>\n",
       "      <td>2021-12-29</td>\n",
       "    </tr>\n",
       "    <tr>\n",
       "      <th>2</th>\n",
       "      <td>2020</td>\n",
       "      <td>3</td>\n",
       "      <td>11</td>\n",
       "      <td>2</td>\n",
       "      <td>12</td>\n",
       "      <td>155</td>\n",
       "      <td>55</td>\n",
       "      <td>70.0</td>\n",
       "      <td>0.6</td>\n",
       "      <td>0.7</td>\n",
       "      <td>1.0</td>\n",
       "      <td>1.0</td>\n",
       "      <td>123.0</td>\n",
       "      <td>80.0</td>\n",
       "      <td>102.0</td>\n",
       "      <td>NaN</td>\n",
       "      <td>NaN</td>\n",
       "      <td>NaN</td>\n",
       "      <td>NaN</td>\n",
       "      <td>12.8</td>\n",
       "      <td>1.0</td>\n",
       "      <td>0.7</td>\n",
       "      <td>27.0</td>\n",
       "      <td>25.0</td>\n",
       "      <td>7.0</td>\n",
       "      <td>1.0</td>\n",
       "      <td>0.0</td>\n",
       "      <td>0</td>\n",
       "      <td>NaN</td>\n",
       "      <td>NaN</td>\n",
       "      <td>2021-12-29</td>\n",
       "    </tr>\n",
       "    <tr>\n",
       "      <th>3</th>\n",
       "      <td>2020</td>\n",
       "      <td>4</td>\n",
       "      <td>31</td>\n",
       "      <td>1</td>\n",
       "      <td>13</td>\n",
       "      <td>160</td>\n",
       "      <td>70</td>\n",
       "      <td>90.8</td>\n",
       "      <td>1.0</td>\n",
       "      <td>1.0</td>\n",
       "      <td>1.0</td>\n",
       "      <td>2.0</td>\n",
       "      <td>134.0</td>\n",
       "      <td>84.0</td>\n",
       "      <td>146.0</td>\n",
       "      <td>NaN</td>\n",
       "      <td>NaN</td>\n",
       "      <td>NaN</td>\n",
       "      <td>NaN</td>\n",
       "      <td>16.4</td>\n",
       "      <td>1.0</td>\n",
       "      <td>1.2</td>\n",
       "      <td>65.0</td>\n",
       "      <td>97.0</td>\n",
       "      <td>72.0</td>\n",
       "      <td>1.0</td>\n",
       "      <td>0.0</td>\n",
       "      <td>1</td>\n",
       "      <td>0.0</td>\n",
       "      <td>0.0</td>\n",
       "      <td>2021-12-29</td>\n",
       "    </tr>\n",
       "    <tr>\n",
       "      <th>4</th>\n",
       "      <td>2020</td>\n",
       "      <td>5</td>\n",
       "      <td>41</td>\n",
       "      <td>2</td>\n",
       "      <td>12</td>\n",
       "      <td>155</td>\n",
       "      <td>50</td>\n",
       "      <td>75.2</td>\n",
       "      <td>1.5</td>\n",
       "      <td>1.2</td>\n",
       "      <td>1.0</td>\n",
       "      <td>1.0</td>\n",
       "      <td>144.0</td>\n",
       "      <td>89.0</td>\n",
       "      <td>110.0</td>\n",
       "      <td>220.0</td>\n",
       "      <td>171.0</td>\n",
       "      <td>53.0</td>\n",
       "      <td>133.0</td>\n",
       "      <td>12.4</td>\n",
       "      <td>1.0</td>\n",
       "      <td>0.7</td>\n",
       "      <td>18.0</td>\n",
       "      <td>17.0</td>\n",
       "      <td>14.0</td>\n",
       "      <td>1.0</td>\n",
       "      <td>0.0</td>\n",
       "      <td>0</td>\n",
       "      <td>NaN</td>\n",
       "      <td>NaN</td>\n",
       "      <td>2021-12-29</td>\n",
       "    </tr>\n",
       "  </tbody>\n",
       "</table>\n",
       "</div>"
      ],
      "text/plain": [
       "   기준년도  가입자 일련번호  시도코드  성별코드  연령대 코드(5세단위)  신장(5Cm단위)  체중(5Kg 단위)  허리둘레  \\\n",
       "0  2020         1    36     1             9        165          60  72.1   \n",
       "1  2020         2    27     2            13        150          65  81.0   \n",
       "2  2020         3    11     2            12        155          55  70.0   \n",
       "3  2020         4    31     1            13        160          70  90.8   \n",
       "4  2020         5    41     2            12        155          50  75.2   \n",
       "\n",
       "   시력(좌)  시력(우)  청력(좌)  청력(우)  수축기 혈압  이완기 혈압  식전혈당(공복혈당)  총 콜레스테롤  트리글리세라이드  \\\n",
       "0    1.2    1.5    1.0    1.0   127.0    79.0        90.0    188.0      58.0   \n",
       "1    0.8    0.8    1.0    1.0   110.0    73.0        87.0      NaN       NaN   \n",
       "2    0.6    0.7    1.0    1.0   123.0    80.0       102.0      NaN       NaN   \n",
       "3    1.0    1.0    1.0    2.0   134.0    84.0       146.0      NaN       NaN   \n",
       "4    1.5    1.2    1.0    1.0   144.0    89.0       110.0    220.0     171.0   \n",
       "\n",
       "   HDL 콜레스테롤  LDL 콜레스테롤   혈색소  요단백  혈청크레아티닌  (혈청지오티)AST  (혈청지오티)ALT  감마 지티피  \\\n",
       "0       58.0      118.0  15.0  1.0      1.1        21.0        27.0    21.0   \n",
       "1        NaN        NaN  12.7  1.0      0.5        18.0        15.0    15.0   \n",
       "2        NaN        NaN  12.8  1.0      0.7        27.0        25.0     7.0   \n",
       "3        NaN        NaN  16.4  1.0      1.2        65.0        97.0    72.0   \n",
       "4       53.0      133.0  12.4  1.0      0.7        18.0        17.0    14.0   \n",
       "\n",
       "   흡연상태  음주여부  구강검진 수검여부  치아우식증유무   치석    데이터 공개일자  \n",
       "0   1.0   0.0          0      NaN  NaN  2021-12-29  \n",
       "1   1.0   0.0          0      NaN  NaN  2021-12-29  \n",
       "2   1.0   0.0          0      NaN  NaN  2021-12-29  \n",
       "3   1.0   0.0          1      0.0  0.0  2021-12-29  \n",
       "4   1.0   0.0          0      NaN  NaN  2021-12-29  "
      ]
     },
     "execution_count": 13,
     "metadata": {},
     "output_type": "execute_result"
    }
   ],
   "source": [
    "# 데이터 확인하기 (상위 5개)\n",
    "df.head()"
   ]
  },
  {
   "cell_type": "code",
   "execution_count": 14,
   "metadata": {
    "ExecuteTime": {
     "end_time": "2023-05-04T07:44:39.106959Z",
     "start_time": "2023-05-04T07:44:38.954678Z"
    }
   },
   "outputs": [],
   "source": [
    "# 가설을 참고하여 데이터 일부 삭제하기 \n",
    "# 시력, 청력, 치아 관련 칼럼은 관계없다는 가정으로 열 제거하기\n",
    "df.drop([\"치아우식증유무\", '치석','시력(좌)', '시력(우)', '청력(좌)',  '청력(우)', '구강검진 수검여부'], axis=1, inplace=True)"
   ]
  },
  {
   "cell_type": "code",
   "execution_count": 15,
   "metadata": {
    "ExecuteTime": {
     "end_time": "2023-05-04T07:44:39.536909Z",
     "start_time": "2023-05-04T07:44:39.489988Z"
    }
   },
   "outputs": [
    {
     "name": "stdout",
     "output_type": "stream",
     "text": [
      "기준년도 칼럼 확인\n"
     ]
    },
    {
     "data": {
      "text/plain": [
       "2020    1000000\n",
       "Name: 기준년도, dtype: int64"
      ]
     },
     "execution_count": 15,
     "metadata": {},
     "output_type": "execute_result"
    }
   ],
   "source": [
    "# 기준년도 칼럼 확인하기 (모두 '2020' 동일 값이므로 '기준년도' 칼럼 삭제)\n",
    "print(\"기준년도 칼럼 확인\")\n",
    "df.기준년도.value_counts() "
   ]
  },
  {
   "cell_type": "code",
   "execution_count": 16,
   "metadata": {
    "ExecuteTime": {
     "end_time": "2023-05-04T07:44:40.282717Z",
     "start_time": "2023-05-04T07:44:40.073790Z"
    }
   },
   "outputs": [
    {
     "name": "stdout",
     "output_type": "stream",
     "text": [
      "가입자 일련번호 칼럼 확인\n"
     ]
    },
    {
     "data": {
      "text/plain": [
       "1          1\n",
       "666658     1\n",
       "666660     1\n",
       "666661     1\n",
       "666662     1\n",
       "          ..\n",
       "333338     1\n",
       "333339     1\n",
       "333340     1\n",
       "333341     1\n",
       "1000000    1\n",
       "Name: 가입자 일련번호, Length: 1000000, dtype: int64"
      ]
     },
     "execution_count": 16,
     "metadata": {},
     "output_type": "execute_result"
    }
   ],
   "source": [
    "# 가입자 일련번호 칼럼 확인하기 (모두 unique한 값으로 확인되어 '가입자 일련번호' 컬럼 삭제)\n",
    "print(\"가입자 일련번호 칼럼 확인\")\n",
    "df[\"가입자 일련번호\"].value_counts() "
   ]
  },
  {
   "cell_type": "code",
   "execution_count": 17,
   "metadata": {
    "ExecuteTime": {
     "end_time": "2023-05-04T07:44:40.785893Z",
     "start_time": "2023-05-04T07:44:40.740479Z"
    }
   },
   "outputs": [
    {
     "name": "stdout",
     "output_type": "stream",
     "text": [
      "성별코드 칼럼 확인\n"
     ]
    },
    {
     "data": {
      "text/plain": [
       "1    510689\n",
       "2    489311\n",
       "Name: 성별코드, dtype: int64"
      ]
     },
     "execution_count": 17,
     "metadata": {},
     "output_type": "execute_result"
    }
   ],
   "source": [
    "# 성별코드 칼럼 확인하기\n",
    "print(\"성별코드 칼럼 확인\")\n",
    "df.성별코드.value_counts()"
   ]
  },
  {
   "cell_type": "code",
   "execution_count": 18,
   "metadata": {
    "ExecuteTime": {
     "end_time": "2023-05-04T07:44:41.615931Z",
     "start_time": "2023-05-04T07:44:41.474817Z"
    }
   },
   "outputs": [],
   "source": [
    "# 불필요한 데이터 삭제하기\n",
    "df.drop([\"기준년도\", '가입자 일련번호', '데이터 공개일자', '성별코드', '시도코드'], axis=1, inplace=True)"
   ]
  },
  {
   "cell_type": "code",
   "execution_count": 19,
   "metadata": {
    "ExecuteTime": {
     "end_time": "2023-05-04T07:44:42.287014Z",
     "start_time": "2023-05-04T07:44:42.191505Z"
    }
   },
   "outputs": [],
   "source": [
    "# 별도의 test 데이터 추출하기\n",
    "test = df[df['LDL 콜레스테롤'].isnull()]"
   ]
  },
  {
   "cell_type": "code",
   "execution_count": 20,
   "metadata": {
    "ExecuteTime": {
     "end_time": "2023-05-04T07:44:42.898305Z",
     "start_time": "2023-05-04T07:44:42.764566Z"
    }
   },
   "outputs": [],
   "source": [
    "# NaN 데이터 행 단위로 삭제하기\n",
    "train = df.dropna(axis=0)"
   ]
  },
  {
   "cell_type": "code",
   "execution_count": 21,
   "metadata": {
    "ExecuteTime": {
     "end_time": "2023-05-04T07:44:43.406005Z",
     "start_time": "2023-05-04T07:44:43.358203Z"
    }
   },
   "outputs": [
    {
     "name": "stdout",
     "output_type": "stream",
     "text": [
      "학습 데이터 확인\n"
     ]
    },
    {
     "data": {
      "text/html": [
       "<div>\n",
       "<style scoped>\n",
       "    .dataframe tbody tr th:only-of-type {\n",
       "        vertical-align: middle;\n",
       "    }\n",
       "\n",
       "    .dataframe tbody tr th {\n",
       "        vertical-align: top;\n",
       "    }\n",
       "\n",
       "    .dataframe thead th {\n",
       "        text-align: right;\n",
       "    }\n",
       "</style>\n",
       "<table border=\"1\" class=\"dataframe\">\n",
       "  <thead>\n",
       "    <tr style=\"text-align: right;\">\n",
       "      <th></th>\n",
       "      <th>연령대 코드(5세단위)</th>\n",
       "      <th>신장(5Cm단위)</th>\n",
       "      <th>체중(5Kg 단위)</th>\n",
       "      <th>허리둘레</th>\n",
       "      <th>수축기 혈압</th>\n",
       "      <th>이완기 혈압</th>\n",
       "      <th>식전혈당(공복혈당)</th>\n",
       "      <th>총 콜레스테롤</th>\n",
       "      <th>트리글리세라이드</th>\n",
       "      <th>HDL 콜레스테롤</th>\n",
       "      <th>LDL 콜레스테롤</th>\n",
       "      <th>혈색소</th>\n",
       "      <th>요단백</th>\n",
       "      <th>혈청크레아티닌</th>\n",
       "      <th>(혈청지오티)AST</th>\n",
       "      <th>(혈청지오티)ALT</th>\n",
       "      <th>감마 지티피</th>\n",
       "      <th>흡연상태</th>\n",
       "      <th>음주여부</th>\n",
       "    </tr>\n",
       "  </thead>\n",
       "  <tbody>\n",
       "    <tr>\n",
       "      <th>0</th>\n",
       "      <td>9</td>\n",
       "      <td>165</td>\n",
       "      <td>60</td>\n",
       "      <td>72.1</td>\n",
       "      <td>127.0</td>\n",
       "      <td>79.0</td>\n",
       "      <td>90.0</td>\n",
       "      <td>188.0</td>\n",
       "      <td>58.0</td>\n",
       "      <td>58.0</td>\n",
       "      <td>118.0</td>\n",
       "      <td>15.0</td>\n",
       "      <td>1.0</td>\n",
       "      <td>1.1</td>\n",
       "      <td>21.0</td>\n",
       "      <td>27.0</td>\n",
       "      <td>21.0</td>\n",
       "      <td>1.0</td>\n",
       "      <td>0.0</td>\n",
       "    </tr>\n",
       "  </tbody>\n",
       "</table>\n",
       "</div>"
      ],
      "text/plain": [
       "   연령대 코드(5세단위)  신장(5Cm단위)  체중(5Kg 단위)  허리둘레  수축기 혈압  이완기 혈압  식전혈당(공복혈당)  \\\n",
       "0             9        165          60  72.1   127.0    79.0        90.0   \n",
       "\n",
       "   총 콜레스테롤  트리글리세라이드  HDL 콜레스테롤  LDL 콜레스테롤   혈색소  요단백  혈청크레아티닌  (혈청지오티)AST  \\\n",
       "0    188.0      58.0       58.0      118.0  15.0  1.0      1.1        21.0   \n",
       "\n",
       "   (혈청지오티)ALT  감마 지티피  흡연상태  음주여부  \n",
       "0        27.0    21.0   1.0   0.0  "
      ]
     },
     "execution_count": 21,
     "metadata": {},
     "output_type": "execute_result"
    }
   ],
   "source": [
    "# 학습 데이터 확인하기\n",
    "print(\"학습 데이터 확인\")\n",
    "train.head(1)"
   ]
  },
  {
   "cell_type": "code",
   "execution_count": 22,
   "metadata": {
    "ExecuteTime": {
     "end_time": "2023-05-04T07:44:44.062949Z",
     "start_time": "2023-05-04T07:44:44.045434Z"
    }
   },
   "outputs": [],
   "source": [
    "# 정답 데이터 생성하기\n",
    "y = train['LDL 콜레스테롤']"
   ]
  },
  {
   "cell_type": "code",
   "execution_count": 23,
   "metadata": {
    "ExecuteTime": {
     "end_time": "2023-05-04T07:44:44.767348Z",
     "start_time": "2023-05-04T07:44:44.731294Z"
    }
   },
   "outputs": [],
   "source": [
    "# 학습 데이터 생성하기\n",
    "x = train.drop('LDL 콜레스테롤', axis=1)"
   ]
  },
  {
   "cell_type": "code",
   "execution_count": 24,
   "metadata": {
    "ExecuteTime": {
     "end_time": "2023-05-04T07:44:45.363659Z",
     "start_time": "2023-05-04T07:44:45.346000Z"
    }
   },
   "outputs": [],
   "source": [
    "# validation set 추출을 위한 train_test_split 라이브러리 불러오기\n",
    "from sklearn.model_selection import train_test_split"
   ]
  },
  {
   "cell_type": "code",
   "execution_count": 25,
   "metadata": {
    "ExecuteTime": {
     "end_time": "2023-05-04T07:44:46.147364Z",
     "start_time": "2023-05-04T07:44:45.965152Z"
    }
   },
   "outputs": [],
   "source": [
    "# scikit learn 예시 코드 비율 대로 불러오기\n",
    "X_train, X_test, y_train, y_test = train_test_split(\n",
    "    x, y, test_size=0.33, random_state=42)"
   ]
  },
  {
   "cell_type": "code",
   "execution_count": 26,
   "metadata": {
    "ExecuteTime": {
     "end_time": "2023-05-04T07:44:47.092682Z",
     "start_time": "2023-05-04T07:44:47.072624Z"
    }
   },
   "outputs": [
    {
     "name": "stdout",
     "output_type": "stream",
     "text": [
      "학습/검증 데이터 확인\n",
      "(262749, 18) (262749,) (129415, 18) (129415,)\n"
     ]
    }
   ],
   "source": [
    "# 학습/검증 데이터 확인하기\n",
    "print(\"학습/검증 데이터 확인\")\n",
    "print(X_train.shape, y_train.shape, X_test.shape, y_test.shape)"
   ]
  },
  {
   "cell_type": "markdown",
   "metadata": {},
   "source": [
    "#### (2) 선형회귀 학습 및 추론하기"
   ]
  },
  {
   "cell_type": "code",
   "execution_count": 27,
   "metadata": {
    "ExecuteTime": {
     "end_time": "2023-05-04T07:44:48.727001Z",
     "start_time": "2023-05-04T07:44:48.362633Z"
    }
   },
   "outputs": [
    {
     "data": {
      "text/plain": [
       "LinearRegression()"
      ]
     },
     "execution_count": 27,
     "metadata": {},
     "output_type": "execute_result"
    }
   ],
   "source": [
    "# 라이브러리 불러오기\n",
    "from sklearn.linear_model import LinearRegression\n",
    "# 모델 생성하기\n",
    "reg = LinearRegression()\n",
    "# 학습하기\n",
    "reg.fit(X_train,y_train)"
   ]
  },
  {
   "cell_type": "code",
   "execution_count": 29,
   "metadata": {
    "ExecuteTime": {
     "end_time": "2023-05-04T07:44:49.228940Z",
     "start_time": "2023-05-04T07:44:49.210241Z"
    }
   },
   "outputs": [
    {
     "name": "stdout",
     "output_type": "stream",
     "text": [
      "기울기 및 절편 확인 \n",
      "기울기확인 coef = [ 0.10940698  0.01482723  0.03846911  0.04390587 -0.01075239 -0.00400628\n",
      " -0.00250987  0.96960416 -0.17471532 -0.7285143   0.14793707  0.02093034\n",
      "  0.30343003 -0.01334047  0.01410607 -0.00855896  0.26395722 -0.70237274]\n",
      "절편확인 intercept = -22.424253230417577\n"
     ]
    }
   ],
   "source": [
    "# 기울기와 절편 확인하기\n",
    "print(f'''기울기 및 절편 확인 \n",
    "기울기확인 coef = {reg.coef_}\n",
    "절편확인 intercept = {reg.intercept_}''')"
   ]
  },
  {
   "cell_type": "code",
   "execution_count": 30,
   "metadata": {
    "ExecuteTime": {
     "end_time": "2023-05-04T07:44:49.958476Z",
     "start_time": "2023-05-04T07:44:49.938727Z"
    }
   },
   "outputs": [
    {
     "name": "stdout",
     "output_type": "stream",
     "text": [
      "전체에 대해서 가중치 확인\n",
      "연령대 코드(5세단위) = 0.10940697813903975\n",
      "신장(5Cm단위) = 0.014827231815311145\n",
      "체중(5Kg 단위) = 0.03846910648118471\n",
      "허리둘레 = 0.04390587116959737\n",
      "수축기 혈압 = -0.010752389060189287\n",
      "이완기 혈압 = -0.004006282687844597\n",
      "식전혈당(공복혈당) = -0.002509871758126584\n",
      "총 콜레스테롤 = 0.9696041571709917\n",
      "트리글리세라이드 = -0.1747153218787\n",
      "HDL 콜레스테롤 = -0.728514295030803\n",
      "혈색소 = 0.14793707336766196\n",
      "요단백 = 0.020930335819269587\n",
      "혈청크레아티닌 = 0.30343002949216025\n",
      "(혈청지오티)AST = -0.01334047446764556\n",
      "(혈청지오티)ALT = 0.014106072133288093\n",
      "감마 지티피 = -0.008558956086861268\n",
      "흡연상태 = 0.2639572180775779\n",
      "음주여부 = -0.7023727367515162\n"
     ]
    }
   ],
   "source": [
    "# 각각 데이터에 대해 가중치(or 회귀계수) 확인하기\n",
    "print(\"전체에 대해서 가중치 확인\")\n",
    "for index ,columns in enumerate(X_train.columns):\n",
    "    print(f\"{columns} = {reg.coef_[index]}\")"
   ]
  },
  {
   "cell_type": "markdown",
   "metadata": {},
   "source": [
    "#### (3) 예측을 통한 최종 검증하기"
   ]
  },
  {
   "cell_type": "code",
   "execution_count": 31,
   "metadata": {
    "ExecuteTime": {
     "end_time": "2023-05-04T07:44:53.290277Z",
     "start_time": "2023-05-04T07:44:53.252530Z"
    }
   },
   "outputs": [],
   "source": [
    "# 예측하기\n",
    "y_pred = reg.predict(X_test)"
   ]
  },
  {
   "cell_type": "code",
   "execution_count": 32,
   "metadata": {
    "ExecuteTime": {
     "end_time": "2023-05-04T07:44:53.824089Z",
     "start_time": "2023-05-04T07:44:53.816061Z"
    }
   },
   "outputs": [],
   "source": [
    "# 결과 검증을 위해 MSE 라이브러리 불러오기\n",
    "# 최종적으로는 RMSE를 사용하기\n",
    "from sklearn.metrics import mean_squared_error"
   ]
  },
  {
   "cell_type": "code",
   "execution_count": 33,
   "metadata": {
    "ExecuteTime": {
     "end_time": "2023-05-04T07:44:54.278914Z",
     "start_time": "2023-05-04T07:44:54.261136Z"
    }
   },
   "outputs": [],
   "source": [
    "# mse 라이브러리 에서 RMSE 는 squared 옵션을 False로 설정하기\n",
    "rmse = mean_squared_error(y_test, y_pred, squared=False)"
   ]
  },
  {
   "cell_type": "code",
   "execution_count": 34,
   "metadata": {
    "ExecuteTime": {
     "end_time": "2023-05-04T07:44:54.861533Z",
     "start_time": "2023-05-04T07:44:54.835118Z"
    }
   },
   "outputs": [
    {
     "name": "stdout",
     "output_type": "stream",
     "text": [
      "주요 Feature 삭제 전 rmse = 8.127\n"
     ]
    }
   ],
   "source": [
    "# 주요 Feature 삭제 전 rmse 확인하기\n",
    "print(f'''주요 Feature 삭제 전 rmse = {round(rmse,3)}''')"
   ]
  },
  {
   "cell_type": "markdown",
   "metadata": {},
   "source": [
    "#### (4) 가중치의 의미 확인하기"
   ]
  },
  {
   "cell_type": "code",
   "execution_count": 35,
   "metadata": {
    "ExecuteTime": {
     "end_time": "2023-05-04T07:44:55.916252Z",
     "start_time": "2023-05-04T07:44:55.899533Z"
    }
   },
   "outputs": [
    {
     "data": {
      "text/plain": [
       "Index(['연령대 코드(5세단위)', '신장(5Cm단위)', '체중(5Kg 단위)', '허리둘레', '수축기 혈압', '이완기 혈압',\n",
       "       '식전혈당(공복혈당)', '총 콜레스테롤', '트리글리세라이드', 'HDL 콜레스테롤', 'LDL 콜레스테롤', '혈색소',\n",
       "       '요단백', '혈청크레아티닌', '(혈청지오티)AST', '(혈청지오티)ALT', '감마 지티피', '흡연상태', '음주여부'],\n",
       "      dtype='object')"
      ]
     },
     "execution_count": 35,
     "metadata": {},
     "output_type": "execute_result"
    }
   ],
   "source": [
    "# 주요 Feature 삭제를 위해 칼럼명 재확인하기\n",
    "train.columns"
   ]
  },
  {
   "cell_type": "code",
   "execution_count": 36,
   "metadata": {
    "ExecuteTime": {
     "end_time": "2023-05-04T07:44:56.511782Z",
     "start_time": "2023-05-04T07:44:56.468799Z"
    }
   },
   "outputs": [],
   "source": [
    "# 주요 Feature 삭제하기\n",
    "x = x.drop(['총 콜레스테롤', '트리글리세라이드', 'HDL 콜레스테롤'],axis = 1)"
   ]
  },
  {
   "cell_type": "code",
   "execution_count": 37,
   "metadata": {
    "ExecuteTime": {
     "end_time": "2023-05-04T07:44:57.152664Z",
     "start_time": "2023-05-04T07:44:56.979916Z"
    }
   },
   "outputs": [],
   "source": [
    "# scikit learn 예시 코드 비율 대로 불러오기\n",
    "X_train, X_test, y_train, y_test = train_test_split(\n",
    "    x, y, test_size=0.33, random_state=42)"
   ]
  },
  {
   "cell_type": "markdown",
   "metadata": {},
   "source": [
    "#### (5) 선형회귀 모델 재학습하기"
   ]
  },
  {
   "cell_type": "code",
   "execution_count": 38,
   "metadata": {
    "ExecuteTime": {
     "end_time": "2023-05-04T07:44:58.794664Z",
     "start_time": "2023-05-04T07:44:58.439863Z"
    }
   },
   "outputs": [
    {
     "data": {
      "text/plain": [
       "LinearRegression()"
      ]
     },
     "execution_count": 38,
     "metadata": {},
     "output_type": "execute_result"
    }
   ],
   "source": [
    "# 선형회귀 재생성 및 학습하기\n",
    "lr = LinearRegression()\n",
    "lr.fit(X_train,y_train)"
   ]
  },
  {
   "cell_type": "code",
   "execution_count": 39,
   "metadata": {
    "ExecuteTime": {
     "end_time": "2023-05-04T07:44:59.588832Z",
     "start_time": "2023-05-04T07:44:59.568559Z"
    }
   },
   "outputs": [
    {
     "name": "stdout",
     "output_type": "stream",
     "text": [
      "coef\n",
      "[-2.42029175e+00 -3.33193684e-01 -2.06625915e-04 -6.04430610e-02\n",
      " -1.12762074e-01  2.60023059e-01 -1.40142661e-01  3.98600794e+00\n",
      " -1.43222741e+00 -3.09969695e-01 -5.96480461e-02  4.51315922e-02\n",
      " -2.61611789e-02 -3.08419949e+00 -1.22509065e+00]\n",
      "intercept\n",
      "164.2290231811985\n"
     ]
    }
   ],
   "source": [
    "# 각각 데이터에 대해 가중치(or 회귀계수) 확인하기\n",
    "print(f'''coef\n",
    "{lr.coef_}\n",
    "intercept\n",
    "{lr.intercept_}''')"
   ]
  },
  {
   "cell_type": "markdown",
   "metadata": {},
   "source": [
    "#### (6) 가중치 비교하기"
   ]
  },
  {
   "cell_type": "code",
   "execution_count": 40,
   "metadata": {
    "ExecuteTime": {
     "end_time": "2023-05-04T07:45:00.780169Z",
     "start_time": "2023-05-04T07:45:00.751585Z"
    }
   },
   "outputs": [],
   "source": [
    "# 검증 데이터로 예측하기\n",
    "y_pred = lr.predict(X_test)"
   ]
  },
  {
   "cell_type": "code",
   "execution_count": 41,
   "metadata": {
    "ExecuteTime": {
     "end_time": "2023-05-04T07:45:01.644714Z",
     "start_time": "2023-05-04T07:45:01.626253Z"
    }
   },
   "outputs": [
    {
     "name": "stdout",
     "output_type": "stream",
     "text": [
      "가중치 확인\n",
      "연령대 코드(5세단위) = 0.10940697813903975\n",
      "신장(5Cm단위) = 0.014827231815311145\n",
      "체중(5Kg 단위) = 0.03846910648118471\n",
      "허리둘레 = 0.04390587116959737\n",
      "수축기 혈압 = -0.010752389060189287\n",
      "이완기 혈압 = -0.004006282687844597\n",
      "식전혈당(공복혈당) = -0.002509871758126584\n",
      "혈색소 = 0.9696041571709917\n",
      "요단백 = -0.1747153218787\n",
      "혈청크레아티닌 = -0.728514295030803\n",
      "(혈청지오티)AST = 0.14793707336766196\n",
      "(혈청지오티)ALT = 0.020930335819269587\n",
      "감마 지티피 = 0.30343002949216025\n",
      "흡연상태 = -0.01334047446764556\n",
      "음주여부 = 0.014106072133288093\n"
     ]
    }
   ],
   "source": [
    "# 각각 데이터에 대해 가중치(또는 회귀계수) 확인하기\n",
    "print(\"가중치 확인\")\n",
    "for index ,columns in enumerate(X_train.columns):\n",
    "    print(f\"{columns} = {reg.coef_[index]}\")"
   ]
  },
  {
   "cell_type": "code",
   "execution_count": 42,
   "metadata": {
    "ExecuteTime": {
     "end_time": "2023-05-04T07:45:02.255556Z",
     "start_time": "2023-05-04T07:45:02.236649Z"
    }
   },
   "outputs": [],
   "source": [
    "# 주요 Feature 삭제 후 RMSE 확인하기\n",
    "rmse_2 = mean_squared_error(y_test, y_pred, squared=False)"
   ]
  },
  {
   "cell_type": "code",
   "execution_count": 43,
   "metadata": {
    "ExecuteTime": {
     "end_time": "2023-05-04T07:45:02.772403Z",
     "start_time": "2023-05-04T07:45:02.755297Z"
    }
   },
   "outputs": [
    {
     "name": "stdout",
     "output_type": "stream",
     "text": [
      "주요 Feature 삭제 후 rmse = 38.847\n"
     ]
    }
   ],
   "source": [
    "# 가중치가 큰 특성을 삭제 했을 때 영향을 많이 받는지 확인하기\n",
    "print(f'''주요 Feature 삭제 후 rmse = {round(rmse_2,3)}''')"
   ]
  },
  {
   "attachments": {},
   "cell_type": "markdown",
   "metadata": {},
   "source": [
    "## 3. 로지스틱 회귀(Logistic Regression)"
   ]
  },
  {
   "cell_type": "markdown",
   "metadata": {},
   "source": [
    "### 1) 로지스틱 회귀 이해하기"
   ]
  },
  {
   "cell_type": "markdown",
   "metadata": {},
   "source": [
    "#### (1) 시그모이드 함수 만들기"
   ]
  },
  {
   "cell_type": "code",
   "execution_count": 44,
   "metadata": {
    "ExecuteTime": {
     "end_time": "2023-05-04T07:45:05.012697Z",
     "start_time": "2023-05-04T07:45:04.993104Z"
    }
   },
   "outputs": [],
   "source": [
    "# numpy 라이브러리 및 그래프 라이브러리 불러오기\n",
    "import numpy as np\n",
    "import matplotlib.pyplot as plt"
   ]
  },
  {
   "cell_type": "code",
   "execution_count": 45,
   "metadata": {
    "ExecuteTime": {
     "end_time": "2023-05-04T07:45:05.560440Z",
     "start_time": "2023-05-04T07:45:05.550431Z"
    }
   },
   "outputs": [],
   "source": [
    "# Sigmoid 함수 작성하기\n",
    "def sigmoid(x):\n",
    "    # nnumpy.exp() 함수는 밑이 자연상수 e인 지수함수(e^x)로 변환\n",
    "    return 1 / (1 + np.exp(-x)) "
   ]
  },
  {
   "cell_type": "code",
   "execution_count": 46,
   "metadata": {
    "ExecuteTime": {
     "end_time": "2023-05-04T07:45:06.113146Z",
     "start_time": "2023-05-04T07:45:06.092401Z"
    }
   },
   "outputs": [],
   "source": [
    "# 함수 테스트용 데이터 생성하기\n",
    "test = np.array([-1, 0, 1])"
   ]
  },
  {
   "cell_type": "code",
   "execution_count": 47,
   "metadata": {
    "ExecuteTime": {
     "end_time": "2023-05-04T07:45:06.712925Z",
     "start_time": "2023-05-04T07:45:06.706150Z"
    }
   },
   "outputs": [
    {
     "name": "stdout",
     "output_type": "stream",
     "text": [
      "[0.26894142 0.5        0.73105858]\n"
     ]
    }
   ],
   "source": [
    "# 작성된 함수 확인하기\n",
    "print(sigmoid(test))"
   ]
  },
  {
   "cell_type": "markdown",
   "metadata": {},
   "source": [
    "#### (2) 시그모이드 함수 그래프 그리기"
   ]
  },
  {
   "cell_type": "code",
   "execution_count": 48,
   "metadata": {
    "ExecuteTime": {
     "end_time": "2023-05-04T07:45:07.797372Z",
     "start_time": "2023-05-04T07:45:07.779050Z"
    }
   },
   "outputs": [],
   "source": [
    "# 그래프 적용을 위한 데이터 만들기\n",
    "sigmoid_x = range(-6, 7)\n",
    "sigmoid_y = sigmoid(np.array(sigmoid_x))"
   ]
  },
  {
   "cell_type": "code",
   "execution_count": 49,
   "metadata": {
    "ExecuteTime": {
     "end_time": "2023-05-04T07:45:08.670597Z",
     "start_time": "2023-05-04T07:45:08.389832Z"
    }
   },
   "outputs": [
    {
     "data": {
      "image/png": "[encoded data removed]",
      "text/plain": [
       "<Figure size 640x480 with 1 Axes>"
      ]
     },
     "metadata": {},
     "output_type": "display_data"
    }
   ],
   "source": [
    "# 선 그래프 그리기\n",
    "plt.plot(sigmoid_x , sigmoid_y, color = 'blue',linewidth = 0.5)\n",
    "# 백 그라운드 모눈 종이 설정하기\n",
    "plt.rcParams['axes.grid'] = True\n",
    "# 라인 굵기 설정하기\n",
    "plt.axvline(x=0, color='black', linewidth=3)\n",
    "# y 축 범위 설정하기 \n",
    "plt.yticks([0,0.5,1])\n",
    "plt.show()"
   ]
  },
  {
   "cell_type": "markdown",
   "metadata": {},
   "source": [
    "### 2) 로지스틱 회귀 실습하기"
   ]
  },
  {
   "cell_type": "markdown",
   "metadata": {},
   "source": [
    "#### (1) 데이터 구성하기"
   ]
  },
  {
   "cell_type": "code",
   "execution_count": 50,
   "metadata": {
    "ExecuteTime": {
     "end_time": "2023-05-04T07:45:10.425445Z",
     "start_time": "2023-05-04T07:45:10.408385Z"
    }
   },
   "outputs": [],
   "source": [
    "# 학습 데이터 생성하기\n",
    "x_train = [3,4,5,6,7,8,9,10,11,12,13,14,15,16,17]\n",
    "y_train = [0,0,0,0,0,0,0,1,1,1,1,1,1,1,1]\n",
    "# 추론을 위한 데이터 생성하기\n",
    "x_test = [0,1,2,18,19]\n",
    "y_test =  [0,0,0,1,1]\n",
    "\n",
    "# 학습 데이터에 대해 numpy로 변경 및 행을 열로 변경하기\n",
    "x_train = np.array(x_train).reshape([-1,1])\n",
    "y_train = np.array(y_train)\n",
    "# 추론 데이터에 대해 numpy로 변경 및 행을 열로 변경하기\n",
    "x_test = np.array(x_test).reshape([-1,1])\n",
    "y_test = np.array(y_test)"
   ]
  },
  {
   "cell_type": "code",
   "execution_count": 51,
   "metadata": {
    "ExecuteTime": {
     "end_time": "2023-05-04T07:45:11.055667Z",
     "start_time": "2023-05-04T07:45:11.026410Z"
    }
   },
   "outputs": [
    {
     "name": "stdout",
     "output_type": "stream",
     "text": [
      "[[ 3]\n",
      " [ 4]\n",
      " [ 5]\n",
      " [ 6]\n",
      " [ 7]\n",
      " [ 8]\n",
      " [ 9]\n",
      " [10]\n",
      " [11]\n",
      " [12]\n",
      " [13]\n",
      " [14]\n",
      " [15]\n",
      " [16]\n",
      " [17]]\n",
      "[0 0 0 0 0 0 0 1 1 1 1 1 1 1 1]\n"
     ]
    }
   ],
   "source": [
    "# 데이터 확인하기\n",
    "print(x_train)\n",
    "print(y_train)"
   ]
  },
  {
   "cell_type": "markdown",
   "metadata": {},
   "source": [
    "#### (2) 로지스틱 회귀 학습 하기"
   ]
  },
  {
   "cell_type": "code",
   "execution_count": 52,
   "metadata": {
    "ExecuteTime": {
     "end_time": "2023-05-04T07:45:12.204377Z",
     "start_time": "2023-05-04T07:45:12.193655Z"
    }
   },
   "outputs": [],
   "source": [
    "#로지스틱 회귀 라이브러리 불러오기\n",
    "from sklearn.linear_model import LogisticRegression"
   ]
  },
  {
   "cell_type": "code",
   "execution_count": 53,
   "metadata": {
    "ExecuteTime": {
     "end_time": "2023-05-04T07:45:12.752891Z",
     "start_time": "2023-05-04T07:45:12.733879Z"
    }
   },
   "outputs": [],
   "source": [
    "# 로지스틱 회귀 생성하기\n",
    "logi_reg = LogisticRegression()"
   ]
  },
  {
   "cell_type": "code",
   "execution_count": 54,
   "metadata": {
    "ExecuteTime": {
     "end_time": "2023-05-04T07:45:13.399179Z",
     "start_time": "2023-05-04T07:45:13.370761Z"
    }
   },
   "outputs": [
    {
     "data": {
      "text/plain": [
       "LogisticRegression()"
      ]
     },
     "execution_count": 54,
     "metadata": {},
     "output_type": "execute_result"
    }
   ],
   "source": [
    "# 학습하기\n",
    "logi_reg.fit(x_train, y_train)"
   ]
  },
  {
   "cell_type": "code",
   "execution_count": 55,
   "metadata": {
    "ExecuteTime": {
     "end_time": "2023-05-04T07:45:14.026852Z",
     "start_time": "2023-05-04T07:45:14.011722Z"
    }
   },
   "outputs": [
    {
     "name": "stdout",
     "output_type": "stream",
     "text": [
      "intercept: [-11.34126808]\n",
      "coef: [[1.19383367]]\n"
     ]
    }
   ],
   "source": [
    "# 역산을 위한 기울기와 절편이 있는지 확인하기\n",
    "print('intercept:', logi_reg.intercept_)\n",
    "print('coef:', logi_reg.coef_)"
   ]
  },
  {
   "cell_type": "markdown",
   "metadata": {},
   "source": [
    "#### (3) 로지스틱 회귀 그래프 만들기\n"
   ]
  },
  {
   "cell_type": "code",
   "execution_count": 56,
   "metadata": {
    "ExecuteTime": {
     "end_time": "2023-05-04T07:11:17.240077Z",
     "start_time": "2023-05-04T07:11:17.217842Z"
    }
   },
   "outputs": [],
   "source": [
    "# 기울기와 절편을 수동으로 결과 만들기\n",
    "odd = [] # \n",
    "for i in x_train:\n",
    "    odd.append((logi_reg.coef_* i) + logi_reg.intercept_)\n",
    "    \n",
    "sigmoid_y= sigmoid(np.array(odd))\n",
    "sigmoid_y = sigmoid_y.reshape(-1,1)"
   ]
  },
  {
   "cell_type": "code",
   "execution_count": 57,
   "metadata": {
    "ExecuteTime": {
     "end_time": "2023-05-04T07:11:17.959675Z",
     "start_time": "2023-05-04T07:11:17.639422Z"
    }
   },
   "outputs": [
    {
     "data": {
      "image/png": "[encoded data removed]",
      "text/plain": [
       "<Figure size 640x480 with 1 Axes>"
      ]
     },
     "metadata": {},
     "output_type": "display_data"
    }
   ],
   "source": [
    "# 역산된 그래프 표시하기\n",
    "plt.scatter(x_train, y_train,color='red')\n",
    "plt.plot(np.array(x_train), sigmoid_y, color='blue')\n",
    "plt.rcParams['axes.grid'] = True \n",
    "plt.yticks([0,0.5,1])\n",
    "plt.ylim([-0.1, 1.1]) # y축의 범위: [Ymin, Ymax]     \n",
    "plt.show()"
   ]
  },
  {
   "cell_type": "markdown",
   "metadata": {},
   "source": [
    "### 3) 로지스틱 회귀와 선형회귀 비교하기"
   ]
  },
  {
   "cell_type": "markdown",
   "metadata": {},
   "source": [
    "#### (1) 선형회귀 모델링하기"
   ]
  },
  {
   "cell_type": "code",
   "execution_count": 58,
   "metadata": {
    "ExecuteTime": {
     "end_time": "2023-05-04T07:11:19.064548Z",
     "start_time": "2023-05-04T07:11:19.034324Z"
    }
   },
   "outputs": [
    {
     "data": {
      "text/plain": [
       "LinearRegression()"
      ]
     },
     "execution_count": 58,
     "metadata": {},
     "output_type": "execute_result"
    }
   ],
   "source": [
    "# 선형회귀 함수 불러오기\n",
    "from sklearn.linear_model import LinearRegression\n",
    "# 선형회귀 생성하기\n",
    "lr = LinearRegression()\n",
    "# 학습하기\n",
    "lr.fit(x_train,y_train)"
   ]
  },
  {
   "cell_type": "code",
   "execution_count": 59,
   "metadata": {
    "ExecuteTime": {
     "end_time": "2023-05-04T07:11:19.538180Z",
     "start_time": "2023-05-04T07:11:19.524595Z"
    }
   },
   "outputs": [
    {
     "name": "stdout",
     "output_type": "stream",
     "text": [
      "intercept: -0.4666666666666669\n",
      "coef: [0.1]\n"
     ]
    }
   ],
   "source": [
    "# 수식 완성을 위한 coef 와 intercept 확인하기\n",
    "print('intercept:', lr.intercept_)\n",
    "print('coef:', lr.coef_)"
   ]
  },
  {
   "attachments": {},
   "cell_type": "markdown",
   "metadata": {},
   "source": [
    "#### (2) 선형회귀 모델과 로지스틱 회귀 모델 비교하기"
   ]
  },
  {
   "cell_type": "code",
   "execution_count": 60,
   "metadata": {
    "ExecuteTime": {
     "end_time": "2023-05-04T07:11:20.356296Z",
     "start_time": "2023-05-04T07:11:20.344030Z"
    }
   },
   "outputs": [],
   "source": [
    "coef_intercept = x_train * lr.coef_ + lr.intercept_"
   ]
  },
  {
   "cell_type": "code",
   "execution_count": 61,
   "metadata": {
    "ExecuteTime": {
     "end_time": "2023-05-04T07:11:21.297418Z",
     "start_time": "2023-05-04T07:11:20.922349Z"
    }
   },
   "outputs": [
    {
     "data": {
      "image/png": "[encoded data removed]",
      "text/plain": [
       "<Figure size 640x480 with 1 Axes>"
      ]
     },
     "metadata": {},
     "output_type": "display_data"
    },
    {
     "name": "stdout",
     "output_type": "stream",
     "text": [
      "1.0\n",
      "0.3981481481481476\n"
     ]
    }
   ],
   "source": [
    "plt.scatter(x_train, y_train,color='red')\n",
    "plt.plot(np.array(x_train), coef_intercept, color='green')\n",
    "plt.plot(np.array(x_train), sigmoid_y, color='blue')\n",
    "plt.rcParams['axes.grid'] = True\n",
    "plt.show()\n",
    "print(logi_reg.score(x_test,y_test))\n",
    "print(lr.score(x_test,y_test))"
   ]
  },
  {
   "attachments": {},
   "cell_type": "markdown",
   "metadata": {},
   "source": [
    "### [확인 문제]"
   ]
  },
  {
   "cell_type": "code",
   "execution_count": 62,
   "metadata": {
    "ExecuteTime": {
     "end_time": "2023-05-04T07:11:21.741878Z",
     "start_time": "2023-05-04T07:11:21.723241Z"
    }
   },
   "outputs": [
    {
     "data": {
      "text/plain": [
       "array([1])"
      ]
     },
     "execution_count": 62,
     "metadata": {},
     "output_type": "execute_result"
    }
   ],
   "source": [
    "# 문제 01. 정답 \n",
    "logi_pred = logi_reg.predict(np.array(9.5).reshape(-1,1))\n",
    "logi_pred"
   ]
  },
  {
   "cell_type": "code",
   "execution_count": 63,
   "metadata": {
    "ExecuteTime": {
     "end_time": "2023-05-04T07:11:22.199857Z",
     "start_time": "2023-05-04T07:11:22.178266Z"
    }
   },
   "outputs": [
    {
     "data": {
      "text/plain": [
       "0"
      ]
     },
     "execution_count": 63,
     "metadata": {},
     "output_type": "execute_result"
    }
   ],
   "source": [
    "lr_pred = lr.predict(np.array(9.5).reshape(-1,1))\n",
    "round(lr_pred[0])"
   ]
  },
  {
   "attachments": {},
   "cell_type": "markdown",
   "metadata": {},
   "source": [
    "## 4. 의사결정나무(Decision tree)"
   ]
  },
  {
   "cell_type": "markdown",
   "metadata": {},
   "source": [
    "### 2) 의사결정나무 실습하기"
   ]
  },
  {
   "cell_type": "markdown",
   "metadata": {},
   "source": [
    "#### (1) 데이터 준비하기"
   ]
  },
  {
   "cell_type": "code",
   "execution_count": 64,
   "metadata": {
    "ExecuteTime": {
     "end_time": "2023-05-04T07:11:23.918898Z",
     "start_time": "2023-05-04T07:11:23.912763Z"
    }
   },
   "outputs": [],
   "source": [
    "# 라이브러리 불러오기 (numpy, pandas, train_test_split)\n",
    "import numpy as np\n",
    "import pandas as pd\n",
    "from sklearn.model_selection import train_test_split"
   ]
  },
  {
   "cell_type": "code",
   "execution_count": 65,
   "metadata": {
    "ExecuteTime": {
     "end_time": "2023-05-04T07:11:29.169581Z",
     "start_time": "2023-05-04T07:11:24.235034Z"
    }
   },
   "outputs": [],
   "source": [
    "# 데이터 불러오기\n",
    "df = pd.read_csv(\"국민건강보험공단_건강검진정보_20211229.CSV\", encoding = 'cp949')\n",
    "# 트리 예시를 만들기 위해서 일부 특성만 추출\n",
    "sample_df = df[['신장(5Cm단위)','성별코드', '체중(5Kg 단위)','음주여부']]"
   ]
  },
  {
   "cell_type": "code",
   "execution_count": 66,
   "metadata": {
    "ExecuteTime": {
     "end_time": "2023-05-04T07:11:31.722954Z",
     "start_time": "2023-05-04T07:11:31.696754Z"
    },
    "scrolled": true
   },
   "outputs": [
    {
     "data": {
      "text/html": [
       "<div>\n",
       "<style scoped>\n",
       "    .dataframe tbody tr th:only-of-type {\n",
       "        vertical-align: middle;\n",
       "    }\n",
       "\n",
       "    .dataframe tbody tr th {\n",
       "        vertical-align: top;\n",
       "    }\n",
       "\n",
       "    .dataframe thead th {\n",
       "        text-align: right;\n",
       "    }\n",
       "</style>\n",
       "<table border=\"1\" class=\"dataframe\">\n",
       "  <thead>\n",
       "    <tr style=\"text-align: right;\">\n",
       "      <th></th>\n",
       "      <th>신장(5Cm단위)</th>\n",
       "      <th>성별코드</th>\n",
       "      <th>체중(5Kg 단위)</th>\n",
       "      <th>음주여부</th>\n",
       "    </tr>\n",
       "  </thead>\n",
       "  <tbody>\n",
       "    <tr>\n",
       "      <th>0</th>\n",
       "      <td>165</td>\n",
       "      <td>1</td>\n",
       "      <td>60</td>\n",
       "      <td>0.0</td>\n",
       "    </tr>\n",
       "    <tr>\n",
       "      <th>1</th>\n",
       "      <td>150</td>\n",
       "      <td>2</td>\n",
       "      <td>65</td>\n",
       "      <td>0.0</td>\n",
       "    </tr>\n",
       "    <tr>\n",
       "      <th>2</th>\n",
       "      <td>155</td>\n",
       "      <td>2</td>\n",
       "      <td>55</td>\n",
       "      <td>0.0</td>\n",
       "    </tr>\n",
       "    <tr>\n",
       "      <th>3</th>\n",
       "      <td>160</td>\n",
       "      <td>1</td>\n",
       "      <td>70</td>\n",
       "      <td>0.0</td>\n",
       "    </tr>\n",
       "    <tr>\n",
       "      <th>4</th>\n",
       "      <td>155</td>\n",
       "      <td>2</td>\n",
       "      <td>50</td>\n",
       "      <td>0.0</td>\n",
       "    </tr>\n",
       "    <tr>\n",
       "      <th>5</th>\n",
       "      <td>185</td>\n",
       "      <td>1</td>\n",
       "      <td>85</td>\n",
       "      <td>1.0</td>\n",
       "    </tr>\n",
       "    <tr>\n",
       "      <th>6</th>\n",
       "      <td>165</td>\n",
       "      <td>1</td>\n",
       "      <td>80</td>\n",
       "      <td>1.0</td>\n",
       "    </tr>\n",
       "    <tr>\n",
       "      <th>7</th>\n",
       "      <td>160</td>\n",
       "      <td>1</td>\n",
       "      <td>65</td>\n",
       "      <td>0.0</td>\n",
       "    </tr>\n",
       "    <tr>\n",
       "      <th>8</th>\n",
       "      <td>150</td>\n",
       "      <td>2</td>\n",
       "      <td>50</td>\n",
       "      <td>0.0</td>\n",
       "    </tr>\n",
       "    <tr>\n",
       "      <th>9</th>\n",
       "      <td>150</td>\n",
       "      <td>2</td>\n",
       "      <td>45</td>\n",
       "      <td>0.0</td>\n",
       "    </tr>\n",
       "  </tbody>\n",
       "</table>\n",
       "</div>"
      ],
      "text/plain": [
       "   신장(5Cm단위)  성별코드  체중(5Kg 단위)  음주여부\n",
       "0        165     1          60   0.0\n",
       "1        150     2          65   0.0\n",
       "2        155     2          55   0.0\n",
       "3        160     1          70   0.0\n",
       "4        155     2          50   0.0\n",
       "5        185     1          85   1.0\n",
       "6        165     1          80   1.0\n",
       "7        160     1          65   0.0\n",
       "8        150     2          50   0.0\n",
       "9        150     2          45   0.0"
      ]
     },
     "execution_count": 66,
     "metadata": {},
     "output_type": "execute_result"
    }
   ],
   "source": [
    "# 샘플 데이터 중 상위 10개 추출하기\n",
    "sample_df[:10]"
   ]
  },
  {
   "cell_type": "markdown",
   "metadata": {},
   "source": [
    "#### (2) 데이터 전처리하기"
   ]
  },
  {
   "cell_type": "code",
   "execution_count": 67,
   "metadata": {
    "ExecuteTime": {
     "end_time": "2023-05-04T07:11:32.579594Z",
     "start_time": "2023-05-04T07:11:32.529191Z"
    }
   },
   "outputs": [
    {
     "name": "stdout",
     "output_type": "stream",
     "text": [
      "Info 정보 확인\n",
      "<class 'pandas.core.frame.DataFrame'>\n",
      "RangeIndex: 1000000 entries, 0 to 999999\n",
      "Data columns (total 4 columns):\n",
      " #   Column      Non-Null Count    Dtype  \n",
      "---  ------      --------------    -----  \n",
      " 0   신장(5Cm단위)   1000000 non-null  int64  \n",
      " 1   성별코드        1000000 non-null  int64  \n",
      " 2   체중(5Kg 단위)  1000000 non-null  int64  \n",
      " 3   음주여부        999804 non-null   float64\n",
      "dtypes: float64(1), int64(3)\n",
      "memory usage: 30.5 MB\n"
     ]
    }
   ],
   "source": [
    "# info 정보로 결측치(Null) 확인하기\n",
    "print(\"Info 정보 확인\")\n",
    "sample_df.info()"
   ]
  },
  {
   "cell_type": "code",
   "execution_count": 68,
   "metadata": {
    "ExecuteTime": {
     "end_time": "2023-05-04T07:11:33.157934Z",
     "start_time": "2023-05-04T07:11:33.065686Z"
    }
   },
   "outputs": [],
   "source": [
    "# 100만개 데이터 중 결측치 196개, 결측치가 포함된 행 삭제하기\n",
    "sample = sample_df.dropna() "
   ]
  },
  {
   "cell_type": "code",
   "execution_count": 69,
   "metadata": {
    "ExecuteTime": {
     "end_time": "2023-05-04T07:11:33.553276Z",
     "start_time": "2023-05-04T07:11:33.512727Z"
    }
   },
   "outputs": [
    {
     "name": "stdout",
     "output_type": "stream",
     "text": [
      "Drop 후 Info 정보 확인\n",
      "<class 'pandas.core.frame.DataFrame'>\n",
      "Int64Index: 999804 entries, 0 to 999999\n",
      "Data columns (total 4 columns):\n",
      " #   Column      Non-Null Count   Dtype  \n",
      "---  ------      --------------   -----  \n",
      " 0   신장(5Cm단위)   999804 non-null  int64  \n",
      " 1   성별코드        999804 non-null  int64  \n",
      " 2   체중(5Kg 단위)  999804 non-null  int64  \n",
      " 3   음주여부        999804 non-null  float64\n",
      "dtypes: float64(1), int64(3)\n",
      "memory usage: 38.1 MB\n"
     ]
    }
   ],
   "source": [
    "# 결측치(Null) 다시 확인하기\n",
    "print(\"Drop 후 Info 정보 확인\")\n",
    "sample.info()"
   ]
  },
  {
   "cell_type": "code",
   "execution_count": 70,
   "metadata": {
    "ExecuteTime": {
     "end_time": "2023-05-04T07:11:36.755693Z",
     "start_time": "2023-05-04T07:11:33.945466Z"
    }
   },
   "outputs": [],
   "source": [
    "# 원-핫 인코딩을 위해 데이터를 object 형태로 변경하기\n",
    "sample = sample.astype('str')"
   ]
  },
  {
   "cell_type": "code",
   "execution_count": 73,
   "metadata": {
    "ExecuteTime": {
     "end_time": "2023-05-04T07:11:39.006119Z",
     "start_time": "2023-05-04T07:11:38.991329Z"
    }
   },
   "outputs": [],
   "source": [
    "# label(결과, Y) 생성하기\n",
    "y=sample.음주여부"
   ]
  },
  {
   "cell_type": "code",
   "execution_count": 74,
   "metadata": {
    "ExecuteTime": {
     "end_time": "2023-05-04T07:11:39.434226Z",
     "start_time": "2023-05-04T07:11:39.355566Z"
    }
   },
   "outputs": [],
   "source": [
    "# 음주 여부 학습 데이터 구성하기\n",
    "X=sample.drop('음주여부', axis=1)"
   ]
  },
  {
   "cell_type": "code",
   "execution_count": 75,
   "metadata": {
    "ExecuteTime": {
     "end_time": "2023-05-04T07:11:40.019493Z",
     "start_time": "2023-05-04T07:11:39.780452Z"
    }
   },
   "outputs": [
    {
     "data": {
      "text/plain": [
       "1.0    584685\n",
       "0.0    415119\n",
       "Name: 음주여부, dtype: int64"
      ]
     },
     "execution_count": 75,
     "metadata": {},
     "output_type": "execute_result"
    }
   ],
   "source": [
    "# label 데이터의 편향성 확인하기\n",
    "y.value_counts()"
   ]
  },
  {
   "cell_type": "code",
   "execution_count": 76,
   "metadata": {
    "ExecuteTime": {
     "end_time": "2023-05-04T07:11:40.705364Z",
     "start_time": "2023-05-04T07:11:40.233951Z"
    }
   },
   "outputs": [],
   "source": [
    "# 학습/검증 데이터 분리하기\n",
    "x_train, x_valid, y_train, y_valid = train_test_split(\n",
    "    X, y,\n",
    "    test_size=0.2,\n",
    "    shuffle=True,\n",
    "    random_state=34\n",
    ")"
   ]
  },
  {
   "cell_type": "markdown",
   "metadata": {},
   "source": [
    "#### (3) 의사결정나무 모델링하기"
   ]
  },
  {
   "cell_type": "code",
   "execution_count": 79,
   "metadata": {
    "ExecuteTime": {
     "end_time": "2023-05-04T07:11:41.712000Z",
     "start_time": "2023-05-04T07:11:41.562303Z"
    }
   },
   "outputs": [],
   "source": [
    "# 의사결정나무 모델 불러오기\n",
    "from sklearn.tree import DecisionTreeClassifier"
   ]
  },
  {
   "cell_type": "code",
   "execution_count": 80,
   "metadata": {
    "ExecuteTime": {
     "end_time": "2023-05-04T07:11:42.047798Z",
     "start_time": "2023-05-04T07:11:42.034761Z"
    }
   },
   "outputs": [],
   "source": [
    "# 의사결정나무 모델 생성하기\n",
    "dt = DecisionTreeClassifier(random_state = 1001, \n",
    "                            max_depth=2\n",
    "                           ) "
   ]
  },
  {
   "cell_type": "code",
   "execution_count": 81,
   "metadata": {
    "ExecuteTime": {
     "end_time": "2023-05-04T07:11:48.684844Z",
     "start_time": "2023-05-04T07:11:42.466801Z"
    }
   },
   "outputs": [],
   "source": [
    "# 의사결정나무 학습하기\n",
    "dt_model = dt.fit(x_train, y_train)"
   ]
  },
  {
   "cell_type": "code",
   "execution_count": 82,
   "metadata": {
    "ExecuteTime": {
     "end_time": "2023-05-04T07:12:00.366561Z",
     "start_time": "2023-05-04T07:11:51.367679Z"
    }
   },
   "outputs": [
    {
     "name": "stdout",
     "output_type": "stream",
     "text": [
      "학습 정확도 =  0.6622549675373792\n"
     ]
    }
   ],
   "source": [
    "# 학습 데이터 정확도 확인하기\n",
    "print(\"학습 정확도 = \", dt_model.score(x_train, y_train))"
   ]
  },
  {
   "cell_type": "code",
   "execution_count": 83,
   "metadata": {
    "ExecuteTime": {
     "end_time": "2023-05-04T07:12:07.424860Z",
     "start_time": "2023-05-04T07:12:05.610374Z"
    }
   },
   "outputs": [
    {
     "name": "stdout",
     "output_type": "stream",
     "text": [
      "검증 정확도 =  0.6618390586164302\n"
     ]
    }
   ],
   "source": [
    "# 검증 데이터 정확도 확인하기\n",
    "print(\"검증 정확도 = \", dt_model.score(x_valid, y_valid))"
   ]
  },
  {
   "cell_type": "markdown",
   "metadata": {},
   "source": [
    "#### (4) 의사결정나무 그래프 그리기"
   ]
  },
  {
   "cell_type": "code",
   "execution_count": 84,
   "metadata": {
    "ExecuteTime": {
     "end_time": "2023-05-04T07:12:43.869705Z",
     "start_time": "2023-05-04T07:12:43.858760Z"
    }
   },
   "outputs": [],
   "source": [
    "# 그래프 라이브러리(matplotlib.pyplot) 불러오기\n",
    "import matplotlib.pyplot as plt"
   ]
  },
  {
   "cell_type": "code",
   "execution_count": 85,
   "metadata": {
    "ExecuteTime": {
     "end_time": "2023-05-04T07:12:47.608900Z",
     "start_time": "2023-05-04T07:12:47.590776Z"
    }
   },
   "outputs": [],
   "source": [
    "# 트리 모양 그래프 작성을 위한 라이브러리 설치하기\n",
    "#!pip install graphviz"
   ]
  },
  {
   "cell_type": "code",
   "execution_count": 86,
   "metadata": {
    "ExecuteTime": {
     "end_time": "2023-05-04T07:12:48.832003Z",
     "start_time": "2023-05-04T07:12:48.748392Z"
    }
   },
   "outputs": [],
   "source": [
    "# 그래프 라이브러리(grphviz) 불러오기\n",
    "import graphviz\n",
    "# 사이킷런의 graphviz 지원 모듈 불러오기\n",
    "from sklearn.tree import export_graphviz\n",
    "# 그래프 생성하기\n",
    "tree_graph = graphviz.Source(export_graphviz(dt_model,\n",
    "                                class_names=[\"X\",\"O\"],\n",
    "                                feature_names=[ 'height', 'sex','weight'],\n",
    "                                impurity=True,\n",
    "                                filled=True))"
   ]
  },
  {
   "cell_type": "code",
   "execution_count": 87,
   "metadata": {
    "ExecuteTime": {
     "end_time": "2023-05-04T07:12:50.382640Z",
     "start_time": "2023-05-04T07:12:49.933231Z"
    }
   },
   "outputs": [
    {
     "data": {
      "image/svg+xml": "<?xml version=\"1.0\" encoding=\"UTF-8\" standalone=\"no\"?>\n<!DOCTYPE svg PUBLIC \"-//W3C//DTD SVG 1.1//EN\"\n \"http://www.w3.org/Graphics/SVG/1.1/DTD/svg11.dtd\">\n<!-- Generated by graphviz version 2.50.0 (20211204.2007)\n -->\n<!-- Title: Tree Pages: 1 -->\n<svg width=\"750pt\" height=\"314pt\"\n viewBox=\"0.00 0.00 750.00 314.00\" xmlns=\"http://www.w3.org/2000/svg\" xmlns:xlink=\"http://www.w3.org/1999/xlink\">\n<g id=\"graph0\" class=\"graph\" transform=\"scale(1 1) rotate(0) translate(4 310)\">\n<title>Tree</title>\n<polygon fill=\"white\" stroke=\"transparent\" points=\"-4,4 -4,-310 746,-310 746,4 -4,4\"/>\n<!-- 0 -->\n<g id=\"node1\" class=\"node\">\n<title>0</title>\n<polygon fill=\"#c6e3f7\" stroke=\"black\" points=\"452,-306 273,-306 273,-223 452,-223 452,-306\"/>\n<text text-anchor=\"middle\" x=\"362.5\" y=\"-290.8\" font-family=\"Helvetica,sans-Serif\" font-size=\"14.00\">sex &lt;= 1.5</text>\n<text text-anchor=\"middle\" x=\"362.5\" y=\"-275.8\" font-family=\"Helvetica,sans-Serif\" font-size=\"14.00\">gini = 0.486</text>\n<text text-anchor=\"middle\" x=\"362.5\" y=\"-260.8\" font-family=\"Helvetica,sans-Serif\" font-size=\"14.00\">samples = 799843</text>\n<text text-anchor=\"middle\" x=\"362.5\" y=\"-245.8\" font-family=\"Helvetica,sans-Serif\" font-size=\"14.00\">value = [332403, 467440]</text>\n<text text-anchor=\"middle\" x=\"362.5\" y=\"-230.8\" font-family=\"Helvetica,sans-Serif\" font-size=\"14.00\">class = O</text>\n</g>\n<!-- 1 -->\n<g id=\"node2\" class=\"node\">\n<title>1</title>\n<polygon fill=\"#7ebfee\" stroke=\"black\" points=\"354,-187 175,-187 175,-104 354,-104 354,-187\"/>\n<text text-anchor=\"middle\" x=\"264.5\" y=\"-171.8\" font-family=\"Helvetica,sans-Serif\" font-size=\"14.00\">height &lt;= 162.5</text>\n<text text-anchor=\"middle\" x=\"264.5\" y=\"-156.8\" font-family=\"Helvetica,sans-Serif\" font-size=\"14.00\">gini = 0.383</text>\n<text text-anchor=\"middle\" x=\"264.5\" y=\"-141.8\" font-family=\"Helvetica,sans-Serif\" font-size=\"14.00\">samples = 408709</text>\n<text text-anchor=\"middle\" x=\"264.5\" y=\"-126.8\" font-family=\"Helvetica,sans-Serif\" font-size=\"14.00\">value = [105706, 303003]</text>\n<text text-anchor=\"middle\" x=\"264.5\" y=\"-111.8\" font-family=\"Helvetica,sans-Serif\" font-size=\"14.00\">class = O</text>\n</g>\n<!-- 0&#45;&gt;1 -->\n<g id=\"edge1\" class=\"edge\">\n<title>0&#45;&gt;1</title>\n<path fill=\"none\" stroke=\"black\" d=\"M328.5,-222.91C320.9,-213.83 312.76,-204.12 304.93,-194.77\"/>\n<polygon fill=\"black\" stroke=\"black\" points=\"307.54,-192.44 298.44,-187.02 302.18,-196.93 307.54,-192.44\"/>\n<text text-anchor=\"middle\" x=\"296.24\" y=\"-208.22\" font-family=\"Helvetica,sans-Serif\" font-size=\"14.00\">True</text>\n</g>\n<!-- 4 -->\n<g id=\"node5\" class=\"node\">\n<title>4</title>\n<polygon fill=\"#f8dcc9\" stroke=\"black\" points=\"551,-187 372,-187 372,-104 551,-104 551,-187\"/>\n<text text-anchor=\"middle\" x=\"461.5\" y=\"-171.8\" font-family=\"Helvetica,sans-Serif\" font-size=\"14.00\">height &lt;= 152.5</text>\n<text text-anchor=\"middle\" x=\"461.5\" y=\"-156.8\" font-family=\"Helvetica,sans-Serif\" font-size=\"14.00\">gini = 0.487</text>\n<text text-anchor=\"middle\" x=\"461.5\" y=\"-141.8\" font-family=\"Helvetica,sans-Serif\" font-size=\"14.00\">samples = 391134</text>\n<text text-anchor=\"middle\" x=\"461.5\" y=\"-126.8\" font-family=\"Helvetica,sans-Serif\" font-size=\"14.00\">value = [226697, 164437]</text>\n<text text-anchor=\"middle\" x=\"461.5\" y=\"-111.8\" font-family=\"Helvetica,sans-Serif\" font-size=\"14.00\">class = X</text>\n</g>\n<!-- 0&#45;&gt;4 -->\n<g id=\"edge4\" class=\"edge\">\n<title>0&#45;&gt;4</title>\n<path fill=\"none\" stroke=\"black\" d=\"M396.85,-222.91C404.53,-213.83 412.74,-204.12 420.66,-194.77\"/>\n<polygon fill=\"black\" stroke=\"black\" points=\"423.43,-196.92 427.21,-187.02 418.08,-192.39 423.43,-196.92\"/>\n<text text-anchor=\"middle\" x=\"429.29\" y=\"-208.23\" font-family=\"Helvetica,sans-Serif\" font-size=\"14.00\">False</text>\n</g>\n<!-- 2 -->\n<g id=\"node3\" class=\"node\">\n<title>2</title>\n<polygon fill=\"#aad5f4\" stroke=\"black\" points=\"163,-68 0,-68 0,0 163,0 163,-68\"/>\n<text text-anchor=\"middle\" x=\"81.5\" y=\"-52.8\" font-family=\"Helvetica,sans-Serif\" font-size=\"14.00\">gini = 0.463</text>\n<text text-anchor=\"middle\" x=\"81.5\" y=\"-37.8\" font-family=\"Helvetica,sans-Serif\" font-size=\"14.00\">samples = 88379</text>\n<text text-anchor=\"middle\" x=\"81.5\" y=\"-22.8\" font-family=\"Helvetica,sans-Serif\" font-size=\"14.00\">value = [32142, 56237]</text>\n<text text-anchor=\"middle\" x=\"81.5\" y=\"-7.8\" font-family=\"Helvetica,sans-Serif\" font-size=\"14.00\">class = O</text>\n</g>\n<!-- 1&#45;&gt;2 -->\n<g id=\"edge2\" class=\"edge\">\n<title>1&#45;&gt;2</title>\n<path fill=\"none\" stroke=\"black\" d=\"M196.62,-103.88C179.97,-93.92 162.2,-83.29 145.73,-73.43\"/>\n<polygon fill=\"black\" stroke=\"black\" points=\"147.1,-70.17 136.72,-68.04 143.51,-76.18 147.1,-70.17\"/>\n</g>\n<!-- 3 -->\n<g id=\"node4\" class=\"node\">\n<title>3</title>\n<polygon fill=\"#74baed\" stroke=\"black\" points=\"352,-68 181,-68 181,0 352,0 352,-68\"/>\n<text text-anchor=\"middle\" x=\"266.5\" y=\"-52.8\" font-family=\"Helvetica,sans-Serif\" font-size=\"14.00\">gini = 0.354</text>\n<text text-anchor=\"middle\" x=\"266.5\" y=\"-37.8\" font-family=\"Helvetica,sans-Serif\" font-size=\"14.00\">samples = 320330</text>\n<text text-anchor=\"middle\" x=\"266.5\" y=\"-22.8\" font-family=\"Helvetica,sans-Serif\" font-size=\"14.00\">value = [73564, 246766]</text>\n<text text-anchor=\"middle\" x=\"266.5\" y=\"-7.8\" font-family=\"Helvetica,sans-Serif\" font-size=\"14.00\">class = O</text>\n</g>\n<!-- 1&#45;&gt;3 -->\n<g id=\"edge3\" class=\"edge\">\n<title>1&#45;&gt;3</title>\n<path fill=\"none\" stroke=\"black\" d=\"M265.24,-103.73C265.39,-95.52 265.55,-86.86 265.7,-78.56\"/>\n<polygon fill=\"black\" stroke=\"black\" points=\"269.21,-78.36 265.89,-68.3 262.21,-78.23 269.21,-78.36\"/>\n</g>\n<!-- 5 -->\n<g id=\"node6\" class=\"node\">\n<title>5</title>\n<polygon fill=\"#f1b991\" stroke=\"black\" points=\"545,-68 374,-68 374,0 545,0 545,-68\"/>\n<text text-anchor=\"middle\" x=\"459.5\" y=\"-52.8\" font-family=\"Helvetica,sans-Serif\" font-size=\"14.00\">gini = 0.426</text>\n<text text-anchor=\"middle\" x=\"459.5\" y=\"-37.8\" font-family=\"Helvetica,sans-Serif\" font-size=\"14.00\">samples = 150382</text>\n<text text-anchor=\"middle\" x=\"459.5\" y=\"-22.8\" font-family=\"Helvetica,sans-Serif\" font-size=\"14.00\">value = [104057, 46325]</text>\n<text text-anchor=\"middle\" x=\"459.5\" y=\"-7.8\" font-family=\"Helvetica,sans-Serif\" font-size=\"14.00\">class = X</text>\n</g>\n<!-- 4&#45;&gt;5 -->\n<g id=\"edge5\" class=\"edge\">\n<title>4&#45;&gt;5</title>\n<path fill=\"none\" stroke=\"black\" d=\"M460.76,-103.73C460.61,-95.52 460.45,-86.86 460.3,-78.56\"/>\n<polygon fill=\"black\" stroke=\"black\" points=\"463.79,-78.23 460.11,-68.3 456.79,-78.36 463.79,-78.23\"/>\n</g>\n<!-- 6 -->\n<g id=\"node7\" class=\"node\">\n<title>6</title>\n<polygon fill=\"#fefaf8\" stroke=\"black\" points=\"742,-68 563,-68 563,0 742,0 742,-68\"/>\n<text text-anchor=\"middle\" x=\"652.5\" y=\"-52.8\" font-family=\"Helvetica,sans-Serif\" font-size=\"14.00\">gini = 0.5</text>\n<text text-anchor=\"middle\" x=\"652.5\" y=\"-37.8\" font-family=\"Helvetica,sans-Serif\" font-size=\"14.00\">samples = 240752</text>\n<text text-anchor=\"middle\" x=\"652.5\" y=\"-22.8\" font-family=\"Helvetica,sans-Serif\" font-size=\"14.00\">value = [122640, 118112]</text>\n<text text-anchor=\"middle\" x=\"652.5\" y=\"-7.8\" font-family=\"Helvetica,sans-Serif\" font-size=\"14.00\">class = X</text>\n</g>\n<!-- 4&#45;&gt;6 -->\n<g id=\"edge6\" class=\"edge\">\n<title>4&#45;&gt;6</title>\n<path fill=\"none\" stroke=\"black\" d=\"M532.35,-103.88C549.89,-93.83 568.62,-83.09 585.94,-73.16\"/>\n<polygon fill=\"black\" stroke=\"black\" points=\"587.93,-76.05 594.86,-68.04 584.45,-69.98 587.93,-76.05\"/>\n</g>\n</g>\n</svg>\n",
      "text/plain": [
       "<graphviz.sources.Source at 0x256e6fde940>"
      ]
     },
     "execution_count": 87,
     "metadata": {},
     "output_type": "execute_result"
    }
   ],
   "source": [
    "# 그래프 출력하기\n",
    "# (참고) 에러 발생시 사이트 참조 : https://highschoolfree.tistory.com/76\n",
    "tree_graph"
   ]
  },
  {
   "cell_type": "code",
   "execution_count": 88,
   "metadata": {
    "ExecuteTime": {
     "end_time": "2023-05-04T07:12:51.642865Z",
     "start_time": "2023-05-04T07:12:51.268841Z"
    }
   },
   "outputs": [
    {
     "data": {
      "text/plain": [
       "'tree_depth5.png'"
      ]
     },
     "execution_count": 88,
     "metadata": {},
     "output_type": "execute_result"
    }
   ],
   "source": [
    "# 그래프 파일 저장하기\n",
    "tree_graph.render('tree_depth5', format=\"png\")"
   ]
  },
  {
   "cell_type": "markdown",
   "metadata": {},
   "source": [
    "### 3) 불순도 알아보기"
   ]
  },
  {
   "cell_type": "code",
   "execution_count": 89,
   "metadata": {
    "ExecuteTime": {
     "end_time": "2023-05-04T07:12:52.863683Z",
     "start_time": "2023-05-04T07:12:52.850781Z"
    }
   },
   "outputs": [],
   "source": [
    "# 불순도 함수 생성하기\n",
    "def gini(x):\n",
    "    n = x.sum() \n",
    "    gini_sum = 0\n",
    "    for key in x.keys():\n",
    "        gini_sum = gini_sum  +  (x[key] / n ) * (x[key] / n )\n",
    "    gini = 1 - gini_sum\n",
    "    return gini"
   ]
  },
  {
   "cell_type": "code",
   "execution_count": 90,
   "metadata": {
    "ExecuteTime": {
     "end_time": "2023-05-04T07:12:53.340737Z",
     "start_time": "2023-05-04T07:12:53.327271Z"
    }
   },
   "outputs": [],
   "source": [
    "# 데이터 준비하기(불순도 예시)\n",
    "과일바구니1 = ['사과']*9\n",
    "과일바구니2 = ['사과', '바나나','사과', '바나나','바나나','바나나', '복숭아','복숭아','복숭아']\n",
    "과일바구니3 = ['사과', '바나나','사과', '바나나','사과','복숭아', '복숭아','사과','복숭아']"
   ]
  },
  {
   "cell_type": "code",
   "execution_count": 91,
   "metadata": {
    "ExecuteTime": {
     "end_time": "2023-05-04T07:12:53.782850Z",
     "start_time": "2023-05-04T07:12:53.746554Z"
    }
   },
   "outputs": [
    {
     "name": "stdout",
     "output_type": "stream",
     "text": [
      "0.0\n",
      "0.642\n",
      "0.642\n"
     ]
    }
   ],
   "source": [
    "print(round(gini(pd.DataFrame(과일바구니1).value_counts()),3))\n",
    "print(round(gini(pd.DataFrame(과일바구니2).value_counts()),3))\n",
    "print(round(gini(pd.DataFrame(과일바구니3).value_counts()),3))"
   ]
  },
  {
   "attachments": {},
   "cell_type": "markdown",
   "metadata": {},
   "source": [
    "### [확인 문제]"
   ]
  },
  {
   "attachments": {},
   "cell_type": "markdown",
   "metadata": {},
   "source": [
    "#### 1. 앞에서 활용했던 데이터를 이용하여 max_depth 파라미터를 1,15,30으로 각각의 모델을 만들어 보고 validation Score가 가장 작은 max_depth 수치를 작성하시오.(단, random_state는 1001 고정)\n"
   ]
  },
  {
   "cell_type": "code",
   "execution_count": 92,
   "metadata": {
    "ExecuteTime": {
     "end_time": "2023-05-04T07:13:47.891344Z",
     "start_time": "2023-05-04T07:12:55.026746Z"
    }
   },
   "outputs": [
    {
     "name": "stdout",
     "output_type": "stream",
     "text": [
      "max_depth 1일때 train 정확도0.66, validation 정확도0.66\n",
      "max_depth 15일때 train 정확도0.68, validation 정확도0.68\n",
      "max_depth 30일때 train 정확도0.68, validation 정확도0.68\n"
     ]
    }
   ],
   "source": [
    "#for 문제 직접 리스트를 넣어서 구현하기\n",
    "for depth in [1,15,30]:\n",
    "    dt = DecisionTreeClassifier(random_state = 1001, \n",
    "                            max_depth=depth,\n",
    "                           ) \n",
    "    dt_model = dt.fit(x_train, y_train)\n",
    "    print(f'''max_depth {depth}일때 train 정확도{dt_model.score(x_train, y_train):.2f}, validation 정확도{dt_model.score(x_valid, y_valid):.2f}''')"
   ]
  },
  {
   "attachments": {},
   "cell_type": "markdown",
   "metadata": {},
   "source": [
    "#### 2. max_feature 파라미터를 1,2,3으로 각각 모델을 만들고 validation Score가 가장 높은 max_feature를 작성하세요. (단, random_state는 1001로 고정하고, max_depth에 대해 앞에서 가장 작은 max_depth 고정 후 결과 산출)"
   ]
  },
  {
   "cell_type": "code",
   "execution_count": 93,
   "metadata": {
    "ExecuteTime": {
     "end_time": "2023-05-04T07:14:49.620487Z",
     "start_time": "2023-05-04T07:13:55.217332Z"
    }
   },
   "outputs": [
    {
     "name": "stdout",
     "output_type": "stream",
     "text": [
      "max_feature 1일때 train 정확도0.67, validation 정확도0.67\n",
      "max_feature 2일때 train 정확도0.66, validation 정확도0.66\n",
      "max_feature 3일때 train 정확도0.66, validation 정확도0.66\n"
     ]
    }
   ],
   "source": [
    "# 리스트를 별도로 만들어서 max_feature 변경하고 결과 산출\n",
    "repeat_list = [1,2,3]\n",
    "for feature in repeat_list:\n",
    "    dt = DecisionTreeClassifier(random_state = 1001,\n",
    "                                max_depth=1,\n",
    "                                max_features = feature,\n",
    "                           )\n",
    "    dt_model = dt.fit(x_train, y_train)\n",
    "    print(f'''max_feature {feature}일때 train 정확도{dt_model.score(x_train, y_train):.2f}, validation 정확도{dt_model.score(x_valid, y_valid):.2f}''')"
   ]
  },
  {
   "attachments": {},
   "cell_type": "markdown",
   "metadata": {},
   "source": [
    "## 6. 랜덤포레스트(Random Forest)"
   ]
  },
  {
   "cell_type": "markdown",
   "metadata": {},
   "source": [
    "### 2) 랜덤포레스트 실습하기"
   ]
  },
  {
   "cell_type": "markdown",
   "metadata": {},
   "source": [
    "#### (1) 데이터 준비하기"
   ]
  },
  {
   "cell_type": "code",
   "execution_count": 94,
   "metadata": {
    "ExecuteTime": {
     "end_time": "2023-05-04T07:17:05.072059Z",
     "start_time": "2023-05-04T07:17:05.057901Z"
    }
   },
   "outputs": [],
   "source": [
    "# tensorflow 라이브러리 설치하기\n",
    "#!pip install tensorflow --user"
   ]
  },
  {
   "cell_type": "code",
   "execution_count": 95,
   "metadata": {
    "ExecuteTime": {
     "end_time": "2023-05-04T07:17:16.817480Z",
     "start_time": "2023-05-04T07:17:06.630110Z"
    }
   },
   "outputs": [],
   "source": [
    "# tensorflow에서 제공하는 데이터셋 mnist 불러오기\n",
    "from tensorflow.keras.datasets.mnist import load_data"
   ]
  },
  {
   "cell_type": "code",
   "execution_count": 96,
   "metadata": {
    "ExecuteTime": {
     "end_time": "2023-05-04T07:17:24.490067Z",
     "start_time": "2023-05-04T07:17:21.425173Z"
    }
   },
   "outputs": [],
   "source": [
    "# load_data로 데이터 할당하기\n",
    "(x_train, y_train), (x_test, y_test) = load_data()"
   ]
  },
  {
   "cell_type": "code",
   "execution_count": 97,
   "metadata": {
    "ExecuteTime": {
     "end_time": "2023-05-04T07:17:24.993688Z",
     "start_time": "2023-05-04T07:17:24.972332Z"
    }
   },
   "outputs": [
    {
     "name": "stdout",
     "output_type": "stream",
     "text": [
      "변경 전 =  (60000, 28, 28)\n"
     ]
    }
   ],
   "source": [
    "# 손 글씨 데이터는 이미지라 3차원 행렬\n",
    "print(\"변경 전 = \",x_train.shape)"
   ]
  },
  {
   "cell_type": "code",
   "execution_count": 98,
   "metadata": {
    "ExecuteTime": {
     "end_time": "2023-05-04T07:17:25.542596Z",
     "start_time": "2023-05-04T07:17:25.523407Z"
    }
   },
   "outputs": [],
   "source": [
    "# 3차원 행렬을 2차원으로 변경하기\n",
    "X_train = x_train.reshape(-1, 784) \n",
    "X_test = x_test.reshape(-1, 784)"
   ]
  },
  {
   "cell_type": "code",
   "execution_count": 99,
   "metadata": {
    "ExecuteTime": {
     "end_time": "2023-05-04T07:17:26.135352Z",
     "start_time": "2023-05-04T07:17:26.124196Z"
    }
   },
   "outputs": [
    {
     "name": "stdout",
     "output_type": "stream",
     "text": [
      "변경 후 =  (60000, 784)\n"
     ]
    }
   ],
   "source": [
    "# 변경 결과 확인하기\n",
    "print(\"변경 후 = \",X_train.shape)"
   ]
  },
  {
   "cell_type": "markdown",
   "metadata": {},
   "source": [
    "#### (2) 의사결정나무 모델링하기"
   ]
  },
  {
   "cell_type": "code",
   "execution_count": 100,
   "metadata": {
    "ExecuteTime": {
     "end_time": "2023-05-04T07:17:27.490865Z",
     "start_time": "2023-05-04T07:17:27.056816Z"
    }
   },
   "outputs": [],
   "source": [
    "# 필요 라이브러리 불러오기(의사결정나무, 랜덤포레스트)\n",
    "from sklearn.tree import DecisionTreeClassifier\n",
    "from sklearn.ensemble import RandomForestClassifier"
   ]
  },
  {
   "cell_type": "code",
   "execution_count": 101,
   "metadata": {
    "ExecuteTime": {
     "end_time": "2023-05-04T07:18:14.368376Z",
     "start_time": "2023-05-04T07:17:28.945952Z"
    }
   },
   "outputs": [
    {
     "data": {
      "text/plain": [
       "DecisionTreeClassifier(random_state=0)"
      ]
     },
     "execution_count": 101,
     "metadata": {},
     "output_type": "execute_result"
    }
   ],
   "source": [
    "# 의사결정나무 학습하기\n",
    "dct = DecisionTreeClassifier(random_state=0)\n",
    "dct.fit(X_train, y_train)"
   ]
  },
  {
   "cell_type": "code",
   "execution_count": 102,
   "metadata": {
    "ExecuteTime": {
     "end_time": "2023-05-04T07:19:26.813304Z",
     "start_time": "2023-05-04T07:19:26.523596Z"
    }
   },
   "outputs": [],
   "source": [
    "# 의사결정나무 결과확인하기\n",
    "acc_train_dct = dct.score(X_train,y_train)\n",
    "acc_test_dct = dct.score(X_test,y_test)"
   ]
  },
  {
   "cell_type": "code",
   "execution_count": 103,
   "metadata": {
    "ExecuteTime": {
     "end_time": "2023-05-04T07:19:27.073803Z",
     "start_time": "2023-05-04T07:19:27.044258Z"
    }
   },
   "outputs": [
    {
     "name": "stdout",
     "output_type": "stream",
     "text": [
      "학습결과 = 1.0,검증결과 = 0.8781 \n"
     ]
    }
   ],
   "source": [
    "print(f'''학습결과 = {acc_train_dct},검증결과 = {acc_test_dct} ''')"
   ]
  },
  {
   "cell_type": "markdown",
   "metadata": {},
   "source": [
    "#### (3) 랜덤포레스트 모델링 및 결과 비교하기"
   ]
  },
  {
   "cell_type": "code",
   "execution_count": 104,
   "metadata": {
    "ExecuteTime": {
     "end_time": "2023-05-04T07:21:12.636605Z",
     "start_time": "2023-05-04T07:19:27.932411Z"
    }
   },
   "outputs": [
    {
     "data": {
      "text/plain": [
       "RandomForestClassifier(random_state=0)"
      ]
     },
     "execution_count": 104,
     "metadata": {},
     "output_type": "execute_result"
    }
   ],
   "source": [
    "# 랜덤포레스트 학습하기\n",
    "rfc = RandomForestClassifier(random_state=0)\n",
    "rfc.fit(X_train, y_train)"
   ]
  },
  {
   "cell_type": "code",
   "execution_count": 105,
   "metadata": {
    "ExecuteTime": {
     "end_time": "2023-05-04T07:22:34.171830Z",
     "start_time": "2023-05-04T07:22:28.843756Z"
    }
   },
   "outputs": [],
   "source": [
    "# 랜덤포레스트 결과 보기\n",
    "acc_train_rfc = rfc.score(X_train,y_train)\n",
    "acc_test_rfc = rfc.score(X_test,y_test)"
   ]
  },
  {
   "cell_type": "code",
   "execution_count": 106,
   "metadata": {
    "ExecuteTime": {
     "end_time": "2023-05-04T07:23:29.109293Z",
     "start_time": "2023-05-04T07:23:29.092123Z"
    }
   },
   "outputs": [
    {
     "name": "stdout",
     "output_type": "stream",
     "text": [
      "의사결정나무: train_acc = 1.0, test_acc = 0.878\n",
      "랜덤포레스트: train_acc = 1.0, test_acc = 0.97\n"
     ]
    }
   ],
   "source": [
    "# 학습 결과 수치로 출력하기\n",
    "print(f\"\"\"의사결정나무: train_acc = {round(acc_train_dct,3)}, test_acc = {round(acc_test_dct,3)}\"\"\")\n",
    "print(f\"\"\"랜덤포레스트: train_acc = {round(acc_train_rfc,3)}, test_acc = {round(acc_test_rfc,3)}\"\"\")"
   ]
  },
  {
   "cell_type": "code",
   "execution_count": 107,
   "metadata": {
    "ExecuteTime": {
     "end_time": "2023-05-04T07:23:29.766233Z",
     "start_time": "2023-05-04T07:23:29.447884Z"
    }
   },
   "outputs": [
    {
     "data": {
      "image/png": "[encoded data removed]",
      "text/plain": [
       "<Figure size 640x480 with 1 Axes>"
      ]
     },
     "metadata": {},
     "output_type": "display_data"
    }
   ],
   "source": [
    "# 랜덤포레스트 결과를 토대로 비교 그래프 그리기\n",
    "import matplotlib.pyplot as plt\n",
    "# x 축 정의하기\n",
    "acc_list_x = ['dct_train', 'dct_test', 'rfc_train', 'rfc_test']\n",
    "# y 축 정의\n",
    "acc_list_y = [acc_train_dct, acc_test_dct, acc_train_rfc, acc_test_rfc]\n",
    "# 막대그래프 차트 색 정의하기\n",
    "colors = ['orange', 'orange' , 'blue', 'blue']\n",
    "# 막대그래프 설정하기\n",
    "plt.bar(acc_list_x, acc_list_y, color=colors)\n",
    "# 화면 출력하기\n",
    "plt.show()"
   ]
  },
  {
   "cell_type": "markdown",
   "metadata": {},
   "source": [
    "### 3) 랜덤포레스트와 의사결정나무 비교하기"
   ]
  },
  {
   "cell_type": "code",
   "execution_count": 108,
   "metadata": {
    "ExecuteTime": {
     "end_time": "2023-05-04T07:24:24.985733Z",
     "start_time": "2023-05-04T07:23:35.682775Z"
    }
   },
   "outputs": [
    {
     "data": {
      "text/plain": [
       "RandomForestClassifier(bootstrap=False, max_features=None, n_estimators=1,\n",
       "                       random_state=0)"
      ]
     },
     "execution_count": 108,
     "metadata": {},
     "output_type": "execute_result"
    }
   ],
   "source": [
    "# 의사결정나무 결과와 동일하게 랜덤포레스트 구성하기\n",
    "rft = RandomForestClassifier(\n",
    "    random_state=0, \n",
    "    # 나무 개수를 1개로 설정하기\n",
    "    n_estimators=1,\n",
    "    # max_feature는 의사결정나무 기준으로 변경하기\n",
    "    max_features=None,\n",
    "    # 부트스트랩 샘플링은 OFF하기\n",
    "    bootstrap=False,\n",
    ")\n",
    "rft.fit(X_train, y_train)"
   ]
  },
  {
   "cell_type": "code",
   "execution_count": 109,
   "metadata": {
    "ExecuteTime": {
     "end_time": "2023-05-04T07:24:29.188246Z",
     "start_time": "2023-05-04T07:24:28.638715Z"
    }
   },
   "outputs": [],
   "source": [
    "# 학습 결과 저장하기\n",
    "acc_train_rfc = rft.score(X_train,y_train)\n",
    "acc_test_rfc = rft.score(X_test,y_test)\n",
    "acc_train_dct = dct.score(X_train,y_train)\n",
    "acc_test_dct = dct.score(X_test,y_test)"
   ]
  },
  {
   "cell_type": "code",
   "execution_count": 110,
   "metadata": {
    "ExecuteTime": {
     "end_time": "2023-05-04T07:24:29.827077Z",
     "start_time": "2023-05-04T07:24:29.803726Z"
    },
    "scrolled": true
   },
   "outputs": [
    {
     "name": "stdout",
     "output_type": "stream",
     "text": [
      "의사결정나무: train_acc = 1.0, test_acc = 0.878\n",
      "랜덤포레스트: train_acc = 1.0, test_acc = 0.877\n"
     ]
    }
   ],
   "source": [
    "#의사결정나무 & 랜덤포레스트가 유사한 결과를 출력하는지 비교하기\n",
    "print(f\"\"\"의사결정나무: train_acc = {round(acc_train_dct,3)}, test_acc = {round(acc_test_dct,3)}\"\"\")\n",
    "print(f\"\"\"랜덤포레스트: train_acc = {round(acc_train_rfc,3)}, test_acc = {round(acc_test_rfc,3)}\"\"\")"
   ]
  },
  {
   "attachments": {},
   "cell_type": "markdown",
   "metadata": {},
   "source": [
    "### [확인 문제]"
   ]
  },
  {
   "attachments": {},
   "cell_type": "markdown",
   "metadata": {},
   "source": [
    "#### 1. Max_features 의 값을 40, 50, 60 으로 변경해보고 가장 좋은 결과값을 작성 하세요. (단, random_state는 0으로 고정)"
   ]
  },
  {
   "cell_type": "code",
   "execution_count": 111,
   "metadata": {
    "ExecuteTime": {
     "end_time": "2023-05-04T07:26:39.350154Z",
     "start_time": "2023-05-04T07:24:45.012511Z"
    }
   },
   "outputs": [
    {
     "name": "stdout",
     "output_type": "stream",
     "text": [
      "40\n",
      "max_features 40일 때 train_acc =1.0, test_acc = 0.97\n",
      "50\n",
      "max_features 50일 때 train_acc =1.0, test_acc = 0.971\n",
      "60\n",
      "max_features 60일 때 train_acc =1.0, test_acc = 0.97\n"
     ]
    }
   ],
   "source": [
    "max_features = [40,50,60]\n",
    "for max_feature in max_features:\n",
    "    print(max_feature)\n",
    "    rfc = RandomForestClassifier(max_features = max_feature,\n",
    "                                 n_jobs= -1, \n",
    "                                 random_state = 0)\n",
    "    rfc.fit(X_train, y_train)\n",
    "    acc_train_dct = rfc.score(X_train,y_train)\n",
    "    acc_test_dct = rfc.score(X_test,y_test)\n",
    "    print(f\"\"\"max_features {max_feature}일 때 train_acc ={round(acc_train_dct,3)}, test_acc = {round(acc_test_dct,3)}\"\"\")"
   ]
  },
  {
   "attachments": {},
   "cell_type": "markdown",
   "metadata": {},
   "source": [
    "## 7. 그라디언트 부스팅 (gradient boosting)"
   ]
  },
  {
   "cell_type": "markdown",
   "metadata": {},
   "source": [
    "### 2) 그라디언트 부스팅 실습하기"
   ]
  },
  {
   "cell_type": "markdown",
   "metadata": {},
   "source": [
    "#### (1) 데이터 준비하기"
   ]
  },
  {
   "cell_type": "code",
   "execution_count": 112,
   "metadata": {
    "ExecuteTime": {
     "end_time": "2023-05-04T07:26:56.414848Z",
     "start_time": "2023-05-04T07:26:56.407698Z"
    }
   },
   "outputs": [],
   "source": [
    "# tensorflow에서 데이터 불러오기\n",
    "from tensorflow.keras.datasets.mnist import load_data\n",
    "# 그래프 라이브러리 불러오기\n",
    "import matplotlib.pyplot as plt"
   ]
  },
  {
   "cell_type": "code",
   "execution_count": 113,
   "metadata": {
    "ExecuteTime": {
     "end_time": "2023-05-04T07:26:57.476319Z",
     "start_time": "2023-05-04T07:26:56.826442Z"
    }
   },
   "outputs": [],
   "source": [
    "# 데이터 불러오기\n",
    "(x_train, y_train), (x_test, y_test) = load_data()\n",
    "\n",
    "# 학습시간 고려해서 2000건 데이터만 사용하기\n",
    "x_train = x_train[:2000]\n",
    "y_train = y_train[:2000]\n",
    "x_test = x_test[:2000]\n",
    "y_test = y_test[:2000]"
   ]
  },
  {
   "cell_type": "code",
   "execution_count": 114,
   "metadata": {
    "ExecuteTime": {
     "end_time": "2023-05-04T07:27:03.605749Z",
     "start_time": "2023-05-04T07:27:03.253847Z"
    }
   },
   "outputs": [
    {
     "data": {
      "image/png": "[encoded data removed]",
      "text/plain": [
       "<Figure size 640x480 with 1 Axes>"
      ]
     },
     "metadata": {},
     "output_type": "display_data"
    }
   ],
   "source": [
    "# 샘플 데이터 확인하기\n",
    "plt.imshow(x_train[7], cmap='Greys')\n",
    "plt.show()"
   ]
  },
  {
   "cell_type": "code",
   "execution_count": 115,
   "metadata": {
    "ExecuteTime": {
     "end_time": "2023-05-04T07:27:04.551918Z",
     "start_time": "2023-05-04T07:27:04.227243Z"
    }
   },
   "outputs": [
    {
     "data": {
      "image/png": "[encoded data removed]",
      "text/plain": [
       "<Figure size 640x480 with 1 Axes>"
      ]
     },
     "metadata": {},
     "output_type": "display_data"
    }
   ],
   "source": [
    "# 샘플 데이터 확인하기\n",
    "plt.imshow(x_train[1], cmap='Greys')\n",
    "plt.show()"
   ]
  },
  {
   "cell_type": "code",
   "execution_count": 116,
   "metadata": {
    "ExecuteTime": {
     "end_time": "2023-05-04T07:27:32.526844Z",
     "start_time": "2023-05-04T07:27:32.506002Z"
    }
   },
   "outputs": [],
   "source": [
    "# 학습을 위한 2차원 행렬로 변경하기\n",
    "X_train = x_train.reshape(-1, 784)\n",
    "X_test = x_test.reshape(-1, 784)"
   ]
  },
  {
   "cell_type": "markdown",
   "metadata": {},
   "source": [
    "#### (2) 알고리즘 별 학습 및 결과 비교하기"
   ]
  },
  {
   "cell_type": "code",
   "execution_count": 117,
   "metadata": {
    "ExecuteTime": {
     "end_time": "2023-05-04T07:27:33.686192Z",
     "start_time": "2023-05-04T07:27:33.666201Z"
    }
   },
   "outputs": [],
   "source": [
    "# 의사결정나무, 랜덤포레스트, 그라디언트부스팅 라이브러리 불러오기\n",
    "from sklearn.tree import DecisionTreeClassifier\n",
    "from sklearn.ensemble import RandomForestClassifier\n",
    "from sklearn.ensemble import GradientBoostingClassifier"
   ]
  },
  {
   "cell_type": "code",
   "execution_count": 118,
   "metadata": {
    "ExecuteTime": {
     "end_time": "2023-05-04T07:27:35.026536Z",
     "start_time": "2023-05-04T07:27:34.337797Z"
    }
   },
   "outputs": [
    {
     "data": {
      "text/plain": [
       "DecisionTreeClassifier(random_state=0)"
      ]
     },
     "execution_count": 118,
     "metadata": {},
     "output_type": "execute_result"
    }
   ],
   "source": [
    "# 의사결정나무 불러오기 및 학습하기\n",
    "dct = DecisionTreeClassifier(random_state=0)\n",
    "dct.fit(X_train, y_train)"
   ]
  },
  {
   "cell_type": "code",
   "execution_count": 119,
   "metadata": {
    "ExecuteTime": {
     "end_time": "2023-05-04T07:27:36.775228Z",
     "start_time": "2023-05-04T07:27:36.745855Z"
    }
   },
   "outputs": [],
   "source": [
    "# 의사결정나무 학습 결과 저장하기\n",
    "acc_train_dct = dct.score(X_train,y_train)\n",
    "acc_test_dct = dct.score(X_test,y_test)"
   ]
  },
  {
   "cell_type": "code",
   "execution_count": 120,
   "metadata": {
    "ExecuteTime": {
     "end_time": "2023-05-04T07:27:39.947643Z",
     "start_time": "2023-05-04T07:27:37.283557Z"
    }
   },
   "outputs": [
    {
     "data": {
      "text/plain": [
       "RandomForestClassifier(random_state=0)"
      ]
     },
     "execution_count": 120,
     "metadata": {},
     "output_type": "execute_result"
    }
   ],
   "source": [
    "# 랜덤포레스트 불러오기 및 학습하기\n",
    "rfc = RandomForestClassifier(random_state=0)\n",
    "rfc.fit(X_train, y_train)"
   ]
  },
  {
   "cell_type": "code",
   "execution_count": 121,
   "metadata": {
    "ExecuteTime": {
     "end_time": "2023-05-04T07:27:42.323873Z",
     "start_time": "2023-05-04T07:27:42.026444Z"
    }
   },
   "outputs": [],
   "source": [
    "# 랜덤포레스트 학습 결과 저장하기\n",
    "acc_train_rfc = rfc.score(X_train,y_train)\n",
    "acc_test_rfc = rfc.score(X_test,y_test)"
   ]
  },
  {
   "cell_type": "code",
   "execution_count": 122,
   "metadata": {
    "ExecuteTime": {
     "end_time": "2023-05-04T07:31:41.841362Z",
     "start_time": "2023-05-04T07:27:44.456281Z"
    }
   },
   "outputs": [
    {
     "name": "stdout",
     "output_type": "stream",
     "text": [
      "      Iter       Train Loss   Remaining Time \n",
      "         1           1.8398            3.15m\n",
      "         2           1.5879            3.12m\n",
      "         3           1.4024            3.13m\n",
      "         4           1.2584            3.17m\n",
      "         5           1.1338            3.05m\n",
      "         6           1.0258            2.92m\n",
      "         7           0.9359            2.84m\n",
      "         8           0.8556            2.79m\n",
      "         9           0.7863            2.71m\n",
      "        10           0.7247            2.69m\n",
      "        20           0.3653            2.50m\n",
      "        30           0.2167            2.22m\n",
      "        40           0.1423            1.93m\n",
      "        50           0.0982            1.63m\n",
      "        60           0.0720            1.31m\n",
      "        70           0.0540           58.68s\n",
      "        80           0.0410           39.18s\n",
      "        90           0.0321           19.61s\n",
      "       100           0.0252            0.00s\n"
     ]
    },
    {
     "data": {
      "text/plain": [
       "GradientBoostingClassifier(random_state=0, verbose=1)"
      ]
     },
     "execution_count": 122,
     "metadata": {},
     "output_type": "execute_result"
    }
   ],
   "source": [
    "# 그라디언트부스팅 불러오기 및 학습하기\n",
    "gbc = GradientBoostingClassifier(random_state=0, verbose=1)\n",
    "gbc.fit(X_train, y_train)"
   ]
  },
  {
   "cell_type": "code",
   "execution_count": 123,
   "metadata": {
    "ExecuteTime": {
     "end_time": "2023-05-04T07:33:01.859430Z",
     "start_time": "2023-05-04T07:33:01.571677Z"
    }
   },
   "outputs": [],
   "source": [
    "# 그라디언트부스팅 학습 결과 저장하기\n",
    "acc_train_gbc = gbc.score(X_train,y_train)\n",
    "acc_test_gbc = gbc.score(X_test,y_test)"
   ]
  },
  {
   "cell_type": "code",
   "execution_count": 124,
   "metadata": {
    "ExecuteTime": {
     "end_time": "2023-05-04T07:33:04.385602Z",
     "start_time": "2023-05-04T07:33:04.371972Z"
    }
   },
   "outputs": [
    {
     "name": "stdout",
     "output_type": "stream",
     "text": [
      "의사결정나무: train_acc = 1.0, test_acc = 0.652\n",
      "랜덤포레스트: train_acc = 1.0, test_acc = 0.874\n",
      "그라디언트부스팅: train_acc = 1.0, test_acc = 0.828\n"
     ]
    }
   ],
   "source": [
    "# 각 알고리즘별 성능 비교하기\n",
    "print(f\"\"\"의사결정나무: train_acc = {round(acc_train_dct,3)}, test_acc = {round(acc_test_dct,3)}\"\"\")\n",
    "print(f\"\"\"랜덤포레스트: train_acc = {round(acc_train_rfc,3)}, test_acc = {round(acc_test_rfc,3)}\"\"\")\n",
    "print(f\"\"\"그라디언트부스팅: train_acc = {round(acc_train_gbc,3)}, test_acc = {round(acc_test_gbc,3)}\"\"\")"
   ]
  },
  {
   "cell_type": "code",
   "execution_count": 125,
   "metadata": {
    "ExecuteTime": {
     "end_time": "2023-05-04T07:33:05.497567Z",
     "start_time": "2023-05-04T07:33:05.123441Z"
    }
   },
   "outputs": [
    {
     "data": {
      "image/png": "[encoded data removed]",
      "text/plain": [
       "<Figure size 640x480 with 1 Axes>"
      ]
     },
     "metadata": {},
     "output_type": "display_data"
    }
   ],
   "source": [
    "# 비교 그래프 그리기\n",
    "import matplotlib.pyplot as plt\n",
    "acc_list_x = ['dct_train', 'dct_test', 'rfc_train', 'rfc_test', 'gbc_train', 'gbc_test', ]\n",
    "acc_list_y = [acc_train_dct, acc_test_dct, acc_train_rfc, acc_test_rfc, acc_train_gbc, acc_test_gbc]\n",
    "colors = ['orange', 'orange' , 'blue', 'blue', 'red', 'red']\n",
    "plt.bar(acc_list_x,acc_list_y, color=colors)\n",
    "plt.ylim([0.8,1.0])\n",
    "plt.show()"
   ]
  },
  {
   "attachments": {},
   "cell_type": "markdown",
   "metadata": {},
   "source": [
    "### [확인 문제]"
   ]
  },
  {
   "attachments": {},
   "cell_type": "markdown",
   "metadata": {},
   "source": [
    "#### 1. 그래디언트 부스팅 알고리즘으로 n_estimator를 200으로 설정(기본값은 100)하여 학습시켜 보고 기존 그래디언트 부스팅 결과와 비교하는 그래프 코드를 작성하세요."
   ]
  },
  {
   "cell_type": "code",
   "execution_count": 126,
   "metadata": {
    "ExecuteTime": {
     "end_time": "2023-05-04T07:41:27.256636Z",
     "start_time": "2023-05-04T07:33:27.789933Z"
    }
   },
   "outputs": [
    {
     "name": "stdout",
     "output_type": "stream",
     "text": [
      "      Iter       Train Loss   Remaining Time \n",
      "         1           1.8398            7.24m\n",
      "         2           1.5879            7.37m\n",
      "         3           1.4024            7.17m\n",
      "         4           1.2584            7.30m\n",
      "         5           1.1338            7.24m\n",
      "         6           1.0258            7.21m\n",
      "         7           0.9359            7.08m\n",
      "         8           0.8556            6.91m\n",
      "         9           0.7863            6.80m\n",
      "        10           0.7247            6.69m\n",
      "        20           0.3653            6.06m\n",
      "        30           0.2167            5.73m\n",
      "        40           0.1423            5.40m\n",
      "        50           0.0982            5.07m\n",
      "        60           0.0720            4.70m\n",
      "        70           0.0540            4.36m\n",
      "        80           0.0410            4.04m\n",
      "        90           0.0321            3.69m\n",
      "       100           0.0252            3.36m\n",
      "       200           0.0024            0.00s\n"
     ]
    },
    {
     "data": {
      "text/plain": [
       "GradientBoostingClassifier(n_estimators=200, random_state=0, verbose=1)"
      ]
     },
     "execution_count": 126,
     "metadata": {},
     "output_type": "execute_result"
    }
   ],
   "source": [
    "# 그라디언트부스팅 불러오기 및 학습하기\n",
    "gbc_200 = GradientBoostingClassifier(random_state=0, \n",
    "                                 n_estimators=200,\n",
    "                                verbose=1)\n",
    "gbc_200.fit(X_train, y_train)"
   ]
  },
  {
   "cell_type": "code",
   "execution_count": 127,
   "metadata": {
    "ExecuteTime": {
     "end_time": "2023-05-04T07:41:33.622875Z",
     "start_time": "2023-05-04T07:41:33.132161Z"
    }
   },
   "outputs": [],
   "source": [
    "# 그라디언트부스팅 학습 결과 다시 저장하기\n",
    "acc_train_gbc_200 = gbc_200.score(X_train,y_train)\n",
    "acc_test_gbc_200 = gbc_200.score(X_test,y_test)"
   ]
  },
  {
   "cell_type": "code",
   "execution_count": 128,
   "metadata": {
    "ExecuteTime": {
     "end_time": "2023-05-04T07:41:34.538096Z",
     "start_time": "2023-05-04T07:41:34.523746Z"
    }
   },
   "outputs": [
    {
     "name": "stdout",
     "output_type": "stream",
     "text": [
      "그라디언트부스팅: train_acc = 1.0, test_acc = 0.828\n",
      "튜닝 그라디언트부스팅: train_acc = 1.0, test_acc = 0.844\n"
     ]
    }
   ],
   "source": [
    "print(f\"\"\"그라디언트부스팅: train_acc = {round(acc_train_gbc,3)}, test_acc = {round(acc_test_gbc,3)}\"\"\")\n",
    "print(f\"\"\"튜닝 그라디언트부스팅: train_acc = {round(acc_train_gbc_200,3)}, test_acc = {round(acc_test_gbc_200,3)}\"\"\")"
   ]
  },
  {
   "cell_type": "code",
   "execution_count": 129,
   "metadata": {
    "ExecuteTime": {
     "end_time": "2023-05-04T07:41:35.852029Z",
     "start_time": "2023-05-04T07:41:35.508163Z"
    }
   },
   "outputs": [
    {
     "data": {
      "image/png": "[encoded data removed]",
      "text/plain": [
       "<Figure size 640x480 with 1 Axes>"
      ]
     },
     "metadata": {},
     "output_type": "display_data"
    }
   ],
   "source": [
    "import matplotlib.pyplot as plt\n",
    "acc_list_x = ['gbc_train', 'gbc_test', 'tune_gbc_train', 'tune_gbc_test', ]\n",
    "acc_list_y = [acc_train_gbc, acc_train_gbc, acc_train_gbc_200, acc_test_gbc_200]\n",
    "colors = ['orange', 'orange' , 'blue', 'blue']\n",
    "plt.bar(acc_list_x,acc_list_y, color=colors)\n",
    "plt.ylim([0.8,1.0])\n",
    "plt.show()"
   ]
  },
  {
   "cell_type": "code",
   "execution_count": null,
   "metadata": {},
   "outputs": [],
   "source": []
  },
  {
   "cell_type": "code",
   "execution_count": null,
   "metadata": {},
   "outputs": [],
   "source": []
  }
 ],
 "metadata": {
  "hide_input": false,
  "kernelspec": {
   "display_name": "Python 3 (ipykernel)",
   "language": "python",
   "name": "python3"
  },
  "language_info": {
   "codemirror_mode": {
    "name": "ipython",
    "version": 3
   },
   "file_extension": ".py",
   "mimetype": "text/x-python",
   "name": "python",
   "nbconvert_exporter": "python",
   "pygments_lexer": "ipython3",
   "version": "3.9.13"
  },
  "toc": {
   "base_numbering": 1,
   "nav_menu": {},
   "number_sections": true,
   "sideBar": true,
   "skip_h1_title": false,
   "title_cell": "Table of Contents",
   "title_sidebar": "Contents",
   "toc_cell": false,
   "toc_position": {},
   "toc_section_display": true,
   "toc_window_display": false
  },
  "varInspector": {
   "cols": {
    "lenName": 16,
    "lenType": 16,
    "lenVar": 40
   },
   "kernels_config": {
    "python": {
     "delete_cmd_postfix": "",
     "delete_cmd_prefix": "del ",
     "library": "var_list.py",
     "varRefreshCmd": "print(var_dic_list())"
    },
    "r": {
     "delete_cmd_postfix": ") ",
     "delete_cmd_prefix": "rm(",
     "library": "var_list.r",
     "varRefreshCmd": "cat(var_dic_list()) "
    }
   },
   "types_to_exclude": [
    "module",
    "function",
    "builtin_function_or_method",
    "instance",
    "_Feature"
   ],
   "window_display": false
  },
  "vscode": {
   "interpreter": {
    "hash": "ad2bdc8ecc057115af97d19610ffacc2b4e99fae6737bb82f5d7fb13d2f2c186"
   }
  }
 },
 "nbformat": 4,
 "nbformat_minor": 2
}
